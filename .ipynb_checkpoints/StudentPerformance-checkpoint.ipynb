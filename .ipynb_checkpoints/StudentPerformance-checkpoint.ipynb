{
 "cells": [
  {
   "cell_type": "markdown",
   "metadata": {},
   "source": [
    "### Import Libraries"
   ]
  },
  {
   "cell_type": "code",
   "execution_count": 39,
   "metadata": {},
   "outputs": [],
   "source": [
    "#Import libraries\n",
    "import pandas as pd\n",
    "import numpy as np\n",
    "import matplotlib.pyplot as plt\n",
    "import seaborn as sns\n",
    "%matplotlib inline"
   ]
  },
  {
   "cell_type": "markdown",
   "metadata": {},
   "source": [
    "### Import Data"
   ]
  },
  {
   "cell_type": "code",
   "execution_count": 40,
   "metadata": {},
   "outputs": [],
   "source": [
    "df=pd.read_csv('StudentsPerformance.csv')"
   ]
  },
  {
   "cell_type": "markdown",
   "metadata": {},
   "source": [
    "### Inspect Data"
   ]
  },
  {
   "cell_type": "code",
   "execution_count": 41,
   "metadata": {
    "scrolled": true
   },
   "outputs": [
    {
     "data": {
      "text/html": [
       "<div>\n",
       "<style scoped>\n",
       "    .dataframe tbody tr th:only-of-type {\n",
       "        vertical-align: middle;\n",
       "    }\n",
       "\n",
       "    .dataframe tbody tr th {\n",
       "        vertical-align: top;\n",
       "    }\n",
       "\n",
       "    .dataframe thead th {\n",
       "        text-align: right;\n",
       "    }\n",
       "</style>\n",
       "<table border=\"1\" class=\"dataframe\">\n",
       "  <thead>\n",
       "    <tr style=\"text-align: right;\">\n",
       "      <th></th>\n",
       "      <th>gender</th>\n",
       "      <th>race/ethnicity</th>\n",
       "      <th>parental level of education</th>\n",
       "      <th>lunch</th>\n",
       "      <th>test preparation course</th>\n",
       "      <th>math score</th>\n",
       "      <th>reading score</th>\n",
       "      <th>writing score</th>\n",
       "    </tr>\n",
       "  </thead>\n",
       "  <tbody>\n",
       "    <tr>\n",
       "      <th>0</th>\n",
       "      <td>female</td>\n",
       "      <td>group B</td>\n",
       "      <td>bachelor's degree</td>\n",
       "      <td>standard</td>\n",
       "      <td>none</td>\n",
       "      <td>72</td>\n",
       "      <td>72</td>\n",
       "      <td>74</td>\n",
       "    </tr>\n",
       "    <tr>\n",
       "      <th>1</th>\n",
       "      <td>female</td>\n",
       "      <td>group C</td>\n",
       "      <td>some college</td>\n",
       "      <td>standard</td>\n",
       "      <td>completed</td>\n",
       "      <td>69</td>\n",
       "      <td>90</td>\n",
       "      <td>88</td>\n",
       "    </tr>\n",
       "    <tr>\n",
       "      <th>2</th>\n",
       "      <td>female</td>\n",
       "      <td>group B</td>\n",
       "      <td>master's degree</td>\n",
       "      <td>standard</td>\n",
       "      <td>none</td>\n",
       "      <td>90</td>\n",
       "      <td>95</td>\n",
       "      <td>93</td>\n",
       "    </tr>\n",
       "    <tr>\n",
       "      <th>3</th>\n",
       "      <td>male</td>\n",
       "      <td>group A</td>\n",
       "      <td>associate's degree</td>\n",
       "      <td>free/reduced</td>\n",
       "      <td>none</td>\n",
       "      <td>47</td>\n",
       "      <td>57</td>\n",
       "      <td>44</td>\n",
       "    </tr>\n",
       "    <tr>\n",
       "      <th>4</th>\n",
       "      <td>male</td>\n",
       "      <td>group C</td>\n",
       "      <td>some college</td>\n",
       "      <td>standard</td>\n",
       "      <td>none</td>\n",
       "      <td>76</td>\n",
       "      <td>78</td>\n",
       "      <td>75</td>\n",
       "    </tr>\n",
       "  </tbody>\n",
       "</table>\n",
       "</div>"
      ],
      "text/plain": [
       "   gender race/ethnicity parental level of education         lunch  \\\n",
       "0  female        group B           bachelor's degree      standard   \n",
       "1  female        group C                some college      standard   \n",
       "2  female        group B             master's degree      standard   \n",
       "3    male        group A          associate's degree  free/reduced   \n",
       "4    male        group C                some college      standard   \n",
       "\n",
       "  test preparation course  math score  reading score  writing score  \n",
       "0                    none          72             72             74  \n",
       "1               completed          69             90             88  \n",
       "2                    none          90             95             93  \n",
       "3                    none          47             57             44  \n",
       "4                    none          76             78             75  "
      ]
     },
     "execution_count": 41,
     "metadata": {},
     "output_type": "execute_result"
    }
   ],
   "source": [
    "df.head()\n",
    "#There are three scores. May create an additional score \n",
    "#  that averages all three. Each of the scores will be a target \n",
    "#  variable/feature\n"
   ]
  },
  {
   "cell_type": "code",
   "execution_count": 42,
   "metadata": {},
   "outputs": [
    {
     "name": "stdout",
     "output_type": "stream",
     "text": [
      "<class 'pandas.core.frame.DataFrame'>\n",
      "RangeIndex: 1000 entries, 0 to 999\n",
      "Data columns (total 8 columns):\n",
      "gender                         1000 non-null object\n",
      "race/ethnicity                 1000 non-null object\n",
      "parental level of education    1000 non-null object\n",
      "lunch                          1000 non-null object\n",
      "test preparation course        1000 non-null object\n",
      "math score                     1000 non-null int64\n",
      "reading score                  1000 non-null int64\n",
      "writing score                  1000 non-null int64\n",
      "dtypes: int64(3), object(5)\n",
      "memory usage: 62.6+ KB\n"
     ]
    }
   ],
   "source": [
    "df.info()\n",
    "# There are 1000 rows of data and 8 columns/features"
   ]
  },
  {
   "cell_type": "code",
   "execution_count": 43,
   "metadata": {},
   "outputs": [
    {
     "data": {
      "text/html": [
       "<div>\n",
       "<style scoped>\n",
       "    .dataframe tbody tr th:only-of-type {\n",
       "        vertical-align: middle;\n",
       "    }\n",
       "\n",
       "    .dataframe tbody tr th {\n",
       "        vertical-align: top;\n",
       "    }\n",
       "\n",
       "    .dataframe thead th {\n",
       "        text-align: right;\n",
       "    }\n",
       "</style>\n",
       "<table border=\"1\" class=\"dataframe\">\n",
       "  <thead>\n",
       "    <tr style=\"text-align: right;\">\n",
       "      <th></th>\n",
       "      <th>math score</th>\n",
       "      <th>reading score</th>\n",
       "      <th>writing score</th>\n",
       "    </tr>\n",
       "  </thead>\n",
       "  <tbody>\n",
       "    <tr>\n",
       "      <th>count</th>\n",
       "      <td>1000.00000</td>\n",
       "      <td>1000.000000</td>\n",
       "      <td>1000.000000</td>\n",
       "    </tr>\n",
       "    <tr>\n",
       "      <th>mean</th>\n",
       "      <td>66.08900</td>\n",
       "      <td>69.169000</td>\n",
       "      <td>68.054000</td>\n",
       "    </tr>\n",
       "    <tr>\n",
       "      <th>std</th>\n",
       "      <td>15.16308</td>\n",
       "      <td>14.600192</td>\n",
       "      <td>15.195657</td>\n",
       "    </tr>\n",
       "    <tr>\n",
       "      <th>min</th>\n",
       "      <td>0.00000</td>\n",
       "      <td>17.000000</td>\n",
       "      <td>10.000000</td>\n",
       "    </tr>\n",
       "    <tr>\n",
       "      <th>25%</th>\n",
       "      <td>57.00000</td>\n",
       "      <td>59.000000</td>\n",
       "      <td>57.750000</td>\n",
       "    </tr>\n",
       "    <tr>\n",
       "      <th>50%</th>\n",
       "      <td>66.00000</td>\n",
       "      <td>70.000000</td>\n",
       "      <td>69.000000</td>\n",
       "    </tr>\n",
       "    <tr>\n",
       "      <th>75%</th>\n",
       "      <td>77.00000</td>\n",
       "      <td>79.000000</td>\n",
       "      <td>79.000000</td>\n",
       "    </tr>\n",
       "    <tr>\n",
       "      <th>max</th>\n",
       "      <td>100.00000</td>\n",
       "      <td>100.000000</td>\n",
       "      <td>100.000000</td>\n",
       "    </tr>\n",
       "  </tbody>\n",
       "</table>\n",
       "</div>"
      ],
      "text/plain": [
       "       math score  reading score  writing score\n",
       "count  1000.00000    1000.000000    1000.000000\n",
       "mean     66.08900      69.169000      68.054000\n",
       "std      15.16308      14.600192      15.195657\n",
       "min       0.00000      17.000000      10.000000\n",
       "25%      57.00000      59.000000      57.750000\n",
       "50%      66.00000      70.000000      69.000000\n",
       "75%      77.00000      79.000000      79.000000\n",
       "max     100.00000     100.000000     100.000000"
      ]
     },
     "execution_count": 43,
     "metadata": {},
     "output_type": "execute_result"
    }
   ],
   "source": [
    "df.describe()"
   ]
  },
  {
   "cell_type": "code",
   "execution_count": 44,
   "metadata": {},
   "outputs": [
    {
     "data": {
      "text/plain": [
       "Index(['gender', 'race/ethnicity', 'parental level of education', 'lunch',\n",
       "       'test preparation course', 'math score', 'reading score',\n",
       "       'writing score'],\n",
       "      dtype='object')"
      ]
     },
     "execution_count": 44,
     "metadata": {},
     "output_type": "execute_result"
    }
   ],
   "source": [
    "df.columns"
   ]
  },
  {
   "cell_type": "code",
   "execution_count": 45,
   "metadata": {},
   "outputs": [
    {
     "data": {
      "text/html": [
       "<div>\n",
       "<style scoped>\n",
       "    .dataframe tbody tr th:only-of-type {\n",
       "        vertical-align: middle;\n",
       "    }\n",
       "\n",
       "    .dataframe tbody tr th {\n",
       "        vertical-align: top;\n",
       "    }\n",
       "\n",
       "    .dataframe thead th {\n",
       "        text-align: right;\n",
       "    }\n",
       "</style>\n",
       "<table border=\"1\" class=\"dataframe\">\n",
       "  <thead>\n",
       "    <tr style=\"text-align: right;\">\n",
       "      <th></th>\n",
       "      <th>gender</th>\n",
       "      <th>race/ethnicity</th>\n",
       "      <th>parental level of education</th>\n",
       "      <th>lunch</th>\n",
       "      <th>test preparation course</th>\n",
       "      <th>math score</th>\n",
       "      <th>reading score</th>\n",
       "      <th>writing score</th>\n",
       "      <th>overall score</th>\n",
       "    </tr>\n",
       "  </thead>\n",
       "  <tbody>\n",
       "    <tr>\n",
       "      <th>0</th>\n",
       "      <td>female</td>\n",
       "      <td>group B</td>\n",
       "      <td>bachelor's degree</td>\n",
       "      <td>standard</td>\n",
       "      <td>none</td>\n",
       "      <td>72</td>\n",
       "      <td>72</td>\n",
       "      <td>74</td>\n",
       "      <td>72.666667</td>\n",
       "    </tr>\n",
       "    <tr>\n",
       "      <th>1</th>\n",
       "      <td>female</td>\n",
       "      <td>group C</td>\n",
       "      <td>some college</td>\n",
       "      <td>standard</td>\n",
       "      <td>completed</td>\n",
       "      <td>69</td>\n",
       "      <td>90</td>\n",
       "      <td>88</td>\n",
       "      <td>82.333333</td>\n",
       "    </tr>\n",
       "    <tr>\n",
       "      <th>2</th>\n",
       "      <td>female</td>\n",
       "      <td>group B</td>\n",
       "      <td>master's degree</td>\n",
       "      <td>standard</td>\n",
       "      <td>none</td>\n",
       "      <td>90</td>\n",
       "      <td>95</td>\n",
       "      <td>93</td>\n",
       "      <td>92.666667</td>\n",
       "    </tr>\n",
       "    <tr>\n",
       "      <th>3</th>\n",
       "      <td>male</td>\n",
       "      <td>group A</td>\n",
       "      <td>associate's degree</td>\n",
       "      <td>free/reduced</td>\n",
       "      <td>none</td>\n",
       "      <td>47</td>\n",
       "      <td>57</td>\n",
       "      <td>44</td>\n",
       "      <td>49.333333</td>\n",
       "    </tr>\n",
       "    <tr>\n",
       "      <th>4</th>\n",
       "      <td>male</td>\n",
       "      <td>group C</td>\n",
       "      <td>some college</td>\n",
       "      <td>standard</td>\n",
       "      <td>none</td>\n",
       "      <td>76</td>\n",
       "      <td>78</td>\n",
       "      <td>75</td>\n",
       "      <td>76.333333</td>\n",
       "    </tr>\n",
       "  </tbody>\n",
       "</table>\n",
       "</div>"
      ],
      "text/plain": [
       "   gender race/ethnicity parental level of education         lunch  \\\n",
       "0  female        group B           bachelor's degree      standard   \n",
       "1  female        group C                some college      standard   \n",
       "2  female        group B             master's degree      standard   \n",
       "3    male        group A          associate's degree  free/reduced   \n",
       "4    male        group C                some college      standard   \n",
       "\n",
       "  test preparation course  math score  reading score  writing score  \\\n",
       "0                    none          72             72             74   \n",
       "1               completed          69             90             88   \n",
       "2                    none          90             95             93   \n",
       "3                    none          47             57             44   \n",
       "4                    none          76             78             75   \n",
       "\n",
       "   overall score  \n",
       "0      72.666667  \n",
       "1      82.333333  \n",
       "2      92.666667  \n",
       "3      49.333333  \n",
       "4      76.333333  "
      ]
     },
     "execution_count": 45,
     "metadata": {},
     "output_type": "execute_result"
    }
   ],
   "source": [
    "# Create a final/overall score from math, reading, and writing\n",
    "\n",
    "df['overall score'] = df[['math score', 'reading score', 'writing score']].mean(axis=1)\n",
    "df.head()"
   ]
  },
  {
   "cell_type": "markdown",
   "metadata": {},
   "source": [
    "### Data Exploration: Overall Performance by Gender and (Race/ethnicity, Parental level of education, lunch type, and test preparation\n"
   ]
  },
  {
   "cell_type": "code",
   "execution_count": 46,
   "metadata": {},
   "outputs": [
    {
     "data": {
      "text/plain": [
       "count    1000.000000\n",
       "mean       67.770667\n",
       "std        14.257326\n",
       "min         9.000000\n",
       "25%        58.333333\n",
       "50%        68.333333\n",
       "75%        77.666667\n",
       "max       100.000000\n",
       "Name: overall score, dtype: float64"
      ]
     },
     "execution_count": 46,
     "metadata": {},
     "output_type": "execute_result"
    }
   ],
   "source": [
    "df['overall score'].describe()"
   ]
  },
  {
   "cell_type": "code",
   "execution_count": null,
   "metadata": {},
   "outputs": [],
   "source": []
  },
  {
   "cell_type": "code",
   "execution_count": 47,
   "metadata": {},
   "outputs": [
    {
     "name": "stderr",
     "output_type": "stream",
     "text": [
      "C:\\Users\\dewum\\AppData\\Local\\Continuum\\anaconda3\\lib\\site-packages\\scipy\\stats\\stats.py:1713: FutureWarning: Using a non-tuple sequence for multidimensional indexing is deprecated; use `arr[tuple(seq)]` instead of `arr[seq]`. In the future this will be interpreted as an array index, `arr[np.array(seq)]`, which will result either in an error or a different result.\n",
      "  return np.add.reduce(sorted[indexer] * weights, axis=axis) / sumval\n"
     ]
    },
    {
     "data": {
      "image/png": "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\n",
      "text/plain": [
       "<Figure size 1800x1080 with 4 Axes>"
      ]
     },
     "metadata": {
      "needs_background": "light"
     },
     "output_type": "display_data"
    }
   ],
   "source": [
    "#Explore scores by parental level of education\n",
    "fig, axs = plt.subplots(ncols=2, nrows=2,  figsize=(25, 15), sharey = True)\n",
    "sns.barplot(x=df['race/ethnicity'], y=df['overall score'], hue=df['gender'], ax=axs[0][0]).set_title('Overall score by gender and race/ethnicity')\n",
    "sns.barplot(x=df['parental level of education'], y=df['overall score'], hue=df['gender'], ax=axs[0][1]).set_title('Overall score by gender and Parental level of education')\n",
    "sns.barplot(x=df['lunch'], y=df['overall score'], hue=df['gender'], ax=axs[1][0]).set_title('Overall score by gender and lunch type')\n",
    "sns.barplot(x=df['test preparation course'], y=df['overall score'], hue=df['gender'], data=df, ax=axs[1][1]).set_title('Overall score by gender and test preparation')\n",
    "\n",
    "plt.show()"
   ]
  },
  {
   "cell_type": "markdown",
   "metadata": {},
   "source": [
    "#### Transformation of non-normal, target features: Math, Reading and writing"
   ]
  },
  {
   "cell_type": "code",
   "execution_count": 48,
   "metadata": {},
   "outputs": [
    {
     "data": {
      "image/png": "iVBORw0KGgoAAAANSUhEUgAAA34AAAKXCAYAAADdFZjqAAAABHNCSVQICAgIfAhkiAAAAAlwSFlzAAALEgAACxIB0t1+/AAAADl0RVh0U29mdHdhcmUAbWF0cGxvdGxpYiB2ZXJzaW9uIDMuMC4yLCBodHRwOi8vbWF0cGxvdGxpYi5vcmcvOIA7rQAAIABJREFUeJzs3Xl4ldW59/FvEsKcMIQwOiHqDagIjlBFtFrHqtWOaluHao9HO9hWe9paW7XWTqet1dO37dFj1Vq1ijiL1hkHFBUEZLhVRGQeEuYhZNjvH2ttstnsJDshIWHn97kuLrKfca1nvtdaz3ryEokEIiIiIiIikrvyWzsBIiIiIiIi0rIU+ImIiIiIiOQ4BX4iIiIiIiI5ToGfiIiIiIhIjlPgJyIiIiIikuMU+InsJswsr7XT0JJyPX8iItJ0zXmPaGv3m9ZOT2uvX3adDq2dAAnM7CzgcmAU0AX4ELgd+F93r2zNtO0sM0sAV7v7f7fwej4GugLD3L0sbdzngIeBwe7+cUumo6lSt5OZXQj8HSh191VmdgzwPeDzLZyGvYD7gUOBue4+MsM0LwEb3P2zGcaNBKYBx7v7S1mucw/Csf5VYFWTE99MzKwncC9wPLAW2Mvdt7ZuqhpW335pYL584HXgR9nus9aUmk8z2weYD3zR3ce3asKawMweAh5197tbMQ11Xp/N7Drg5w0s4i53v7AFkpY1MyskXC/PBrYCI919QWumKRtmdidwuLsf1IR5xwOPu/tdzZ6wZpaez8Y+E5hZJ+C3wIvAI3FYk86dtna/Acjm/t5S96W43D8DfwDe2dnlSdunGr82wMz+DEwAlgDfJNy8ngD+G7jfzApaMXnNYQzwz120rlLg97toXS3pScJ2WxN/XwLYLljvd4GRwJeBb+yC9QGcCJy8i9aVja8BpwKXAefsDkHfTroSWLk7BH056L+A35lZv9ZOSB1uJ1yHkv8mEQp2Uof9otVSV+sU4HzgBuAsYGHrJqdlmdk5wP7AP1o7LbvIAOA7bF9Z0dRzp63dbyC7+3tL3ZdGAucBqvFrJ1Tj18rM7OuEmr7/cPf/TRn1nJm9R6h9OY/d+ALv7m/swtWtBS4ws3vc/blduN5m5e4rgZWtsOrewHx3f7QV1t1W9AY27Q4l6TvLzIqAnwGnt3Za2iN3/zDWYP6EUOjSprj7ImBR8reZrQYSu/iano3e8f874rUzZ8Ua+t8A17l7TWunp7W09XOnBbSb+5K0LAV+re9qYEZa0AeAu//LzI4AtjVbjE2bfguMIzRrfAG4yt0/iOOvAz4L3EJ4oBsEvEYoLToTuAboATwOfNPdN5nZcYQmFCcDvwaGAbOAH7r7CynrPhK4DvhUXPd84A/u/rc4/kJCLeVvCKVxZYSmqxupbcKYTN/vgeuBvYCZwHfd/fWUdX2R0MRoSBz/S0ITj4aaEN4PHAX8zcwOdvdNdU1oZiNiWo+Kg56M23J5HH8n0BPYFNP8FPDXuK0+HbfVCGAe8J9AAriVUHL3DnCRu38Yl1VMKBn/HKH0cm1c3nfdPVmrl5q2C4lNPeM2vSAOTwCfAe4Bxrv7t1LmGQR8Apzl7k9kWGYeoWTxO8B+hAe6P7v7zXH8x8DeKeu5yN3vrGv7ZaOh/Z2ST4CVZnY9cCfh2LqS0PylM3AOMDmm/RJCaXcl8AbwfXefGdf3EjAV2EyosSwG/g1c7u5L4jQG3EyorUg2c/yhu8+I849L2QbXu/t1jTjvXgEuIpw/58d8nA18i3DeLAOuAuYCfwMOA5xwLr6Vst3OJTzQ7A8sBm5291tTxncH/khoGlQD/C6b/ZHBJcC6uA2Sy27oOLkTGOPu25VQm9nbwGx3/3r8/R3g24R9/iFwg7v/K47bhybu48Yys6MI22dUXN7zhH23II4vIFyvvkE4N98nPFQnm5QVAj8g7Ne9gQ+AX7n7vfXlJR7fnwFuJFwnyoA7CMdUdUoS/wXcZWbXufvqOvIwgHANPIVwTVgJPAD8l7tXpKThTOAK4FhgNfD/3P2XKcs5gHBvOIZwLF7RyM1Zp3i+XEM47vsTCjPHm9n5hG1zYJz0XUKz4klxvjuB7oRz5/tAX8I+v9zd58Rp+sd0f5pw/r0D/NTdX47zXxCXvcLM7nL3C82sD/ArQi1J77jMH7r723GZF1L3/eobhMKQUwjX6l8AjwH/S2hqt4hwDZuYkv9697WZdYjjL4x5uB1oSmueswj39e0K58zsbMI1YzhQTriO3uDulfH69H3CqwMVKfOMB/q6+7Hxd0PXnSbt452RcmwDPGhmL7v7cfF3g+dO2rIuJO1+E6/v2Z5fmc7xywnbNvms9Q/Ctt/2Wkl9x0bq8Ru37w7POPXcl/oSjuHPAh0J96Xvuvv8lHlPJuzTQ4FCwr3nBnefkPLsB/BWyrmzQ1NcM3sE6Onux+3MNa+++2/de06ak5p6tqJ4sTmIEABk5O5XuftTcfo9gCmEi/LlhAeRwcCrZjYwddGEG9nVhAeo0cDLwMVxvl8RahHTS8nuI9xMPk+48E00s2Sb/L0IF4gNwBcJN5/3gb/GACqpZ0zX+cA1dQReBxCa5FwX19WFcEHvENd1CuGC/hYhUHoupi0bVcClhAe06+uaKL6L9gbhYnkBYVscC7xsZt1SJj2dcFE7m/CgnnQP8H9xeH5M798JD+MXE26+f06Z/l7CNvsRcBLhYn0ecG0WefoF4Rj5iHCxnELYHl9MawZ8HuGG/0wdy7kJ+AthH58FPAj8t5ndGMefnbaeJ7NIWzbq299PEm4SEG66t6fM9wvCcfxDwoPeDwgPabcTCim+TdjOd6at72JCMH8xISA/nrBfkh4hFHp9GfgK0Ad4Mm7Lywn7dTNhG9zeiPPuEOCImMebUob/HyH4PJPwwHg34X3TZG1+MeF4AsDMLiAcLy/Hee4C/mhmV6cs837C/rqK8JB6LiGwbKxzgYfdPZEyrKHj5F7ggNTz3swGE4LY++LvnxOC/fuBM4BngftigU6qpu7jrJhZV8IxvTjm5VLCA9D9KZP9kVDI9PeY1jeB8fG9Gwj761rgNsL+eA34p5ldUl9ezOwEYCK1wf/vYv5uSZvvKUIAkPHdzFjD83RM9xWE7fIPwjXrm2mT/z2m/7OEwr0bzezUuJxi4CWgH+H6/CvCsdWcrgP+h9Ac7RUz+0JM65PAaYRzpyfwLzPrmDLfidReh79KONfuTMvXfnH+swiFcU+aWW/Cdk+9hvwiFoy8Hpf7I8K5ngdMMrODU5Zb1/3qj4QA/wxCYcT/EO5DrxHuf2sJx0BXgCz39c2EQo1fE867Q2K6Gutc4Fl335AcYGbfJLwu8lZc/62Ea0MyyLkXKCKliWO8z51K7TmbzXUHmr6Pm2opoVAIQgBzecq4es+dDHa43zTy/Eo/x79J2BYPE55V5rH9c0I2x0b6/X1qhnRnui91ITyTHUO4Tn6NEIxPMrNecd1HxmW/Rzhvvkw4d+41s9K4rmThz0U0vtl2U6559d1/ZRdQjV/r2iP+n+1L6N8jPDR/xt1XwbaSoI8IJ9cP4nTdgYvd/c04zWcJJ9g+sZT7CTM7ndqarqTb3P36OM9zKcu9iFCSNxk4P9nZjJm9SSjRORZIltYUAD9z97qCDwg3oBPdfUpcTgHhIfMQwsPftcAkd78oTv+MhSZp38q0sHTu/raZ3QJ8z8zuc/dMF9JrCcHtqcm28mb2DqE26mLCjRPCOfLNlO19XBx+S7KW1sz2JtQEXpB80dzMDiRcjDGzzoQA8zJ3fzrO/5KZfYpYitdAfuaZ2Upg72QTKzO7i1DadiK1gd75wH2eoTMgMyshlEr+zt1/Ggf/O9buXG1mN7v7tPT1NJM697e7v2Nm8+J073joyGaf+PvuZA1RnG9P4Bfu/qc46OV4g/uDmXVPeRCqBj7r7lvifIcQHviJN7uhhBLPZ+KwTwgBWHd3n21mi4CalG39e7I77zoAV6bUKCTz8YC7/zYl708D/3T3P8dhJYQbeU9C7dtNcXzyeP93LIG91sz+H6EW/HTgKyk1aFOoLRXPSgwEDiWlgCKb44RQY7ac8ACcPO+/TOgo4dmYjx8Bv3H3a1OWUUR46H0wJRlN3cfZOpBQ23OLu0+O61gFfDo+8PUkPFRd7+7JB8LnY6n0sWa2lnDtvCzZsiHmpQdwk5n9PWVd6Xm5EXjD3b8SBz1tZuXAnWb2u2RtgLtvMbM5hAKKTE36BxFq776TUir+QiwgG0fttQrCsfbzuP6XgC8QHsYnEmqaSoGj3H1hnGY18FCDWzF7/3b3vyR/mNl+hNri61KGbSUEKQcQHkghXCNOd/elcZpBwJ/MrMRDR13HAje6++Nx/HuE47RbvD6mX0O+TThPDnb32XGeZ4i1udR2olHX/ep1d/9RnG8xsTba3W+Kw7YQAsEDCLVb9e5rwnl9GSG4TNacP0/29/5UxxOCDeJy8uP673f3ZFD073js/tXMfhtbM7xDOGcfi9OcQbgvPRiXUe91x903Joc3cR83SaxxmxZ/fpDcn3FcQ+dO+rJWZjhW9iT78yv9HP9ZHJYMjp+xUBiYGog2dB3Y4f6eId2Z7kv/QSjkP8jd58ZhyWPq24TC1gOBCe6+rWY/3u+mEq4DT5hZcnu+5+7zaJxGXfMItel13n8JBSrSwhT4ta5kc59sa16PBV5MPnwCxAvX82wfQCSAt1N+Lyd03pB6kykjPPSk2lYK7u5bzexp4Lj4eyKhBrCzmQ0nlMgeESfvlLac2dSvKi19yXdIusUgaTS1D9NJD5Jl4BddS7hZ326huWy6YwlB0rYXpOPFdQbbX+xXpm7vFFNS/l4e/0/NUxmhSS0xADkJtgUDBxBqeocDWxqRp23c/V0zm0ko/X0mBprbApwMRhNv8mnD7yc8pI8mdCiUjUTDk2w3TZ37u4FlbHccuft3YbvgbSjh4QXCMZgMCqYng76U9SXXVUZ4+LvNzE4klIY+4+4/qScd2Z53AHMyzJ/NsQLhfOwPDCSUgKZenycSbuRHEvKdHJZMz1Izm1xPHjLZk/Dgm9oRRoPHSXxYeIDwEJkM7L4EPOjuVWY2mlBLnikPF1uoHUweH03dx9maS6gFf9zM7ieU+L/g7i/H9RwVt8Hjaek4Lo5PPjBl2h5fITSLT6ZpW14s1AQdCVyTtg2eJlzvj6e2NgbCw9o+mTIQg7TjzCzfzPYnXD8OIdTcfZI2+Rsp89WY2RJqj/2jgZnJoC96lNr7UHNI35+/BoiFAUMJD6pnxtGp940FyaAvSr1GlBFq726wUMv8JPBUysN2JscCs9KChK1m9jChZqTONEdZn7NZ7utlhOMs9ZzdYmZPUXsfbZCFWro+bH/ODiME9OnH6H2EAslkwey9wM/NrJOH5p5fItQcrjKzoTR83Uk2CWzqPm4pdZ472Wjk+ZV6ju9PKJR5JG2aB4mBXxOuA41xPKFW+sOUZW8iNJk+gRBc/R34ezxuhsW8fTpO2xz7prHXvLto/P1Xmpmaerau5EVlr7omMLMBsTQOoBe1N6FUywnNxZI2+fbvkEC4IDRkadrvlcSX5s2sIJb2ryaUFt0ElMTp0nuDWtHAeip8+5fSk3/nE/KYz44dm2TKd51i6eRlhHc2vp9hkmy3ZV15WZ9hWH3vE54ZSxrnE3o4/Uycfmd60roLODsGy18F3FPeE0vTK/6fnufk72Kyt4m6bxodU6ZJqm9/12e7bW9mQ83slTj8aUJNdDJwT92O6fuhJjk+puNEQtPczwHjCe8FXW91f8co22NlY0qpeKrGHCvJc+pewvtoyX/J/TogpqfS3delzbusjmXWpUeGtGR7nNxLeF3jYDMbQjjPks2xk3l4PS0PyQfTASnLbeo+zoq7ryc8+D5PaEr4FLDMzP4zTpLsFKSu87wXUOXu5WnDM503qctIXsd+xfbbIDlN6jaAsA96UAcz+wah1+f3CU1OjyA0+0rfJpmO/dT7x3aFWPE+0ZydoaTvz/5m9iQh+H6J0NQxqaFzFmrT/mVCzfQ4Qs3OMjP7q9XdlDDbc3aHNEeNOWez2dfJ8yq9ELHFztl4fdhCbX7vJ9SqnGShKewp7HjO1nfdSWrqPm4p9Z472WjE+ZWa9z7x//qeVRp7HWiMEkKgXZn274zkcs2sm5ndQ+gdfDKhqWznOH9z7JtGXfOaeP+VZqbArxXFGoRphAtwXZ4jvB8D4cKaqevi/qR0ALMTStJ+96X2pL2G0N7960Cxux/A9hf45rKCcLEoTRue/rtBHppV3kd412/ftNEtvS23iSWDDxIePvd091J3P5XQqcfO+CehRPwzhKZL9TV1ST64pue5f/y/MXlenjJfumTz5cY+0NQrFn48Tng5/WCgyN0/RW2zpay5+0J3/wbhmDqa8ED0M0IJeCa77FihtqnLFYSHj/R/z8R1FsYS9lTp529DkmlPfWjK6jiJzY0+Ihx3XyLUQLyaloez68hDxk5amnMfp3L3We7+ZcL2OZFQIv7/Ym1fMq3bXV/MbKSZjSJsjw4W3iVL1dB5kwzKbyTzNrgzbfpedS3LzMYRHkb/RuiIY6C7n03jA7YywjU9ddl51AYOLeFeQuuQMYSm1IcR3lVqFHcvd/cr3X0goZDhT4T70ffqmGVXnrPZ7OvkOvumzdti52y8PnSm9pxdQvgcx+eprUVP1lZlc92pS7Ps451Q57mTjZ04v5bE/+t7VmnsdaAx1gLT61husinzrYTWRqcR9s1BbP/+eX3S44PuDUyfVV6bcP+VZqbAr/XdDBwSS5y2Y2ZfJTQHTH4D71XgeAu9lSWn6UOo1n+tGdKyrV26hQ+mnkpt844xwNvu/mBKrUYyYG22kppYAj2Z2qYiSWc1cZFXEkru0j9C/CpwVmqJsZkNIzxwNse2THUooSbs1x66R0822TmG7LfdDs2x3H0ZoVDgKkLHB/V9K3EKIaBO71zjy4SmmFN2mKNuk4DhZpbpu0OfIzTbasx3tLJpalZKyOP/uvt7KTWIjToGzWyEmS01s0PdvcZDT7KXErZBXTXvLX3epZpLeIjZw93fTv4jPCD+gvDA91KcNtnhARbegxvdyHUtJtSs7JEyrDHHyf2Edw3PIbxflGy++WZcRt+0PBxEuMHXta+aZR+nMrNTzGyFmZW6+1Z3f5747i1hf0+J+UrvHOJvhM6xksFspu2xgtDUagexpnE6MCRtG2wllIjvmTZLskfeTEYTmsbe6PFTBfE9ooNp3DZ5ETgoFkQlnUDLNscbQzg23nT3qjissedsHzP7xEKvlbj7u7GZ5wLqP2cPjNf05HI6EgojmvWczXJfTwYq2P6c7UAotGvMuioIAUnqOeuEmsRMxyhsn997Cff1LwBPxLRDdteduuz0Ps5CffeI+s6dbJbV1PNrIfAx9TyrNOI60JTm1q8SOhn7OGW57xAKQ5LXszHA0+7+rNf25pq+bzKtex2h6S+wrRnnqPoSk01em3j/lWamd/xa3z8ID0//G0ugHyU8jJ1M6HTgAWrbgP+R8IL+s2b2C8KJ+1PCiXVzM6TlZ2ZWSbiRfJdQwvPbOO4t4Edm9i1Cif0RhIe4BKFr6uZ0AyGPtxFqykZT+7DWqO8WufsKM/sBO7aj/yWhKdpEM/sj4cZ2I+FC3tw93U0jXFx/Y2Z/ITQRuYpQ+lxR34wp1gB7WOgq+W2v7br6LkKt5iSPnUVkEt/juIXQQUcVIXg7lvBw+3vPoivsFPcS3sF8zsxuIrTz70t4qPoy4b3Dxkh+zuIcM/t3HelfbuEl8CvNbDlhe15A7Q0u22NwNuGmdreFLs7L43JqqLsX05Y+77aJ78hdR+jMBEIt8WDCjfMDwjcWE7H5zs2xme8nwI8JNWXbWHgXt5O7TyMDd99goVOYMcQS+kYeJ/+M64WU3u88dKBwC/D7GJBOIXwk+JfAo+6+LkMNWnPu41RTCPtrgpn9hrDPriQccy/G/P4V+Gm89iU7wBgJXOGhU4yHCPujiPCu1FmE9/uu8PAeXV3r/hnwiIVONh4mnPc3Eo61bbWesdndQYR9nMlbhELam83sQcID0jWEgK0x2+RuwnXncTO7htBh0U2EIL2lvAVcaOHd6dWEa0SymW1WaY/76APglritFhLumfsQtmsmfyfs56fM7KeE2pHvEWrFflnHPDuj3n3t4bNJvyPcQ7cQXpf4T8I9YFuHGrHZdKnX37nW84RzFgiFpRY+g3OrhY40HiV0pX894b3b1M5VxhM6hjmLlEAxm+tOPenZ6X2chWSN5Ilm9oG7T4eszp1M0u83TTq/4rn/C8L7aisI2+w0Qv6h9lklm+tAXff3+txBaHX1rJn9inAv+ybb1+i+BZxpocfWTwjv9yXfjU3mLbk9TjezDR46ipkIXGRmUwkFXD8ku3f7G8rrVhp//5Vmphq/VhZLyc8lBHkjCDfnB4CxhGDn/GRJeqxFGUtoYnA34WFtAeGbWot2XHqjXUX4/MN4Qg3VsV77PZhfE4KMnxM6ATkvpu9ZUm5CzSGWyn+N8MD5OOFi+qM4urGdO+DhW3TPpw17h3ARLCQEl38iNAE7OqUUtFm4+/uEJrIjCO8Y/ZbQUcDlwF62/ScB6vI3QhPLJ4gdxUTJXkIb7NGMcPFOfoPpCULTiquo3bZZ8dAhzljCcXIVoRnQXwkPVae5+wONWR5h3zxDbRfkdTmHsP+ThSFdCU33IMtjMJZIn0Z4mPkL4WYzlNALaMZOiXbBeZe+vmRX6WcSjpcbCMfo6Sm1at8gfPLgekIA9iZpHZQA/4+6H4yTJgCfSXu/IqvjJG6vmcD7GYLLHxJqCi4lHKPfJQTJFzaQnp3ex2lpLCeUcG8hnCMPE5q/nei1nfVcSbi+fYuwDQ8lHMfJzjzOJzwsf4/Q7PRo4Kvu/v8aWPdjhAfsw+N8NxNqfo737T9zcwLhgejpHRYSlvMC4T3lzxIeyK4lnHs3AKNi64xstsUWwjVvDqHZ1a8IBRjp7y82p4vi+v5OqCEeRugwbCON25/nEr5R9lvCteJk4Dx3fy7TxF77buebhHcD7yc8XB5bV0HIzshyX/+M0KPo5YSeVNcSvguY6to4X30mAGNiQURy/f9DuCYcTziGv0X4nMr5aelcTTjONpD2GaksrzuZNNc+rpOH9xV/Q3guSL3X1Xvu1GG7+83OnF/ufgfh2ngu4Vp5ILWfi9gQp8nm2Kjr/l6nuE2OJdTW/pUQ8O9N+I5vct/+gPCMdjPhuDmBcI19n9p9M4uwTX9M7fdgv0doIfBXwrXiRbIoEG8or025/0rzy0sksgniJZdZ7Uc8j0h52Gk1ZnYWMC+1pNLC93L+ApR4hg+et1dm9iXChbm/79jZh7RjsWnbVA/vddQ1TQ9CEPuFuh6ipWWZ2WPAR+5+ZWunRVpfrNHav57xBYRWOb9299vrmq49aO1zx8zOI3zmI/WD6TcRPmzf2Pc3RXYJNfWUtugM4GQz+xGhWc8wQpOkexT0BRa6Qh4H/Adwh4I+yeDnhM6h6uTua2MTyB80NK00Pwvd6B9NOI+lnTOzSwk1MHWKTTuvJXSbf4dv32PybsVCh04NtTxL+I69lLeVc+di4Mex2eIqwiswV1JbcybS5qipp7RFVxKaLfya0EzhR4QmB3V9o6496kdonjKd0CxPJN391N90Nul3QB8z+3SDU0pz+xVwtW//DTtpvyYRXqOol7vfR2gud2FLJ6iF3cGOnyNI//d8HfO2hXPnq4R3+P9MaD56CaGp6HWtmCaReqmpp4iIiIjsUma2D7Xfw6vLenff2U8fiUikwE9ERERERCTHqamniIiIiIhIjlPgJyIiIiIikuMU+ImIiIiIiOQ4BX4iIiIiIiI5ToGfiIiIiIhIjlPgJyIiIiIikuMU+ImIiIiIiOQ4BX4iIiIiIiI5ToGfiIiIiIhIjlPgJyIiIiIikuMU+ImIiIiIiOQ4BX4iIiIiIiI5ToGfiIiIiIhIjlPgJyIiIiIikuMU+ImIiIiIiOQ4BX4iIiIiIiI5ToGfiIiIiIhIjlPgJyIiIiIikuMU+ImIiIiIiOQ4BX4iIiIiIiI5ToGfiIiIiIhIjlPgJyIiIiIikuMU+ImIiIiIiOQ4BX4iIiIiIiI5ToGfiIiIiIhIjlPgJyIiIiIikuMU+ImIiIiIiOQ4BX4iIiIiIiI5ToGfiIiIiIhIjlPgJyIiIiIikuMU+ImIiIiIiOQ4BX4iIiIiIiI5ToGfiIiIiIhIjlPgJyIiIiIikuMU+ImIiIiIiOQ4BX4iIiIiIiI5ToGfiIiIiIhIjlPgJyIiIiIikuMU+ImIiIiIiOQ4BX4iIiIiIiI5ToGfiIiIiIhIjlPgl6PMLGFmfdKGfcHMXspi3kvM7PIWS9z26/qLmc03s1/uivXVk47/MbPrspz21DaQ3oSZ9TGzC83sidZMSyozu8fMhrZ2OupiZieZ2QIzm2JmXZq4jNvM7LDmTpuIiIhIS1LgJ5kcA3TdRev6D2Csu1+zi9a3U8ysCPgt0KqBXxv2M+BOM8tr7YTU4SvAbe5+pLtvbuIyPgO01fyJiIiIZNShtRMgrSPWbu0DDAD2BhYDXwVGA2cCnzGzzUApMAYYCEwHfgD8DegH9AcWAF9y9xVm9jFwJ3ACsBdwt7tfa2bdgb8D+wM1wDuEgO9lwgP0xFjDWA78D1ACJIDfu/vdZnYc8CdgI9AduBq4DvgEsDj818B34u+H3P17MZ9nAD8FOgKbgKvcfbKZFQO3A4cAS4Eq4NUsNt0VwDPuvikufyzwO0KgvBX4qbs/bWavx/Q/FKf7DYC7/5eZfQO4nFDwUgZ8y93nmtmdQG9gCPAE8H/An4GiuJ/eBb7s7lsaSqSZ9QfuBpK1vk+6+7Vx3I+BC2KePwAudPe1ZnYtcG4c/n5M17JYS1wODAX+Epf7J+BgoBB4Hrja3avc/SMzW0M4hh5NS9MxwB+AAsL+/ZW7PxSPj1uBo+O6HwGuAYpj/kfG6ScCP3H3KjOriMs/BDifcAz8iXDsFAC3uPsdaeu/GvgcsNnMerj71WZ2DfD5uC8+Bi539yVmNpoQ4HeK2/5Zd/9GrOkdCPzTzL4O/Ab4H3cfH9fxUvJ3U9IoIiIMuzxZAAAgAElEQVQi0lJU49e+jQW+6O5DCQ+ll7n7w8BjwB/d/c9xur2BUe7+VUKNyWR3HwPsSwimvpayzO7uPhb4FHCVmQ0GzgaK3H0kcEScbt84HcDxwOS43lvdfQRwKnCTmY2J0xwEnBvHVcTl/Doucx3wY+B04FDgCjMbaGb7AzcBp7n7KOCbwAQz6wZcD2wmBDNfJASM2fgCISjDzEqA8cB3Y7ouAO6Jeb4NuChOV0AIqm83s3FxurExTb8FHk5Zfld3P9Dd/wu4FLjL3UcD+wGDYx6zcSnwkbsfStjP+5tZDzM7E7gQGOPuBwHzgW+Z2UWEbX5EzMt7hCA+abW7D3f3W4E/Au+4+2HAKEJw+f2Uaf8NnJMhTdcDf4jzXQx8Og6/AegMDCMEeUcD44BbCIHxwcDhhADqqjhPR+BxdzdCQDwe+FFc9jjCsTc6deXu/jtqj+2rY+B2MHBkPI6eIhQGAHwX+Jm7HwUMB840s8NizfQS4Hx3fzPThk/R6DSKiIiItBTV+OWuRIZh+UB1yu+X3H1d/HsaobYpkzfcvQrA3f9kZmPN7PuEGryDgNQH4EfjdIvNbEVc5quEIO4l4FngZnf/MG0dBwCd3X1CnH+JmT0EnAK8CCx09wUp089392nx73nAWnffCqwys3VxvccSamueN9sW19UQgqgTgSvdPQGsNLPU4Ks+Q4Fk2o8CPkwGAO4+y8xeA44D/gX8d6x5OxR4390/MLNL4/pfT0lTLzNLbvvUWsf/ItS8/jBun4GEGs9sPA08ZWZ7Ac8RAo61ZnYi8KC7r45p/j6AmT0A/N3dN8b5/wRcY2Yd4+9XUpb9WeDIWHMJkP6u3HzgSxnS9ADw51gL+xzwkzj8ROD77l5NOD7HpaTp6LiPKszsr8CVhNrd1DQdQKglvSNlm3YhBKVv1LONPgscCbwd5yugtonzBcBpZvYTwj7vQvbbPtXOplFERESkWSjwy12rCE3KVqUM60eoQUlKfccpQd3vLW1I/hGbLB4J3EEIyArT5tthme4+38z2IwREnwaeM7NvuvvjKdMmm/+lyo/L3y4NUUXa78oM6S4Annf3L6ekf09CjQ1p6a7KMH8mNdTWlNeZZnffZGYPAucRmsrenjLPP2KNHmaWTwjoVsfxqfm8j3COPgA8SWg+m9W7Ze7+Vqx5PJGwzaeY2akxn9vSbGY9gZ4Z8pIf151cX2q6Cgg1xXNSlpE6byXbFzAk0/Q3M3scOIkQ0F9nIQpKT9OehJrk/AxpKkz5nUxTASHwH5myjH7A2h02zPYKgN+4+1/iPJ2AXnHcJGAGIYB+gBDkZ9r26edNx7TxO5tGERERkWahpp65ayLwnRhYYGa9CLUYT2UxbxXbP2CnOplQY/cPYAWho4uC+hZmZv9JeMfv3zHgeYZQC5ZqLlBpZufEeQYS3r16Nov01uV54KRkL5NmdhrhYb4LYft8w8zy47Y5K8tlvk+ouYHQPHWomR0Zl38goZbxpTj+NsI2Pxp4KA57BjjXzAbE35fFdGZyMnCDu/8r/j6KBrZ1kpn9GrjW3R8hNFucRaidfQ44J77jCOFdye8TApyLYzNYCO9LTnL39AA7mYfvmVleDJYeA76VMn4wYX+mp+l1QpPhOwnNbnsS3hN9Drgg7otOhCaR4+J6vpWynm+S+Xhwwnt7X43r2ZPQVLWhnjefAS5J2RY3AP+IgewRwH/FGug9CLW0yW2fen6sJDRDxcyGAyPqWFdT0ygiIiLSLBT45a7vEt6bes/MZhBqMP4F3JXFvBOBy2InIOluIDRhnEF44H+V8FBcn7sJD82zzewdoAfh/a1t3L2S0PHGd+OynyMEPS9mkd6M3H02IVi438ymA78AznT3DYSAp5IQoDwOzEzOZ2aXmdntOy4RCEHJKXH5qwjvB95qZjOBe4GL3P39OP4dQs3X+GSHLO7+b0KHIM/GfJ4HnBObM6b7CfBwXPbfCJ3hNLStk24GRprZe8DbhOaX97v7U4Qg/LW43P6EjlT+j7DNp5jZHEJgfn4dy/4O0I2wzWbE/3+bMv4U4MEM8/0QuMHMphGC4+vd/WPCu39bCZ0HTQOeigHXd4C+cfkzCcHTDr2pxia+ZxGCuBmEdwyvdffX6t9E3E54X/MNM5tFCNoudPc1wK+AqXH7/Qh4jdptP4HwLudJwI2EwoX3COfGpEwr2ok0ioiIiDSLvEQi0/OmSPtl4ZMNt7r7hRnGFRPeyTo82bOn1DKzIcA/CZ3H6OIiIiIi0kaoxk9kRyOp7UBkO7EznB8TPhEhO7oRuERBn4iIiEjboho/ERERERGRHKcaPxERERERkRynwE9ERERERCTH7W7f8etE6GZ9KRm+EyYiIjmlABgAvMWO3+6UHekeKSLSPjTp/ri7BX5HAK+0diJERGSXGkv4dIzUT/dIEZH2pVH3x90t8FsKsHr1RmpqWq5TmpKS7pSVbWix5bdFynPua2/5BeV5d5efn0evXt0gXvulQU26R+bSMdMQ5TU3Ka+5qz3ltzF5ber9MavAz8zOI3RfXwjc7O5/Ths/kvAx5GLCB4wvc/cqMxtL+JB0R8IHpC9w99Vm1pPwra99gZXAl9x9WRZJqQaoqUm0aOCXXEd7ozznvvaWX1Cec4SaLWanyffIHDxm6qS85iblNXe1p/w2Ia+Nuj822LmLmQ0CfgkcQ/i+2TfNbHjaZPcA33L3A4A84NI4/O/A19z9YGA2cHUcfiPwirsPA24D/tSYRIuIiIiIiEj2sunV80TgBXcvd/eNwHjgC8mRZrY30MXd34iD7gS+GP8e5u6zzawQGASsjsNPJ9T4AdwHnBqnERERERERkWaWTeA3kO3bjy4F9shmvLtXmtnBwCLgeOD+9HncvQpYB5Q2If0iIiIiIiLSgGze8csHUhuc5gE12Y5395lAPzP7D+BfwKfiNNQ1T0NKSrpnO2mTlZYWtfg62hrlOfe1t/yC8iwiIiIC2QV+iwhdhSb1B5akjR+QPt7MOgOnuPsjcfg9wO/j34vjdIvMrANQBJRlm+iysg0t+qJnaWkRK1eub7Hlt0XKc+5rb/kF5Xl3l5+ft0sK+kRERNqDbJp6PgecYGalZtYV+DzwdHKkuy8AtpjZ0XHQ14CJQCXwZzM7LA7/ErXfmXgK+Hr8+8uEjl4qdyonIiIiIiIiklGDgZ+7LwauAV4E3gXudfcpZvaUmR0eJzsf+KOZzQW6A7e4ezUhqPtfM3uX0CHMJXH6a4HRZjYLuBy4ojkzJSIiIiIiIrWy+o6fu98L3Js27LSUv6cDR2aY71XgsAzDy4EzG5tYERERERGRXFa1Zg3lTz1Bftcu9Pnc55ttuVkFfiIiSVU1UFFZlfX0nQo70CGbRuUiIiIi7Vj1hg2UP/0Ua154jkR1dbMGfaDAT0QaqaKyirfmLM96+iOG9aNDJ11qRERERDKp2bKFhQ88w6IJj1CzZQtFR42m5Kyz6Vjat1nXo6cxERERERGRXaymspK1L79E+ZOPU71+Hd1GjqLP586h0x57tsj6FPiJiIiIiIjsIonqata98Tpljz1CVVkZXYYOY/+Lf8yW3gMannknKPATERERERFpYYlEgg1T36bs4QlsXbaUTvsMpt8FF9N12HCK+hazpYW/w6vAT0RaVF5+HhsrsusMRh3BiIiISK5JJBJsmj2LVRPGU7HgYzoOGMiA//wW3Q89jLy8vF2WDgV+ItKiKiqrmf7+yqymVUcwIiIikks2z/uQVRPGs9nn0qGkhH4XXULxmE+Rl7/rS7r1hCUiIiIiItKMKhYtZNXDD7Fx+rsUFBdTet5X6TF2HPmFha2WJgV+IiIiIiIizWDrihWUPfow66e8QX7nzpSc/Xl6nXgS+Z06tXbSFPiJiIiIiIjsjKo1qyl7/DHWvjqJvIICep1yGr1POY2Cbt1aO2nbKPATERERERFpguoNGyh/+inWvPAciepqehx7HCWnn0GHnj1bO2k7UOAnIiIiIiLSCDVbtrD6uX+z+pmJ1GzZQtHoMfQ582wKS0tbO2l1UuAnIiIiIiKShZrKSta+/CLlTz5O9fr1dBt1KH0+93k6DRrU2klrkAI/ERERERGReiSqq1k3+TXKHnuUqvIyugwdRp9zvkCXfYe0dtKypsBPREREREQkg0RNDRumvkPZIxPYumwpnQfvS/+LvkHXYcNbO2mNpsBPRJpVdU0NHy9dz0dL1lFdk+D195ZRWVnNkEE9GFTajby8vNZOooiIiEi9EokEm2a9x6oJ46n4ZAEdBw5k4BXfptvIQ3fbZxkFfiLSLBKJBLM/Xs2s+eVs2VpNUddCunUupLomwYo1m1mwfAPduxRy8JDe7Deox2570RQREZHctvnDD1g1YTyb33c69OlD/4svpWj0GPLy81s7aTtFgZ+I7LSamgST31vGvCXrGFDSlQMH92ZASVfy8vI45IBSps1dwYLl65nz8Womv7ec5eWbGX1gPzoU7N4XUBEREckdFQsXsurh8WycMZ2C4mL6nvdVehx7HHkdciNkyo1ciEirqayq4eV3F7Nk1SYO2a+EEUNKdqjNy8/PY/CAYvbpX8TMeWW8+2EZq9dXcPyhg+jepbCVUi4iIiICW5cvp+zRh1n/1pvkd+lCn3O+QM8TPkN+p06tnbRmpcBPRJoskUjw8ruLWVq2iTEH9WP/Per/WGleXh4j9utDSY/OvDJ9Kc++tZBTjtqLLp10KRIREZFdq3L1asqfeJS1r75CXkEBvU89nV4nn0pBt26tnbQWoactEWmymR+Vs2TVJkYPbzjoSzWotDsnHL4Hz761kOffWcRJR+5Jxw4FLZhSERERkaB6wwbKJz7BmheeJ1FTQ89xx9H79DPo0CP7Z5ndkQI/EWmSZWWbmP7BKgYPKGL/PXs0ev7Snl0YN3IgL0xdzEtTl3DC4W3/w6ciIiKy+6rZspnVz/6b1c9MpKaiguIxn6LkjM9RWFra2knbJRT4iUijba6o4pUZSyjq1pHRB/Zvcg+dg0q786mD+vPazGVMe38Vow8c0MwpFWkbzKwYeB34rLt/bGYnAn8AugD/cvefxulGArcDxcAk4DJ3r2qlZIuI5ISayq2sfelFyp96gur16+k+6jBKzj6HTgPbV6GzAj8RabSp76+kYms1Jx6+J4Uddq5nziGDerBq7RZmf7ya2R+Xc4T1baZUirQNZnYUcBtwQPzdBbgDGAcsBJ40s1PdfSJwD3CJu79hZv8HXAr8pXVSLiKye0tUV7Pu9Vcpe/xRqsrL6TrsQPqc83k6D963ScubPGsZE16eR9m6CkqKO3HOuCGMObB/ncMbmq+x69lZCvxEpFE+XrqOeYvXceDg3vQqap7erg6zUpaXb+KeZ5wD9uhJj24dm2W5Im3EpcAVwD/i7yOBD9x9PoCZ3QN80cxmA13c/Y043Z3A9SjwExFplERNDRveeZtVj0ygcvkyOg/el/4XXULXYcObvMzJs5Zx18S5bK2qAaBsXQV3TZzLh4vW8NrMZTsMB7YFhZnmS47Pdj11Td8YCvxEJGs1iQQPvjiPLp0KGDGkpNmW26Egn7GHDOTpNz7hjifncOUXR+gD75Iz3P0SADNLDhoILE2ZZCmwRz3DRUQkC4lEgk2zZrJqwkNUfLKAjgMHMfCK79Bt5KisnivSa9pGDClhxrwyytZVkJ8HNYntp99aVcPL7y7JOHzCy/MYc2B/Jrw8b1sQl2l8usZO3xgK/EQka6/NWMony9dzzIgBO93EM12vok6cNXYw41+ax5Q5KzhqeL9mXb5IG5IPpD4m5AE19QxvlJKS7o1OUGlpUaPn2V0pr7lJec1d2eZ33Zy5LLj7HtbNnkOnfn3Z/3vfoXTsMeQV7Nhr+EvvLOTuiXNYtXoz3buG7wmv31S53TRl6yp4cdqSbb/Tg7uGhpevq6C0tIjydRX1jk/V2OkbS4GfiGRlc0UVD708j8EDihk8oGVuOmMPGcjbc1dw/wsfMGJIib7vJ7lqEZDak1F/YEk9wxulrGwDNXU9iWRQWlrEypXrG7ua3ZLympuU19yVTX4rFn7CqocfYuOM6RT06EHf879Gj7HjyOvQgVXlm3aYPr0pZXrA11iZagIBehd3YuXK9fQu7kRZhmAuOT4pmddsps/Pz2tSIZ+eqkQkKy9MXcS6TZVceuaBrFyzuUXWkZ+fx9dONm68620efXU+Xzlh/xZZj0grexMwM9sPmA+cB9zh7gvMbIuZHe3urwFfAya2ZkJFRNqqrcuXUfbow6yf8ib5XbvR5/NfpOenTyS/U+h/ILXZZjI4qytIa6qOHfI5+uD+273jlxx+zrghAJwzbsh2gWb6+HSNnb4xFPiJSIM2V1TxzJSFHLxvCfsMKG6xwA9g8IBixo0cyHNvL+KYgwewR9/Gl2iJtGXuvsXMLgQeAjoDTwHj4+jzgdvi5x+mAre0SiJFRNqoyvJyyp94lLWvvkIiv4C3S0fwavfhVEzvSN6M10hkCOySwV5zBH3J4DG1t8399uhZZy+cyf+z7aWzsdM3hgI/EWnQC1MXsWFzJWcdM3iXrO+ccUN421dy3/MfcPW5o3bJOkVamrvvk/L388AhGaaZTuj1U0REUlSvX0/5xCdZ88Jz1NQkmNHTeLn4IDZ16LJtmkxBX3Pq2CGfC04dukMQNubA/vUGZg2N39nps5VV4Gdm5wE/BQqBm939z2njM35w1syOBv4IdATKgItjU5ZxwATC94sAprn7Rc2RIRFpXpsrqnj6zU8YMaSEfQcWs7Gi5b8l3b1LIWccvQ/3PfcBsz8uZ/g+vVt8nSIiItL2TJ62gA8ffJiRK2dRmKjivaJ9ea33IawtbNkWQem9ejZnzVtraTDwM7NBwC+Bw4AK4HUze9HdZ6dMVtcHZ/8JnOnuM8zsYkKTlbOAw4H/dvdfNW92RKS5vTB1ERu3VO2y2r6k40YO4pkpnzBh0kcM27uXPu8gIiLSTkyetYxHX3T2XjiTMatnclRNBXO77cUrJSMp69izWdfVrXMBeXl5bNhclRPBXX2yqfE7EXjB3csBzGw88AXghvh7bzJ8cNbM7gB+6u4z4vAZwLfj30cA/czsXOBj4Ap3T9b+iUgbsbWymn+/tZARQ0oYPKB4l667sEM+Zx49mDsnzmX6h2WM3L/PLl2/iIiI7HqTZy7mnX89yRdWvUtx1SbmdxnAyyWjWNa5eZ8D6mq2mcuy+RBXQx+UzTje3Svc/R4AM8sHrgMeidOsAW519xGEl9rvb1LqRaRFvT5rGes3VXLqUXu1yvqPPrg//Xp1YcKkj6hp6Yb7IiIi0moSNTWsn/ImHf76G05a9jrrC7py78CT+Negz+x00JdsNJQf/y8p7tTugj7IrsavoQ/K1jvezDoCd8V13QTg7pclx7v7X83s12bWw93XZpPopny3orHa28cxQXluDxqT35qaBM+/s4j99ujB0Yfuua2pZaJ8E0XdO2e9nMLCDllP37VrJ0p7d91u2NdOG85///Md3l+8nrGjBmW93qT2to+hfeZZRER2T4lEgo0zZ1D28ENULPyEio49GT/geD7sukdtxJalvLzQwUumnjclu8BvETA25Xf6B2Xr/OCsmXUHHiN07HKWu1fG2r8fA7929+qU+bLuMaKxH6dtrPb2cUxQntuDxub33Q9WsXjlRv7jzANZtWrDtuGbKqpYv2FL1suprMx++k2bKlhZXb3dsKF7FDOgpCv3PzsXG1TUqHf92ts+htzKc1M/UCsiIruHzR+8z6oJ49n8wfusLSzi5X7HMKf7PiTysmmUWOv4UQP52slDWyiVuSObrfoccIKZlZpZV+DzwNPJke6+ANgSe/CE7T84ew/wIfBld6+I09cAZ8flYGZfB950943NkB8RaSZPT/mEkuJOHD60tFXTkZ+Xx8lH7sUnyzcwZ8HqVk2LiIiI7LwtnyzgvRt/xcLf3MSKjxbydOlR/G2vM5ldtG9WQV9eSpPNS88YrqAvSw3W+Ln7YjO7BniR8FmG2919ipk9BfzM3d8mwwdnzWwUoQfP2cBUMwNY4u6nARfE6X8OrAC+3gJ5E5Emmr90He8vXMNXPr0fBfmNK3VrCWMO7MeESR/x9Juf6NMOIiIiu6mty5ZR9ugE1r81her8jrxYcijv9BhKVX7DjRDVbHPnZfUdP3e/F7g3bdhpKX9n+uDsNML7fpmWNwv4VKNSKiK7zDNTPqFLpwLGHjKwtZMCQGGHAk48bA8mTPqIhSs2sGdfNf8TERHZXVSWlzHn7vvp+N7bVOUV8Favg5nS80AqCjpmvYzfXX50wxNJvbIK/ESk/Vi1ZjNvz13JSUfuSZdObecScfyhg3hy8gKefvMTLj1jeGsnR0RERBpQtX4d5U89Sdnzz9GhJsE7PYYyuddBbOrQpVHLKSnu1EIpbF/azlOdiLQJz769iLw8OPGwPRqeeBfq1rmQsYcM4MWpi/nCcUPoVaSbgIiISFt07xPT2fLy8xyxZjaFiWpmFe3Lq70PYV1h41vsdCjI45xxQ1ogle2PAj8R2WbTlkomzVjCkcP60rs4+0827ConHr4nz729iEnTl3DWMYNbOzkiIiISTZ61jH8+OZODyuYyevV7dK2pYG63vXml5BDKOvZs0jKLuhbylRP213t9zUSBn4hs8/K7S6jYWs3JR7bOB9sb0rdnFw4a3JtJ05fw2U/tTYJ8Kirr/hJMonwTmyrC+E6FHejQ+v3UiIiI5Jx7Js6ibNIrXFg+g+LqTXzUdSAv9x7F8s4ljVpOp8ICvn6KbQv0cukTRW2BAj8RAaCquoZn317IsL17sVe/tvsB8ONHDeLWCTOZ/mEZtncv3pqzvM5pi7p33vYNwSOG9aNDG3pnUUREZHeXqKnhvj89wH7vv8aRletZ1LmUx/sfw8Iuja+h07f4Wp6egkQEgClzlrNmw1YuPHVYayelXiP2K6FXUSdenLYY27tXaydHRESk3Zn83lImjX+OT62YyuFbV7OiY0/GDzieD7vuUfuRvSx179KBc088QM05dwEFfiJCIpHg6TcXMrBPNw7et21/J68gP59xhwzkkVfns3LN5tZOjoiISLsxedYynnnwRcaumsrZW1ayurCIx/odw+zugxsV8A3buydXn3toC6ZUMlHgJ5KDqmrY4d231Pfd0n2waB2LVm7g/JMOYNPW6nqXXZNotmQ22dhDBvLYax/z2oylDCrt1trJERERyTmTZy3jrolz2FoVbvz9Kso4tmwa521awvqCLjxdOpoZxftRk5f9C/Tp7/DJrqXATyQHVVRW7fDuW+r7bunemL2cLp0KgES978wBHHJAaXMls8l6FXVi1P59eHP2cs4aO5iC/MY1KxEREZHMJs9axh1PzKY6FvT23rqWseXvMmzDAjbnd+SFksOY2sOoym84jFCg17Yo8BNp51av38L7n6xh1P59KMjffbq9PGbEAN55fyWLV25o053RiIiI7C7+8cxcXpy2BICiyo0cs3o6B6+bR1VeAa/1GsGUnsOpKOiY1bIuPWO4Ar42RoGfSDs3a/5qOhbmc8BeTfvGTms5aN/eFHUt5KMl6xT4iYiI7ITf3TeVOQvWANClegufKp/JqLUOwDs9hjK510Fs6tAlq2V1KMjjotOGKehrgxT4ibRjG7dUMn/pOo45ZCCdCgtaOznk5eexsY73EDM5bGhfJk1bzJatVXTuqMuZiIhIttKbdHaq3sqRa2Zz+JrZFCaqmVk8hNd6jWBdYfeslqeAr+3Tk5JIOzZ3wRpIwLEjB7JwWet/ILWisprp76/MevrDhvblpamLmb90PcP0aQcREZGspNbwdaip4tC1zpjVM+lSs5U53ffmld4jKe/YI6tlKeDbfSjwE2mntlZV8/7CNezdv4jexZ3bRODXWAP7dKN3cSc+WrxWgZ+IiEgd0mv3APITNYxY9yFHl0+nqHoz87oOZFLvUSzvXJLVMtVxy+5HgZ9IO/XhorVUVtUwfHDb/m5fQ4YM7MFbc1ewen0FvYo6tXZyRERE2ozJs5Zx++Oz2e5LTIkEwzfMZ2z5dHpVrmdR51Ie638sC7v0q3dZx48ayNdOHtqi6ZWWpcBPpB2qqUkw5+PV9OvVhT49Ord2cnbK4IFFvO0rmLd4LYcP7dvayREREWkTUnvoBCCRYMimxYwrm0bfratZ0bEXDw74NPO6Dqr34+v62HruUOAn0g4tWLaejVuqOGp4/aV7u4POHTswqE83Pl62nsOslLx6bl4iIiK5LvX9vaQ9Ny9jXNk09tiykvLCIh7tN5Y53fepN+AD1fLlGgV+Iu1MIpHgvfnl9OjWkUGl3Vo7Oc1inwHFLFq5lBWrN9Ovd9fWTo6IiEir+Oltk1lStnnb735byhhXPo19Ny1hXUFXJpaOZmbxftTk1f3dXgV7uUuBn0g7s2jlRlavr+Dog/vnTO3Ynn27U5Cfx/yl6xX4iYhIu5Kphq/31rUcW/YuQzcuYFN+J14oOYypPYyq/Lof/dWkM/cp8BNpRxKJBDPnldG9SyGDBxS3dnKaTWGHfPbs250Fy9Zz5LC+5OfnRkArIiJSl8mzlnHb47O3G1ZcuYGjy2dw8Pp5VOYV8GqvEUzpNZyt+R3rXI5652w/FPiJtCNLyzaxau0WRh/YL+eCo30GFPHxsvUsLdvIoNLsPjYrIiKyu9mh0xaga9Vmxqx+j1FrHfLg7R5Dmdz7YDYXZO7ATc052ycFfiLtyMx5ZXTt1IEhg3Knti9pUGk3OnbIZ/7S9Qr8REQkZ2RqypnUqXorR66ZxRFr5tAhUc2M4iG81usQ1hdmfoe/Z7dC/vDtsS2ZXGnDFPiJtBNLVm5g+erNHDG0LwX5db/UvbsqyM9nr35FfLxsHVXV/ehQkHt5FBGR9uX7t77Cmo2VOwzvUFPFoWvnMmb1e3Sp2cqc7nvzSu+RlHfsUeeyVMsnCoHPo8AAACAASURBVPxE2okps5fTuWMB++9Z901hd7fPgCI+XLyWxSs3snf/otZOjoiISJP97r6pOwR9+YkaRqz7gKPLZ1BUvZl5XQcxqWQkyzuV1LkcddoiSQr8RNqBZWWbWLxyA0cM7ZvTNWH9e3elU2EBC5atV+AnIiK7rR1q+hIJhm+Yz9iyd+lVtYGFnUt5tP+xLOpS//d4VcsnqRT4ieS4RCLBtA9W0a1LIQfkcG0fQH5+Hnv16878peuoqq5p7eSIiIg0yg4dtyQS7LdpEceWTaPv1jUs79iLBwZ8mo+6Dsr48fU84JIzhquHTslIgZ9IjltatomVazYzbtQgCnK4ti9p7/5FfLBoLUtWbaRXD33TT1qGmQ0Ehrj7Kzu5nK8CP44/J7r7VWY2ErgdKAYmAZe5e9VOJVhE2qzJs5Zx++OzSaQN32vTMo4tn8YeW1ZSXljEI/3GMrf7PhkDPlCTTmmYAj+RHJZIJHj3g1V069yBYfv0ZtPmra2dpBbXv3dXOhbms2DZeg4cUtrayZEcYmb/CYwFvgNMBdaa2QR3/3H9c9a5vK7ALcABwBrgNTM7EbgZuMTd3zCz/wMuBf7SHHkQkbYlU+ct/bes4tiyaey7eSnrCroysXQ0M4v3oyYvc+GtmnNKthT4ieSwhSs2sGrtFsYc2K9d1PZBbO7Zt4gFy9ZTreae0ry+AZwOfBF4FLgCeIPaGrvGKgDygW7ARqAQqAS6uPsbcZo7getR4CeSUzJ9i69k6xrGlr3L0I2fsCm/E8+XHM7UHkZ1fsF20w0s6cKNl47ZlcmVHKHATyRH1dQkmPb+Koq7dWTIoNx+ty/d3v278+HitSxcvoGS4o6tnRzJHQl3Xx5r5f7l7lVmVtDgXHVw9/Vmdi0wF9gEvAxsBZamTLYU2KMxyy0pafx3LEtL209nSMprbtod8vrTv7zK9A/LdhheXLmBY8qnc9D6j6jM68ArvQ/hrZ7D2Jq/4/2rW6cC/vaTk3ZFctuM3WHfNpeWzqsCP5EcNW/JOtZu3Mq4kQPJz8/8PkCu6l8SPuY+b/EaSor7tnZyJHdUmNkPgXHAJbHp58amLszMRgAXA3sDa4F7gJNgu1d98oBGVV2XlW2gpub/s3ff8XEd573/P1vQewfYwD7sBMUisau5qFmW5FiWfSXFiWUrTuwkTpz4Xis3Tq6d2JajJPbPLVIUF1m2bPXeLIlqFCU2kASJYQcLAAJY9LbAlt8fAGkQRFmAAA6w+L5fL76IPWfO4Dkkyj5nZp7pvVqofzk5KVRXNw3lU0xYutfoNN7vta/RPYDEQBvr6vZS1HAQXLA9fSFbM5bQ5onvs5+Fhel898ubx/W9jrTx/n87koZyr263a1gP+ZT4iUShjkCQ4kM1ZKfFMyNv6D8YJjqP28X03GSOlTey0uTgmWSJr4yaPwW+Ctxpra0zxmwAPncR/X0E+L21tgrAGPMz4G+Bgh5t8oEL3zGKyLi3taSS+5/Zf8HxuGAHa+pLWF1/AG84yJ7UubyTuYwmb1Kf/cR44KdfvXK0w5VJIKLEzxjzaeAeutYf/Ie19oe9zvdZgcwYsx74dyAW8AF/Yq0tM8akA78CZgPVwCettZUjdE8ik96bu8tp9QfYsLwAVz/Vv6JdYX4KR8obqfS1MDVn8iW/MvKstdYY8yVgrjHGBdxlrW29iC6Lge8aY5Lomup5A13TPT9hjFlvrX0HuB144WJjF5Gxcc/9Wyn3tfV5zhsKsLKhlMvq9pEQ6mB/8kzeyiyiLja13/5UuEVG0qDVHowxU4FvARuAIuDzxphFvZo9BPyFtXY+XdNS7uo+/iu6KpMVdX/8/e7j3wTestYuBO4H/vNib0REujS1dvDy+yeZmp1Efubk3c6gIDuRWK+bsspmp0ORKGGMuQw4AjwHTAVOGmPWDbc/a+3LwK+BHcAeuh6ufhv4DPDvxphSIJk//O4UkXFqa0klf/Lt1/pM+tzhICsaLF8oe4IrfDs5HZ/Dg9Ov5+n8TX0mfelJMTz4tSt58GtXKumTERXJiN/VwGvW2loAY8yjwCeAf+5+XUgfFciMMQ8C91hr93Qf3wN8qfvj64BN3R//GvihMSbGWnt+PVsRGbKn3j6GvyPASjOkehBRx+N2M3NKGscrGrgslOd0OBId7qXrd+KvrLWnjDG30/XgcvVwO7TWfgf4Tq/DxcCaYUcpImPqC/e+RmfwwuOucIhFzcfZ4NtNRqCZk/G5PJW/iVMJ/f9Oukubr8soiiTxm8KFFcbWDHJ+mrXWT9dIIMYYN/AN4Mne13RPCW0EcohwHcNwFjMO1WSqIHSW7nniK6ts5I3d5Vx+yXSmF1xYyTMlue8F4zEx3n7PXUxbp/ueMy2NgyfqaGgNkJgYR84kGQGNtq/rcSTRWrvfGAOAtfZ5Y8y3HI5JRBxy7693cqCs/sIT4TDzWk6ysXY3uR31nInN4LcFV3E0cYo2XxdHRZL4uRm4wtiA540xscDPuz/Xv/RoQ3/XDGaoFcuGajJVEDpL9xwdfvJoMfExHj60ehoHjteedy4lOZ6m5vY+r+vsDPR77mLaOt33jLwUvB4Xpcd9tK6eRnWwj0eyUSaavq6HW7VsFHUaYzLo/p1nzmaAIjKp9FelE2BGayWbfTuZ6q/BF5PKk3mbKE0u7DPh0/o9GWuRJH6ngI09XveuMHaKfiqQGWOSgafpKuxyY4+pnKe7250yxniBlO42IjJMe4742Heslk9dNY/khBinwxkXvB4303KSOXGmmeAoPiySSeNbdBVfyTfG/JqurRc+72xIIjIWBkr2APLba9js28WstgoavYk8n7uWvSlzCLsuLKehDdjFKZEkfq8C3zDG5NC1X9Et9PhF112ls72fCmQPAYfpqvLZc0TveeAOukYAb6Wr0IvW94kMUyAY4pHXDpGXkcCVl0zFHxjStl9RrTA/heOVTRw+Vc8l83KcDkcmMGvtM8aYA8CHAA/wz9baAw6HJSKj7M/ve4O2jr5/r2Z11LPJtxvTcoJWdxy/z17FzlRD0O25oK0SPnHaoImftfa0MebrwOt0bcvwgLX2fWPM88D/tdZup6sC2f3GmFRgJ/B9Y8wK4EZgP7Cze0ZMubX2WuAfgJ8ZY0qA+u7rRWSY3th1mgpfK1++ZRlej1uJXw9Tc5LwelzsPlSjxE+GxRjTe+HNtu6/E4wxl1hrd451TCIy+vpdwwekdTazobaYxU1H6XR5eStzOR+kL6LDff6MG03nlPEkon38rLUPAw/3OnZtj4/7qkC2iwvX8p1tXwt8bEiRikifmts6eertYyyamcHyuVlOhzPueD1upuYkU3y4hlAojFubucvQPTbAuTBde9KKSJQYaFpnYqCN9XV7KGo4RNgFH6Qv5L2MJbR5zi80lp4Uw31f2thnHyJOiSjxE5Hx6+l3jtHqD/CpK+dN2s3aB1OYl0xZZROHTtVjZmQ4HY5MMNbaWU7HICJj40++/Vqfx+OCHVxaX8Kq+gN4w0GKU+fybuYymrxJ57Vzu+CBv79yLEIVGTIlfiITWIWvhdd3nmZz0VSm5Y6r6ofjytScZGK8braXVivxkyEzxvydtfa7xpg+N1K31n55rGMSkZEx0HROgJhQJysbSrmsroT4UAclyTN5O7Ooz43XNa1TxjslfiIT2COvHSY2xs3HN2pAYiAxXjeLZmay/WAVt31oHm6NjMrQNHT/3Vf1aZWLFZmgvvKDt6hv6bu2oDscpKjhEOvq9pIcbONw4lTezFpBVVzmBW1VtEUmCiV+IhPUvmM+9hzx8ckr5pKaGOt0OONe0bxsig/XcPhUA/Onpzsdjkwg1tqfdn9YZa39cc9zxpi/dyAkEblIX7j3NTr72NrVFQ6xqOkYG2uLSQ80cyI+jyfyN3M6Ife8dgmxbn74lcvHJliREaLET2QCCoZCPPL7w+SmJ3DVymlOhzMhLJmdidfjZntplRI/GRJjzN1AIvDXxpiEHqdigLuB7zgSmIgMyUAjfITDzGs5yaba3eR01FMZl8kjOVdxLHHKBZuva0qnTFRK/EQmoDd3l3O6poW/uHkpMd4LN4eVC8XHelk6O5MdB6v51NWa7ilD0gkspSv5W9rjeAD4G0ciEpGIDbaOr7C1gs2+XUzx1+CLSeWJ/E3YpMILEr6Fhel89bbeu7uITBxK/EQmmNb2Tp546xgLZqSzYl620+FMKKtMLrsO1XC0vJG5U9OcDkcmCGvtfwP/bYz5uLX2SafjEZHI3XP/Vsp9bX2eK2ivYbNvJzPbKmnwJvJ87lr2pswh7Dr/garW8Em0UOInMsE8u7WMlrZObtX2DUO2fG42Xo+L7aVVSvxkOLYaY/4RyKTHPrWq6ikyvmwtqeT+Z/b3ez7bX8+m2l3MbzlJqzuOV7NXsSvVEHR7zmundXwSbZT4iUwg1fVtvLr9JOuW5lOYn+J0OBNOYryXxTMz2W6ruPXKuUqcZageAlqBXaiap8i4NFDSl9bZxMbaYhY3HcXvjuHNzCK2py+kwx1zro324ZNopsRPZAJ5bMsR3G4XN2+a43QoE9aqBbkUH/FxrKKJ2VMu3IdJZADTrLULnQ5CRM73xo6T/NvDO/s9nxRoY13dHooaDhFyudiWvpj3MhbT7ok/r51G+CTaKfETmSCOnG7g/QNVfGz9TDJS4pwOZ8IqmpeNx9013VOJnwxRmTEmyVrb4nQgItLlc995jVA/4+9xQT+X1ZWwquEA7nCIPanzeCdzGc3exAvaqlKnTAZK/EQmgHA4zG9eO0RaUiwfvXSG0+FMaEnxMV2budsq/uiKOZruKUNRAew2xrwBnKsWoTV+ImPvz+97g7aOUJ/nYkKdrKwv5bL6EuJCHexPnsVbmcupjz3/Yd9dNyxi7eL8sQhXZFxQ4icyAeyw1Rw53cgfX7OA+Fh9216sVSaH/3nBR9mZJmbma9RPIna8+4+IjLHBCrYAuMNBihoOsa5uD8nBdg4lTuPNrBVUx2Vc0PbBr2kdn0w+egcpMs51BkL87o3DTMtJYsPSAqfDiQor5ufwi5csH5RWKfGTiFlr/6n3MWNMkhOxiEwmgyV9rnCIxU3H2FBbTHqgmRPxeTyRfzmnE3IvaJueFMN9X9o4muGKjFtK/ETGudd2nqK6vp2v3Loct1vTEkdCckIMCwoz2FFazSc2a7qnRMYYcyPwz0AyXds5eOja2kEldkVGyYCbr4fDzG85ycbaXeR0NFARl8WLuZdxPKHggs3XNcInosRPZFxrbuvkmXeOs2R2JktmZTkdTlRZvSCXn71QysmqZmbk6X27ROR7wD3A3cB3gJuARkcjEolSv3yplNd3lfd7vrC1nM2+XUzx+/DFpPJE/mZs0owLEr4YD/z0q0r6RECJn8i49vzWMto6AnzyirlOhxJ1VszL5hcvuvigtEqJn0SqxVr7iDGmCGgH/gwoAb7qbFgi0WPAET6goL2azb5dzGyrpMGbxHO569iXMpuwy32ujaZzivRNiZ/IOFXf7Of3O0+xbnE+03KSCYTA3xmI6Nr+SlvLH6QkxmJmpLO9tIqbN83WdE+JRLsxJg44DBRZa98wxui7TWQEfOHe1+gM9n8+21/HptrdzG85SYsnnleyV7M7bT5Bl+dcG22+LjIwJX4i49Rz75YRCoW5YcMsoCvp++DAmYiuXT4/ZzRDixqrF+Tyi5csp6tbmJab7HQ4Mv49DTwH3AlsNcZsBGqcDUlkYhtshC+ts4mNtcUsbjqK3x3Dm5lFfJC+kE53zLk2LuBz2ppBZFBK/ETGoZqGNt7YfZoNywrITU9wOpyotWJ+Dr98uau6pxI/GYy19l+MMQ9Za093F3rZBPza6bhEJqLBKnUmBVpZV7eXooaDhFxutqUv5r2MJbR74s61OVuwJScnherqplGPWWSiU+InMg49++5xXC64Yd1Mp0OJamlJsZjp6Wy3Vdy0abbT4cg4Z4y5pPvv7O5DbwHTgCrHghKZYAab0hkf9HNp3T5WNZTiDocoTp3Hu5nLaPYmntdOVTpFhk6Jn8g4U1Xfxtt7KrnikqlkpsY7HU7UW7Ugl4dePsjp6mam5mjUTwb0WI+PY4F8YAewxplwRCaOwaZ0xoQ6WVV/gEvrS4gLdVKSPIu3s4qojzm/+NaUrAS+edfa0Q5XJCop8RMZZ158rwy3G669rNDpUCaFS+bn8KuXD7LdVivxkwFZa2f1fG2MuRz4jDPRiEwcX/nBW9S3dPZ5zhMOUtRwkHV1e0kKtnMoaRpvZq6gOi7jvHZK+EQunhI/EYf0VaWzodnP23sruHRRHrGxHlr8fzivSp2jIz05jnnT0theWsWNG2YNfoFIt+6qnvc5HYfIePa577zW5+8vVzjEkqajbKgtJi3QQllCHo9lXkF5wvnFyZTwiYwcJX4iDumrSucOW0UwGCY3I+GCc6rUOXpWL8zjV69ouqcM7Owav24uYBWg6ksifeh3A/ZwGNNygo2+3WR3NlARl8ULuWs5nlBw3ubrWsMnMvKU+ImME/7OIPZEPYX5KaQkxjodTtRxuV3njaD2tGhWJi4XvL2vkuu7C+rExXjxuvtsLpNXzzV+YbqKuvyZQ7GIjEv9ruULh5nZVsFm3y4K/D5qYtJ4PH8zB5NmnJfwaYRPZPQo8RMZJ+yJegLBMEtmZzodSlTydwYpPljd7/n8zETe3VtBbno8LpeL1Qvz8MbpR6T8Qe81fiJyvj/59mt9Hp/SXs1m304K287Q4E3iudx17EuZTdj1h6drCbFufviVy8coUpHJSe9qRMaBYDBEaVkdU3OSVMnTITMLUti67wy+Rj/Zafo/kPMZY5KBu4H1gBvYCvwIuBE4ba3t+x2vyCTRV9KX469jU+0u5rWcosUTzyvZq9mdNp+gy3OujaZ0iowdJX4i48DxyibaO4IsmpkxeGMZFTPyUthWcobjFY1K/OQ8xphMuhK9A8Ar3YevBLYDTcAVDoUm4qj+pnWmdzaxwbebxc3H8Ltj2JK5gu3pC+h0x5xr43bBA3+vpE9kLCnxE3FYOBzmQFkdacmx5GcmDn6BjIq4GA9TspM4XtnESqNCOnKefwIesNbe2+PYD40xjwKd1trG4XZsjLkB+EcgCXjZWvuXxpirgfvoKhzziLX2nouIXWRU9FWtMznQyrraPSxvPETI5ea99MVsy1hCuyfuvHbpSTHc96WNYxitiIASPxHHVde3Udvo57JFebh6LHCXsTezIJVT1RVU1bU5HYqML5cDRT0PdI8CLgRi+rogEsaY2cBPgEuBM8BrxphrgJ8Cm4GTwHPGmGustS8M9/OIjLTe0zrjg34uq9vHyoZS3OEQu9Pm827GUlq8Fz7M1NROEedElPgZYz4N3EPXL7j/sNb+sNf5IuABIBV4E7jbWhvocf7/AUFr7Te6X28GHqfrlxrALmvtZy/uVkQmpgNl9cR63cyakup0KJPe9NxkPG4XxyqanA5FxpeQtTbY61gTcAvwyEX0exNdI3qnAIwxtwLzgEPW2mPdxx4C/ghQ4ieO6mt7hphQJ6vrD7CmvoS4UCclKbN5K3M5DTEpF1yvap0izhs08TPGTAW+BawE/MC7xpjXrbX7ezR7CPictfY9Y8x/A3cBPzbGpNE1XeU24Ls92q8Cvmet/dcRug+RCamlvZMTZ5pYWJhBjPYOcFyM18203GTKKpsI9rXjsExaxpjUnlM6rbWdxpjKi+x2LtBhjHkamAE8C5QAFT3aVADThtJpVtbQ96LMybnwjXq00r0O3cf/9imCPX4kesJBVjQcZG3dXpKC7RxMms6bmUXUxF24Tn353Cy++WcbRiSOgej/NXpNpvsd7XuNZMTvauA1a20tQPeahk8A/9z9uhBIsNa+193+Z3Sth/gxXdXODgH/1qvP1UCeMeY24Djw59bak4hMMgdP1EMYFsxQUZfxYlZBCmWVTRw8Uccqk+t0ODI+PAz8lzHmTmutH8AYE0/XNM2HLqJfL7CJrqmkzcDTQBtdewSe5QJCQ+nU52smNIQHFzk5KVRXT45Rbt3r0Nxz/1bKfX+Y+u4Kh1jSdJQNtcWkBVo4npDPo1krqIjve1302Wmdo/1vrv/X6DWZ7nco9+p2u4b1kC+SxG8KFz59XDPI+WkA1tpfABhjvtGrz3rgt9bax40xdwO/oatEdkSGc6NDNZmeLpylex5bgZpmjpQ3MiM/hYLcweOIifGSkhxZtcn+2vZ3/Uj0PRLtR6Pvs+cj7dskxPLu3kqKj9RyzYY5EccynkzG7+VR9j3gV8BRY8z27mOrgde7zw1XJfCqtbYawBjzBF3TOntOK80Hyvu4VmTUXFCtMxzGtJxgo2832Z0NlMdl8XzuWsoSp/R5vfbkExmfIkn83Az89HGw8xew1t7d4+OfGGO+bYxJs9Y2RBDPkJ9mDtVkerpwlu557G3ff4bW9gCzClJoam4ftH1nZyCidv21TUmO7/f6i+17pNqPdN8973kofU/PTWZH6RnKKxom3BRcp7+uR9Jwn2iOtO71fZ8yxqwCzs5Z+6a19oOL7PpZ4OfGmHS61gxeAzwKfM0YMxc4BnwaePAiP49IRLaWVHL/Mz1W8oTDzGotZ1Ptbgr8Pqpj03g8/3IOJk2HPoqRaR2fyPgWSeJ3CuhZc7f308dTQMEA589jjHED/xv4dq/F8oF+LhGJSlv3VZIQ52FajvNvbOV8MwtSOVLeyN6jPi6Zr60dpIu1djtde/eNVH/bjDHfBd6mq3jaK3QtkygFHgPigefpSgZFRtVXfvAW9S2d515Paavmct9OZrSfod6bzLO56ylJmUXY1ffDsIWF6Xz1tkvGKlwRGYZIEr9XgW8YY3KAFrqqmH3+7ElrbZkxpt0Ys95a+w5wOwNUH7PWhowxN9G19u+3xpg7gG3W2paLuRGRiaSuyU/JMR+LZmbidmsLh/GmICuR5IQY3j9wRomfjCpr7YNcOKL3e2C5A+HIJNVze4Ycfx2bfLuY13qKZk88L2evoThtHkGXp9/rr1gxhds/smAsQhWRizBo4metPW2M+Tpdaxli6drE9n1jzPPA/+1+AvoZ4H5jTCqwE/j+IN3e2d3+H4Eq4I6LuQmRiebdfRWEwjB3WprToUgf3G4XRfOyeX//Gdo7AsTHastTEYk+PUf50jsa2VhbzKLmY/jdsbyRuYId6QvodPe9VaVG+EQmnojezVhrH6arqlnPY9f2+LiY8wu+9L7+G71elwDrhhKoSLQIhcO8VVzB3GlppCbFOh2O9GOlyeHtPRXsPlzDZYvynQ5HxhFjTLq1tn7wliLjT+/9+JIDrayv3cOyxkMEXR62ZixhW/pi/J64Pq+P8cBPv6pN2EUmIj3GFhljB0/UU1Xfxkcvm+F0KDKA2VPTyEiJ4/39VUr8BABjjAGeANKMMWvoWgpxk7W21NnIRCLTM+mLD7aztm4flzRY3OEwu9Pm827GMlq8Cf1erymdIhObEj+RMfZuSSXxsR6Wz82m+HCN0+FIP9wuF6sX5PL7Hadoae8kKb7v6U4yqfwA+Evgu93LIH4A/Bdde/GJjGtn9+SLDXWyqv4Aa+pLiAt1si9lNm9nLqchpv9tYJTwiUQHJX4iY6ijM8gOW8VKk0NsTP8L5WV8uHRRHi9/cJKdtpqNy/ver0omlSxr7StdA39grf2RMebzg1wj4pieI3yeUJBVjZa1dftICrZjk2bwVmYRNXHp/V6fnhTDfV/a2O95EZlYlPiJjKHiIz7a/EHWLtbUwYlgZn4KuekJbDtwRomfAISNMfF0711rjMkH9ARHxqVb/u5pOoJhXOEQS5uOsL62mLRAK8cT8nk06xIq4rMHvP6uGxbpd5VIlFHiJzKGtu6rJD05lgUzMmjrDA5+gTjK5XKxZlEuz20to6GlgzQV45nsfgS8BOQaY/4VuA34jrMhiZzv3ChfOIxpKWOTbzdZnY2Ux2XzfO56yhILBrxeo3wi0UuJn8gYaW7rZO9RH1evmqa9+yaQSxfm8ey7ZWwvreKqldOcDkccZK190BhzGLiOrg3X77LWvuJwWCIAbC2p5P5n9kM4zKzWcjbX7iLfX0t1bBqP5V/OoaTp4Or/d48SPpHop8RPZIx8UFpFMBTW1JkJZmpOMlNzkth24IwSv0nKGJPZ4+W+7j/nzllra8c+KpE/uPfXOzlQVs/Utio2+3Yxo/0M9d5knsldz/6UWYRd7n6v1fYMIpOHEj+RMbK1pJKp2UlMz012OhQZoksX5vH4m0epaWgjO63/UucStWroWtfXc7jk7OswWucnY6z3Xny5/lo+4dvF3NbTNHsSeClnDcWp8wi5Bv7S1CifyOSixE9kDPga2jl8qoFbNs/GNcBUGxmf1izqSvzeP1DFtZcVOh2OjDFrbf/DJSJj6Nx0zm4ZHY1sqN3N4ubjtLtjeSNrBTvSFtDpHnj7GSV8IpOTEj+RMbDDVgGwakGuw5HIcOSmJzBnSirvlZxR4jeJGWM8wBeAjwBB4Glr7c8cDUomjbPTOQFSAi2sq93D8sbDBFwe3s1Yyrb0Rfg9cQP2of34RCY3JX4iY2C7rWZGbjJ5GYlOhyLDdOmiPB5+9RCnqpuZlqPpupPUD4BFwC8AN/Cnxpi51tp7nA1LolXPZA8gIdjOZXX7WNlQiisMO9MMWzOW0uIdeAp6QqybH37l8lGOVkTGOyV+IiMoEAJ/Z+C8Y/XNfg6fbuD6dTNp8f/hXCg81tHJxVi9MI/f/P4w2/afYdpmJX6T1IeARdbaTgBjzENAMaDET0ZU74QvNtTJ6vr9rKnbT0w4QEnKbN7OXE5DzOA/izTKJyJnKfETGUH+zgAfHDhz3rEDZXUAeNyu884tn58zprHJxUlLimXRzAy27T/DzZu0VnOSqqbr92Zn9+sQUN9/c5HIbS2p5MFn9xPs8VDQEwpySaNlbe1eEkN+bNIM3swqwhebPmh/bX3CkQAAIABJREFUmSmxfO/PN4xixCIy0SjxExllJyqbSE+OJS1Zm39PJC6367wRWoCi+Tk89JKl5Hgds6aknjseF+PFq/Ifk8Fu4C1jzM+AAHArUGOM+QqAtfY+B2OTCWprSSUPPLOfnpNAXOEQSxuPsKGumNRAK8cSCtiStYLK+OyI+rxixRS+8r9WU13dNDpBi8iEpMRPZBS1+QOcqWtj+dwsp0ORIfJ3Bik+WH3esUAwiMft4rmtx7l0Ud6546sX5uGN04/TSSAB2Aus7H59vPvvpYAmb8uQ3XP/Vsp9bX84EA6zoLmMjbW7yeps5HRcNs/mbuBE4sD7v2o6p4hEQu9UREbRiTNdT1sL81IcjkRGQqzXw7TcZMoqm1i9IBe3W9M9JxNr7WedjkEmtt77750TDjO7tZxNtbvI99dSHZvOY/mXcyhpOgwwrXxKVgLfvGvtKEYsItFEiZ/IKCqrbCYtSdM8o8msghTKKpuo8LUyNSfJ6XBkDBljLge+BmT2PG6tXeNIQDKhXDC6121a2xk2+3Yxvb2Kem8yz+RtYH/yTMKu/uePez0uPnvtQtYuHngkUESkJyV+IqOkvSPAmdpWlszJUiGQKDI1J4kYr5tjFY1K/CafB4DvA0ecDkQmlnt/vfOCpC/XX8sm3y7mtp6m2ZPASzmXUpw6l5DL02cfCwvT+eptl4xFuCISpZT4iYySE2eaCQOFeSr9H008bjeF+Skcr2gkEMzD61FVl0nkjLX2+04HIRNHX1M7Mzoa2Vi7m0XNx2lzx/J61iXsSFtAwN33WzIlfCIyUpT4iYySssomUhJjyEiJczoUGWGzClI4fKqBU1XNzCxIHfwCiRbPGGO+CLzEH7Z0wFp7wrmQZDzqK+FLCbSwvraYZY1HCLg8vJOxlPfTF+P39L0UQAVbRGSkKfETGQXtHUEqa1tZPDNT0zyjUF5mIglxXo5VNCnxm1yygH8BWnocCwP6IhCg74QvIdjO2rp9XNJQCmHYmWZ4N2Mprd6EC653AZ+7YZHW7onIqFDiJzIKTlU1Ew5DYb6qeUYjt8vFrIIUSsvq8HcGnQ5Hxs4NQIG19ozTgcj407t4S2yogzV1+1ldv5+YcJB9KbN5O3M5jTF9T//XlE4RGW1K/ERGQdmZJpITYshM1TTPaDWrIJX9x+s4UdkEy5yORsZIFVA9aCuZdHomfd5QgBUNB1lbt5fEkJ/SpBm8lVWELzb9guvu0uieiIwhJX4iI6yjM0hFTQsLCjM0zTOKZabGkZoYw9GKRqdDkbGzF3jbGPMM4D970Fp7n3MhiVN6T+t0h0MsbTzM+to9pAZbOZpQwJtZK6iMz+7z+itWTFHSJyJjSomfyAg7WdVMSNM8o57L5WLWlFSKD/uoa/KTFKcfp5NAImCB+U4HIs46b1pnOMzC5uNsrN1NZmcTp+OyeTZvAycS+07qtAefiDhF71RERljZmWYS471kp8U7HYqMslkFXYnfzoPVTMvWnn7Rzlr7WadjEGdtLankwWf3EwwD4TCzW0+z2beLvI46qmLTebTgCg4nToM+ZnvExXi446NGCZ+IOEaJn8gIavMHKK9pwUxP1zTPSSA1KZas1Hh2lFbxsXUznQ5HRpkxZi3wNSCZrgKMHmCWtXaGo4HJqOqrUue0tjNs9u1iensVdd5kns7bwIHkmYRdF+7rqW0ZRGS8UOInMoJKjtUSCoUpzNem7ZPFrCkpbC+tpsLXQkGWRv2i3APAL4BPAD8BPg485mhEMqp6J315fh+bfLuY01pOkyeBF3MuZU/qPEJ9JHxTshL45l1rxzJcEZEBKfETGUG7D9WQEOchJ/3C/ZkkOs3MT2VHaTXb9p/h4xtnOx2OjK6wtfY7xphsoBT4JLDd4ZhklGwtqTyX9GV0NLKpdhcLm8toc8fyetYl7EhbQMDd99soJX0iMh4p8RMZIe0dAfYfq2X21FRN85xEEuO9zJueznv7z3Djhln6v49uTd1/HwGWWGvfMcZoI8codHYtX0pnCxvqilnaeISAy8M7GUt5P30xfk9sn9e5XHB5kaZ2isj4pMRPZITsPVpLZzCkap6T0KoFuTz8ykGOVzYxqyDV6XBk9GwzxjwC/APwnDFmPhBwOCYZBU+8WMzlVbtZ0WAB2JG2gK0ZS2j19j2bQ5uvi8hEEFHiZ4z5NHAPEAP8h7X2h73OF9G19iEVeBO421ob6HH+/wFBa+03ul+nA78CZtO1Ge4nrbWVF303Ig7aXlpFSmIMuRma5jnZLJ+bzW9fO8TWkkolftHtr4FLrbUHjTF/CXwIuM3hmGSEbC2p5Hcv7mVJ5V5ur99PTDjI3pQ5vJO5jMaY/tdtq3iLiEwUF65G7sUYMxX4FrABKAI+b4xZ1KvZQ8BfWGvn01Xp7K7ua9OMMf8N/E2v9t8E3rLWLgTuB/7zou5CxGH+ziB7jvhYPjcbt6b6TTqJ8V6Wzcnm/QNVhEJhp8ORUWCMcQEea+17xpgUIB74kbXWjkDf3zPG/Kz74yJjzHZjzEFjzAPGGM3MGQNbi0+y95e/4077OzbU7eFY4lQemPExXshb12/SFxfj4a4bFinpE5EJY9DED7gaeM1aW2utbQEepauiGQDGmEIgwVr7XvehnwF/1P3xjcAh4N969XkdXSN+AL8GrjHGxAzrDkTGgX1Ha/F3Bimal+10KOKQyxbl0djSwYETdU6HIiOs+2HnMeCjxpgE4H26Hoi+YYz50EX2fRVwZ49DfT5IldERDgSo3/I6cT/+Vy6v2UFFfDb/M+06nizYTG1s2gXtvR4Xd92wiAe/diU//pvN2pNPRCaUSJ4kTgEqeryuANYMcn4agLX2FwDGmG/016e1NmCMaQRygHIikJU1+qXyc3Im3zot3fPw7XvpICmJsSybn0vxoZqIromJ8ZKSHPkm70Np31/b/q4fib5Hov1o9H32/GjGnZgYx5WXzeR/Xiil+Egtl68ujPjzjIbJ+L08yu4Fvm6tfdYYc3YT98XAVOA3wCvD6dQYk0lXAvkvwPJ+HqT+E/Dji4hd+rB1XzkfPPoSa87sJLOzifr4HJ7K28DJhIETuc9eu1DJnohMWJEkfm6g59wlFxAawvm+9J4LF8k15/h8zaM6nSonJ4Xq6qbBG0YR3fPwdQaCbCupYM3CXPztnTQ1t0d2XWcg4rZDbd9X25Tk+H6vv9i+R6r9SPfd855HM+7WVj+uYJBL5mXzzp7T/NHmWcR4PRF/rpEUTd/LbrdrTB70RWCGtfbsLJUrgKestSHgpDHmwmGhyP0U+Dowvft1vw9SZWS8sf0Ez/7PM6yv2sVHO+qois3gdwVXciRxaldJzgEkxXuU9InIhBZJ4ncK2NjjdT7nj8ydAgoGON+X093tTnWvX0gBfBHEIjLulByro70jyEqT63Qo4rBLF+fxzr5K9hzx6eshuvTcsmEd8OUeryMfRu7BGPM54KS19vfGmD/uPjycB6kXGE6yHM2jxG/sOMl/PbmXdN9JNvt2cVN7NXUxKTyVt5EDyTMHTfigq8ndNy+fcP9OEy3ei6F7jV6T6X5H+14jSfxeBb5hjMkBWoBbgM+fPWmtLTPGtBtj1ltr3wFuB14YpM/ngTvomt5yK12FXjqHcwMiTttuq0iM87KwMAN/YMjv0SSKLCzMIDUplvf2n1HiF11qjTHL6XpIWQBsATDGrKPrQeZw3AoUGGN2A5lAMl1J31AfpF5gqLNiommUuLdfvlTK/q17uaZ2F7Nby2nyJPBizmXsSZ1LyBVJmQNITvBy29XzWTwjfUL9O0Xz/2tvutfoNZnudyj3OtwZMYMmftba08aYrwOvA7HAA9ba940xzwP/11q7HfgMcL8xJhXYCXx/kG7/AfiZMaYEqO++XmTCCQRD7D5Uw4p52Xg9biV+k5zH7WbNglze2F1OS3snSfGqWRUl/g9dD0HTgL+z1rYYY/6WrmmaHx9Oh9bac0Vhukf8LrfWftYYs2+ID1KlH7/73Tukvf0yn20po80dy2tZK9mZZgi4IyuU6vW4tKZPRKJKRD/9rLUPAw/3OnZtj4+LOb/gS+/rv9HrdS3wsaEEKjIeHSiro9UfYOUCje5Il7VL8nl1xyk+OFDF5SumOh2OjIDuLRymAonW2vruw+8Ca6y1h0b40w31Qar0sm1rKeWPPcbS+sMEXB7eyVjG++mL8HtiI+4jLsbDHR81SvpEJKpofyCRi7C9tIr4WA+LZ2Y6HYqMEzPzUyjISuTdfZVK/KKItbYD6Ojx+t0R7PtndFXwHPRBqvQv0NhIyS8fIWX3VkwYdqQtYGvGElq9CRH3cXZapxI+EYlGSvxEhikQDLHzYDVFc7OJ8Ua2VkSik8vtosUfOPd69cI8nn77GMcqm8jNuPBNZ1yMF33JiIyMYGsrdS+/QN0rLxPn72Bv6hzeyVjW78brPWlkT0QmEyV+IsO0/3gtLe0B1izMczoUcZi/M0jxwepzr2O9LlzAk28dZcW87Avar16YhzdOP35FLkaoo4P6116l9oXnCLW0kLxqNfdVTelz4/XeNLInIpOR3nmIDNO2/WdIiveyZLamecr5EuNjyM9K5OjpBormZuGKoFy8iEQmHAjQ8Pab+J59mmB9PYlLlpJ90y3EF87E9aN3oNHf77XXri3kE5vnjGG0IiLjhxI/kWHwdwbZeaiGSxfm4vVozp5caM7UNN7eU8GZ2jbysxKdDkdkwguHQjR9sA3fk0/QWV1F/Jy5FHz+z0icbwDYWlJJU2tHn9eeHeH72OXzJk1peBGR3pT4iQzDniM+/B1BTfOUfs3ISybG4+bI6QYlfiIXIRwO01K8m5onHqPj9Cnipk9nypf/iqSly3G5XGwtqeThVywt7cE+r79ixRRu/8iCMY5aRGT8UeInMgzb9p8hLSmWBTMynA5Fximvx01hQQrHKxpZHcgl1utxOiSRCae19AA1TzxG+5HDxOTmkf/5u0lZtQaXu2umxdaSSn7+QikdA+yhuueIb6zCFREZ15T4iQxRa3uAPUd8XF40Bbdba7ekf/OmpXH4VAPHK5qYPz3d6XBEJoz248epeeJRWkv24c3IIPf2PyZt/QZc3vPftjy+5ciASR+Ab4A1fyIik4kSP5Eh2nmwmkAwxKWLNM1TBpadFk96ciyHTjUo8ROJgL+8HN9Tj9O8Yzvu5GSy/+hW0q+4Cnds35uvR5LUZaXGjXSYIiITkhI/kSF6b38l2WnxzJ6S6nQoMs65XC7mTUvng9Iq6prayUiJdzokkXGp01eD7+mnaHz3bVyxcWTecCMZH/4onoSBN1/PSo0bMPnzelzcrCqeIiKAEj+RIaltbOfA8TpuWD9TJfolIrOmpLLDVnPoVANrFirxE+kp0NhI7XPP0LDldQDSr/4wmddehzclsgdry+Zk8fqu8j7Paa8+EZHzKfETGUAgBP7OwLnXbxSXEwZWzM+hxR+4oH0oPIbByYQQH+thRl4yR8sbWTk/B4+2/xAh2NpC3UsvUvfqy4Q7O0ldv4GsG24kJjMrousHquSpKp4iIn1T4icyAH9ngA8OnAG6Sopv2XWavIwEjlU0cqyi8YL2y+fnjHWIMgHMnZbG8comys40a4qwTGohv5/6116l9oXnCbW2kLJ6DVk33kxs/uCjcoNt23CWqniKiPRNiZ9IhKrr22lq7WTp7MieSIucVZCVSEpiDAdP1ivxk0kpHAjQ8Nab+J59mmBDPYlLlpF98y3Ezygc9NpIE76zVMVTRKRvSvxEInTkdANej4vC/BSnQ5EJxuVyYaans91WU9vY7nQ4ImMmHArRtO09fE8/QWd1NQnz5pP1hT8jcb6J6PpI9unrTVU8RUT6psRPJAKBYIjjlU0U5qUQ49UaLRm6OdPS2HWoBnuino9cOvgoh8hEFg6HaSneTc0Tj9Fx+hRx06cz5ct/TdLSZX0WxtpaUsnjW47ga/TjdnWtl06K99DqDxIewtrpWK9bVTxFRPqhxE8kAifONNEZCDFnaprTocgEFRfjYdaUVI5VNNLa3klSnH78SnRqLT1AzeOP0n70CDF5eRR8/s9IXrUal/v8h2Y9k72ezhbJinRq51mq4ikiMjC98xCJgD3RQEpiDHmZA+8pJTKQBTPSOXyqgff2n+GGtTOdDkdkRLUfO0rNE4/Rur8Eb0YmeXd8ltR163F5L3yrMZwpnP1RwiciEhklfiKDqG1sp7q+jVUmR3v3yUXJTI0nJz2Bt4vLue6yQtz6epIo4C8vx/fkYzTv3IE7OZmcT36KtCuuxB0T2+81j285ctFJnxI+EZGhUeInMoiDJ+vxuF2a5ikjYkFhOm8VV7DniI+iudlOhyMybJ011fiefpLGre/ijosj62MfJ/1DH8GTMPjMiOFW3nS74E+vX6RkT0RkGJT4iQygzR/gaHkjMwtSiIv1OB2ORIHCvBT2pdTy4rYTSvxkQgo0NFD73DPUb3kdl8tFxtUfJvPa6/GkRF7xOCs1bsjJX6zXzZ3XLFDSJyIyTEr8RAbwwYEqAsEwZkaG06FIlHC7XVxxyVQe33KUI+UNzJmikWSZGIKtLdS9+AJ1r75MOBAgbcNGMq+/kZjMzCH3dfPmOf2u8etZ1dPlctHcFiArNY6bN89R0icichGU+In0IxwO81ZxOVmp8WSnxTsdjkSRdUsKePG9E7y47QR/ftNSp8MRGVDI76f+969Q++LzhFpbSVlzKVk33kRs3vCTsLMJ3NmqnkrsRERGnxI/kX7sP15HZW0r65bojYiMrLhYD1dcMpXnt5ZxpraVvMxEp0MSuUA4EKDhrS34nn2aYEMDSUuXkXXTLcTPiHwfyp5bNmSlxrFsThZ7jviU7ImIOECJn0g/XthWRmpSLLOmRL5uRSRSV6+cxkvvn+Cl909wx0cXOB2OyDnhUIimbVvxPfUknTXVJMybT/bdf07CvPlD6qf3lg2+Rj+v7yo/d97X6OfnL5QCKPkTERkDSvxE+lBW2cT+43XcuGEWnl6bDouMhLTkONYtKeDtvZVcv24mmamaTizOCofDtOzeSc0Tj9NRfpq4GYVM/auvkLh46bC2solky4aOQIjHtxxR4iciMgaU+In04YVtZcTHeli/rIB9R31OhyNR6vq1hbyzt4Ln3ivj9g8bp8ORSaz1wH5qnniU9qNHicnLp+ALXyR55SpcF/HgK9KqncPd2kFERIZGiZ9IL9X1bXxQWsVH1swgIU7fIjJ6stMT2LisgDd3l3PtpYVkqYiQjLG2o0fZ9/0naNizF29GJnl3fpbUdRtweS5++5pIt2zISo276M8lIiKD0xw2kV5eev8EbpeLD62a7nQoMglct3YmLhc8u/W406HIJOI/fZryH/6Ak//yz7QcLyPn1tuY+S/fJm3j5hFJ+qBry4ZY78BvM2K9bm7ePGdEPp+IiAxMwxkiPdQ2tvNmcQVrl+STkRJHiz/gdEgS5bLS4tm0fApbdpdz7WWF5KQnOB2SRLHO6mp8Tz9J43vv4o6LI+vGm5j7qVuoa7n4n3W9K3jevHkOd16zQFU9RUTGCSV+Ij08u7WMcDjMx9bNdDoUmUSuWzuTN4srePrtY/zp9YucDkeiUMjvp/rR39Lw5hu43G4yPvwRMj96HZ6UFLyJCdDSNKT++tqm4Z29ledV8Pz5C6Xcec0C7v3i+tG4JRERGaKIEj9jzKeBe4AY4D+stT/sdb4IeABIBd4E7rbWBowxM4CHgFzAAp+x1jYbYzYDjwMnu7vYZa397EjckMhwVdW38VZxOZuKppCtURcZQxkpcVy9ahovbTvB1aumU5ivLURkZLXaAzRseZ20DZvIvOFGYjIyht3XYNs0nKWKnSIi48uga/yMMVOBbwEbgCLg88aY3o+kHwL+wlo7H3ABd3Uf/xHwI2vtAmA78A/dx1cB37PWFnX/UdInjnv67WO43S6uXzvT6VBkErp+7UySEmJ45LVDhMNhp8ORKJO0dDnzfvRf5N3xxxeV9EFk2zScpYqdIiLjRyTFXa4GXrPW1lprW4BHgU+cPWmMKQQSrLXvdR/6GfBHxpgYYFN3+3PHuz9eDXzYGLPHGPO0MUZVNMRR5TUtbC2p5MpLppKRogpzMvYS473ctHEWpSfq2X2oxulwJMq4XC5c3pFZ3TGUZE4VO0VExo9IEr8pQEWP1xXAtAjOZwON1tpAH9fVAz+w1i4Dngd+M/TQRUbOY1uOEBvj4ZrLCp0ORSaxTUVTKMhK5JHXDxMIRjaiIjLWIk3mVLFTRGR8ieTxnxvoOe/IBYQiON/7OGevs9beffaAtfYnxphvG2PSrLUNkQSdlZUcSbOLkpMz+dbYTNZ73mWr2HWohjuuXcicwqzzzodrW0lJjnxvtZgYb8Tth9J2pPru7/rxHvfFtD97fjzFnZgYR05mYp/nPn/TMv7pgfd4d38Vt1w5j6bWDtraI6+42NTaMSm/l2Xs3Lx5znlr/KAryVu/NF8VO0VExrFIEr9TwMYer/OB8l7nC/o4XwWkGWM81tpgd5tyY4wb+N/At7uPnxXxOxufr5lQaPTWwOTkpFBdPbQKZxPdZL3nisoGfvxYMbnpCaxflHfBv0GrP0BTc3vEfXZ2Rt5+KG1Hou+U5Ph+rx/PcV9M+573PJ7ibm31Ux0M9nmuMDuRornZPPxyKYtmpJEQH8MHB85E3PfmlTNob4mOdVVut2tMHvQ5yRjzj8Anu18+Z639O2PM1cB9QALwiLX2HscC7MPZZK731g1K8kRExrdIpnq+ClxljMkxxiQCtwAvnj1prS0D2o0xZ+s13w68YK3tBN4Cbu0+fkf38RBwU3c/GGPuALZ1rx8UGVOv7TxNha+VW6+aS8wgGw2LjJVPf2geAA+/csjhSGQ0dSd4HwZW0FU8baUx5jbgQeBGYCGw2hhzjXNR9m3t4nzu/eJ6Hvzaldz7xfVK+kREJoBB3+laa08DXwdeB3YDD1tr3zfGPG+MWdXd7DPAvxtjSoFk4Pvdx79IVxXQ/XSNGp59ankn8FfGmBLgs8DnRuqGRCJV3+TnqbePsXhWJkVzs50OR+Sc7LQEPr5hNrsP17DniAq9RLEK4G+stR3dD0sPAPOBQ9baY91r5B/iD4XRREREhi2iEl/W2oeBh3sdu7bHx8XAmj6uKwMu7+N4CbBuiLGKjKj7n9pLR2eQ266ah8vlcjockfNcvWoa7+6r4NHXj/DRS2doRDoKdf8uBMAYM4+uKZ8/YOCCaiIiIsMyMrWdRSaY3YdqeHPXaW7cMIsp2UlOhyNyAa/HzR0fXcC//nIHO2wVl2kqXdQyxiwGngO+Std69/k9TvcuqDao4ayL7F0Q6I0dJ/nFCweoqWsjOyOBO65ZyOUro2PnpclU/Ej3Gp0m073C5Lrf0b5XJX4y6bS2B/jly5aZBalct1bbN8j4NXdqGlesnMZrO05RmJ9CQZYeUkSb7vXxjwF/Za39jTFmM30XTIvYUAug9S7utbWk8ryqndV1bfzgt7tpbGqf8Gv5JlMhM91rdJpM9wqT636Hcq/DLX6muUMy6fzujcPUN/v50ieL8Hr0LSDj23XrCklNjOHdvZV0BrS3XzQxxkwHngQ+ba09u5/ttq5TZq4xxgN8GnhhLON6fMuR87ZqAOgIhHh8y5GxDENEREaYRvxkUtl9uIYtu8u5auU00pPjaGkduOz9KO4aIhKRWK+HdUvzeXHbSU35jD5/C8QD9xljzh77CfDHdI0CxgPPA4+OZVC+xr5/LvZ3XEREJgYlfjJp1DX5efC5A0zLSSI/K4GdtmrQvdeWz88Zo+hE+pebkciimRnsP17HtJxkpuVG9952k4W19i+Bv+zn9PKxjKWnrNS4PpO8rNQ4B6IREZGRonluMimEQmEeeHY/HYEgd167EI9bX/riHJfbRYs/ENGfs6POK+Znk5ESxzt7K2nzB5y9AYlqN2+eQ2yvKrKxXjc3b57jUEQiIjISNOInk8IL28o4UFbHH1+zgPzMRE6emRwLhWV88ncGKT5YHVHbs6POHrebjcsLeO7dMt7ZW8FVK6dpGxIZFWcLuDy+5Qi+Rj9ZqXHcvHnOhC/sIiIy2Snxk6i396iPx988ypqFuWxcVkBrR9DpkESGJT05jpULcnh/fxWlZfUsnJnhdEgSpdYuzleiJyISZTTfTaJaZW0rP3mqhKnZyXz2moUaIZEJz0xPZ2pOEjsOVlPXpGIbIiIiEhklfhK12vwBfvDYHjxuF1++ZSlxsR6nQxK5aC6Xi3VL8on1unmruJxAUFs8iIiIyOCU+ElU6gwE+f8e38uZ2ja++PElZKcnOB2SyIhJiPOyfmk+9c0d7IxwraCIiIhMbkr8JOoEQyF++vR+DpTV8SfXLWBBodZBSfSZmpPMghnplJbVc7Kq2elwREREZJxT4idRJRQO84sXLTsPVnPbVfNYt6TA6ZBERs1Kk9O9xUMFza2dTocjIiIi45gSP4kawVCI/3nuAG/tqeCGdTP50OrpTockMqo8HjeXr5hCOAxbdpcTDGm9n4iIiPRNiZ9EhY7OID98fB/v7Kvk4xtn8fGNs5wOSWRMpCTGsm5JPr7GdraXar2fiIiI9E2Jn0x49c1+/u2R3RQfruEzH5rPx9bP0rYNMqkU5qewsDADe6Ke9/dXOh2OiIiIjEPawF0mtNKyOn7ydAnt/gBfuHExaxbmOR2SiCNWmhxqGtr42XP7mZG9ioKsJKdDEhERkXFEI34yIXV0Bnn8zaPc+5tdJMV7uefOVUr6ZFJzu11sWj6FGK+bHz25D39n0OmQREREZBzRiJ+MiUAI/J2BiNvHxXjx9vFYIhwOU3zYx8OvHqSmoZ11S/L51NXzcbmgxR9Z/6FwxGGITChJCTHcdeNS/uPXO/nFi6V87vpFmvYsIiIigBI/GSP+zgAfHDgTcfvVC/Pwxv3hyzMUDlN8qIbnt5Vx5HQjU7KT+LvbVrBgOmQNAAAgAElEQVSgMIMW/9D6Xj4/Z0ixi0wkS2Zn8fGNs3jirWNMzUnm2ssKnQ5JRERExgElfjKu1Ta2897+M7yzt4IKXyvZafF85kPz2Vw0Ba9HM5VF+nL9upmcrmnhsTeOUJCZyAo97BAREZn0lPjJuBIOh/E1+nlp2wlKT9Rx5FQDYWDO1FQ+f8MiVi/MxeNWwicyEJfLxZ9cu5Dq+jb+65n9fO0zl1CYn+J0WOKQrSWVPL7lCL5GP1mpcdy8eQ5rF+c7HZaIiIwxJX7iuDZ/gPKalu4/reeKUhTmpfCxDbNYuziP3IxEh6MUmVhiYzx86ZZlfPMX2/n33+7mf/+vleRl6vtostlaUsnPXyilIxACwNfo5+cvlAIo+RMRmWSU+MmYC4bCVNe1cbo72atr8gMQH+thak4SU7KTuHZtIflK9kQuSnpyHH9zaxH/+tBOvveb3fyf21eSkRLndFgyhh7fcuRc0ndWRyDE41uOKPETEZlklPjJmGhp7+TI6QZOnGmmwtdCIBjG5YLcjARWzM9mSnYSmSlx5yoQpiTGOhyxSHQoyErirz+5nO/+ehf/9shuvnrbCtKS9P01Wfga/UM6LiIi0UuJn4yauiY/Ow9Ws/NgNfZEHaEwJMZ5mT0llak5yeRnJhLT154NIjKiZhWk8uVblvGfjxbz7Yd28DefKiI7LcHpsGQMZKXG9ZnkZaVq5FdEZLJR4icjqsLXwq5DNeyw1RyraAQgPzORq1ZNJ8bjIistPqJ9xVxul/blExlBCwsz+NtbV/DvvyvmXx/ayd9+qoiCrCSnw5JRdvPmOeet8QOI9bq5efMcB6MSEREnKPGTixIIhjh8qoHdh2soPlzDmbo2AGbmp3DzptlcMj+HKdlJQ95rz98ZpPhgdURttS+fSGTmTkvj7z+9gvt+W8y3frGDz92wiKK52U6HJaPo7Do+VfUUERElfjJkNfVtHCirY39ZHXuP+Gj1B/B6XCyYkcHVq6ZTNDebrLR4p8MUkT7MyEvh67ev5IdP7OX7j+7hurWF3LRxNm734CPxMjGtXZyvRE9ERJT4ycDC4TC+hnYOnqqntKye0hN11DS0A5CaGMOK+dkUzc1m0cxMEuL05SQyEeSkJ/D121fyq1cO8dzWMvYfr+V/fdgwqyDV6dBERERklOidupwTDoep///Zu/P4uOp6/+Ovyb6nbZLuCxTaT1ugC1D20kILioriioCIKCDu9+d29QqK69Wr14t63a6IoMgiiwjKXqAUaKELpdDl09KN7k3TJVuzz++PcwLTdNJM2iSTTN7Px6OPZM75njOf70w653zmu1U3sHFHJRu3V7Eh/Fl9oBGA/JwMbPRALpw+ioljBjK8ND+h8Xoi0vtkZqTziYsmMHHMQO6eu5Yf3L6Yc6cO5+KzjmFQkVrsRUREUk1CiZ+ZXQ7cAGQCN7v7r9vsnwrcAhQBzwHXu3uTmY0G7gAGAw5c4e7VZjYA+CswFigHPuLuO7qoTtKBpuYW9lTWsXPvAbbvrmFbRQ3l++vZtL2S2nBClUgkmAb+xLGDGD2kkGOHFTG8LJ+0MNHLzMigtiGxyVdAE7CI9FanTxrC5ONK+MfzG3hq8RaeX76d6RMHM+eUURw7rFBf7oiIiKSIDhM/MxsB/BA4BagHXjSzZ9x9ZUyxO4Br3H2hmf0RuBb4LfAb4DfufreZ3QjcCPw78ANgvru/28yuBH4BXNqVFetvWqJRGhqbOVDfTFVtA1W1jVTVNlAZ/qyorGP3/joq9texr6qe2DysIDeTMcOKONnKqG9spqQom0FFOWSkv73UwvaKGrZX1Lz1eMr4soQnX2ktLyK9U252Bh+dPY45p4zkycVbeG75Nhau2ElpcQ7TxpVx0thBHDOsiILczGSHKiIiIkcokRa/OcDT7r4HwMzuAz4EfC98PAbIdfeFYfnbgO+a2S3AucAlMdvnESR+7w73AdwF/NrMMt298WgrlIhoNBokPtEgYYqGD1qiwbbaukYO1DcRjQbbmptbaGxqoTH82dQcpbGpOfzZQkNTc/CzsZmGg34G+2J/NjY1U98YnKf1OaPRaExsbWINU7TW7REiEAk2NDYHz1Hf2ByeL760CAwoDJK5caMGMKgwm5LiHEqKcxg6KI/CvCzy8rKprqlnyerEZ94UkdRSOiCXy+aM433nHMti38Ura8p55pWtPLl4MwCDB+QyvDSf0gE5lBbnkp+TQV5OBnnZGeTlZJKXnUFWZhoZ6WlkZqQd9OWRiIiIJFciid9wYHvM4+3AaR3sHwmUApXu3tRm+0HHhF1CK4EyYFsHsaQDRz373K/uf43Nu6qP6hwdSYtEyMxIIzMzncz0CFmZ6WRmpJGXm0FmeFMUIUJTtIXK6oaDjn2rdm26WEWAAQXZpKe3dreMkJmRTlZGOlmZwTmzMzMozM0gPzeT9PQ0Nm6vDJ4rTnethsYW3twZvA4F+dmMGpxPXk5i3+hnpKclXLa7yx/puXOzM2huOvxxvTHuIy17uPr25riPpnxsnftS3Edz7rS0CJHo0X1GFuRlMmvaCGZNG0F9YzObd1WzeVc1W3ZVU76/jtVv7qOhseKw50hPT+Pz7z+JEWVHvlZgzGd9+hGfpH854mtkf5rVVXVNTapr6upP9U20rkd6fUwk8UuDg3oGRoCWBPa33U7McW1r1fac7RkGMHDg0S06fNN1Zx3V8X3JtImdm8J77MiB3VK2u8vr3Dq3zt19hg8t5vSkRsAwYF1yQ+gTjvgaWVJS0OXB9Faqa2pSXVNXf6rvEdS1U9fHRBK/LcCMmMdDObhlbkv4pG337wKKzSzd3ZvDMq3HbQ3LbTGzDKAQOPzXx4FFYSzbgeYEyouISN+VTnDtWJTsQPoIXSNFRPqHI7o+JpL4PQXcZGZlQA3wQeC61p3uvsnM6szsbHd/AbgSeNTdG81sPsGkLXcCHwceDQ97JHz8o3D//ATH99UDzydWNRERSQFq6UucrpEiIv1Hp6+PHY68d/etwLeAZ4BlwJ3u/rKZPWJmp4bFrgD+x8xWAwXAL8PtnwWuM7OVBN9C3hBuvxE4w8xWhGU+19nARUREREREJDGRaNtpJEVERERERCSlaK5tERERERGRFKfET0REREREJMUp8RMREREREUlxSvxERERERERSnBI/ERERERGRFJfIOn79hpldTrDkRCZws7v/OskhdQsz+w7wkfDhv9z962Y2B/g5kAvc4+43tHuCPszMfgaUuvsnzGwqcAtQBDwHXO/uTUkNsAuZ2cXAd4B84Al3/1Kqv89m9jHgm+HDR939q6n4PptZEfAi8B5339je+5qKdZeuZ2YzgJuBLGADcJW7701uVN3DzM4G/oegrhXAJ919U3Kj6l5m9n2g2d1vSnYs3aG/3Lu1avv5n+Rwuk28e9VkxtOdzOx7wIeAKPBHd/95dz2XWvxCZjYC+CFwDjCVYP3BScmNquuFN4gXAtMI6nmKmV0G3Aq8D5gITDezi5IXZfcws9nAVTGb7gA+7+7jgQhwbVIC6wZmNhb4HXAJMBk4OXxPU/Z9NrM8gjVEZwJTgBnh33tKvc9mdjrBIt3jw8e5tP++plTdpdv8CbjS3U8CVgJfS3I83emvwDXuPjX8/ZcdlO+zzKzYzP4IfCXZsXSX/nLv1qrt53+qaude9f3Jjap7mNlM4HyCe7VTgS+YmXXX8ynxe9sc4Gl33+PuNcB9BNl3qtkOfMXdG9y9EVhF8AGy1t03hK0BdwAfTmaQXc3MBhFcHH4UPh4D5Lr7wrDIbaRWnd9P0PKzJXyfLwVqSe33OZ3gMy2f4JvfTKCR1HufrwU+B2wLH59GnPe1H/yNS9eZ6O4rzSwTGAGkamtfNnCDuy8PNy0HRicxpO72PmAt8N/JDqQb9Zd7t1ZtP/9TVbx71ZT8v+ru84Dzwuv3YILemDXd9Xzq6vm24QR/aK22E9xQpRR3X9H6u5mNI2hG/xWH1n1kD4fW3X4PfAsYFT6O936nUp2PBxrM7CGCD8t/AitI4Tq7e5WZ3QisJkhy5wENpFid3f0agJgvBNv7W071v3HpIu7eaGYnAU8RfFnyH0kOqVu4ez3BFyOYWRpwE/BgMmPqTu7+ZwAzuynJoXSnfnHv1irO539Kaude9ezkRdS9ws/g7wJfBe4FtnbXcynxe1saQd/aVhGgJUmxdDszOwH4F0GXniYO7jaQUnU3s2uAze4+18w+EW5O9fc7AzgXmAVUAw8BB0jhOpvZZOCTwBhgP8EN3oWkcJ1D7f0tp/rfuHSSmX2YYHxbrNXuPsfdXwOGmNmngXuAs3o8wC50uLqaWRZwO8Hn5I96PLgudri6JiOeHqbPuRQWe6/q7muTHU93cvfvmNlPgIcJWnb/rzueR4nf27YAM2IeDyVFm9LDwe33A//m7neH/YuHxRRJtbpfCgwzs2XAIKCA4EKRynXeATzl7uUAZvZ3gm5+zTFlUq3O7wDmuvsuADO7jeDbs1R+nyH47IpXx/a2Sz/l7vcSfJv8FjPLMbNL3L215esOUqBrYLy6AphZAcEXYRXA+8JuZH1ae3XtJ/rNvVt/0/ZeNdnxdBczmwDkuPsyd681swcIxvt1C43xe9tTwGwzKwsnifgg8FiSY+pyZjaKoGvL5TH/kV4KdtnxZpYOXA48mqwYu5q7X+DuJ4aD+b8NPOTuVwN14QcLwJWkUJ0Juna+w8wGhO/pRQRjH1L2fQZeBeaYWb6ZRYCLCbp7pvL7DO38/w1nKkz1usvRawR+bWanhI8/QjB5RKq6A3gDuDTs+il9W7+4d+tv2rlXTVVjgT+YWXbYG+F9dONnsBK/kLtvJRgD9gywDLjT3V9OblTd4qtADvBzM1sWtoJ9Ivx3P8GMbqsJkoRUdwXwP2a2mqAVMGVmd3P3l4D/IvjwWAlsAn5LCr/P7v4EcBewhGDShkzgx6Tw+wzg7nW0/76mdN3l6Ll7M0GviP8LrwcfAq5JblTdw8ymEdxUnQ0sDa+BjyQ5LDkK/ejerb855F7VzK5PdlDdwd0fIejO+grB/cuL3ZnsRqLRaMelREREREREpM9Si5+IiIiIiEiKU+InIiIiIiKS4pT4iYiIiIiIpDglfiIiIiIiIilOiZ+IiIiIiEiK0wLuIr2Umc0C/tfdTwwXI3/d3X+W3KhERKSvMbNfAueGDycBG4AD4eMzgVqgzN13JyG2JwjWa9sdLq/xVXdfeQTnuY12rpNmdgzwfeB0gnrXA7939z8eTewdxHNIvYDBhNf17npekcNR4iciIiKSwtz9i62/m9lG4Ap3XxyzLQlRveWC1l/c/V1dffJwMfAFwDfd/cpw2wjgr2Y23t3/vaufM3RIvcxscDc9l0hClPiJJMDMrgO+CDQDO4HPhz83A+PdfUdY7iXgJmAu8BNgJpBOsDDnF929MrzovgRMBv4DaAx/ZhF8G3i7u9+YYFznAD8PnyMK/Ke7329mBcCvCBYqbgIeJFjktgj4NTA1LP8o8B/u3mRm9cA/gCkEC3/XAL8ASsLz/9Ldb+3cKyciIn3Ed83sDILP/J+6+68BzOxTwGcJhgdVAJ9399VmVsxRXk/M7E/hcz9jZu8C5gMfcvfFZvZJ4CsE193dwFXAVuB/gDOAQiACXOPuLxymXt8A7nX321o3uPtWM7sU2GBmvwDGE9MS16bHzRDg98AQYCiwCfiIu+8Kr+e3AbOB0cCf3f3G9uoVG5SZZdH+fcJngOuBBqAO+PSRtIKKtKUxfiIdMLPzga8D57n7FOBOgkSqEvg78LGw3ESCi8LjBBeaJuCU8JhtwI9jTvu6u08Mz/MV4Cp3P5XgYvZNMytNMLzvAj9391OATwLnh9u/B+QAEwkuymcTXFx+SXDhPgk4leCi/NXwmCzgYXc3YBlwH/CN8Nwzga+GNwUiIpJ61oef9+8H/tvMMs1sJkHCNcPdpwH/RXDdgy64nrj71WH589x9c2sgZjaFICl6p7tPBh4i+PLydGA4cKa7TwJuJ7jeHs45wLy2G919J7AyPOfhfBRY4O5nAmMJusVeGbO/wN1nAGeF9Tq2vXq1Efc+wczSgZsJ6j4d+L+wDiJHTS1+Ih17J3CPu5cDuPtt4TeExwC3AL8BfgZcDdzq7i1m9h5gAHBB2IUmC9gVc8754bmiZnYx8B4zu5wgUYsA+QnG9jfg1+E5niJoOQSYA3zZ3ZsJvi2dCWBmfwPOdvcoUG9mvwP+jbeT0vnhz/HAccCtMV2AcoFpwMIEYxMRkb7jzvDnMiCboIfIu4HjgRdjrgUDzWwQcBHddz2ZDTzemjS5+82tO8zsBuDTZnYcMAuoOsL6tjpsI4i7/8LMZpjZl4FxwIkEvXZa/SMst9XMdgGDCMZQdiTufYK7N5vZvQSv+b8Ivky+s/3TiCROiZ9Ix9IJulvEigCZ7j7fzDLM7DTgcoJB8q3HfMndHwUIu17mxBxfHW7PJ+je8XeCi+StwCXh+Tvk7r83s4eBCwkS1JssuII0EXS9IXyeUQTfUqbFbg8fZ7aNK4x/v7tPjTnHEGB/InGJiEif0whvfSEJwXUoHfhL6zg4M0sjaHHbS/deT9pew3KBMQQJ5C+A/yZIuFYT9ro5jBcIEsT7w3MNJmipHEQw0c3LBC15sdfdrJjn/glwGsH1+ZmwjrFlD8T8HiXB6zeHuU9w94+Z2YkEX+J+g6CF8SMJnlekXerqKdKxx4CPmlkZgJldTXDReCPcfwvBeLrlMV06Hgc+b2ZZ4YXyD8B/xjn3OIJvVW9w94cJLk7ZBBeEDpnZi8C0cOzCdQTfHg4laP27yszSzCyboJvNzJi4IuH264An45zagQNm1tqNdRTwOnBKInGJiEhKeBy4zMyGhY+vJxjD3rqvK64nzRycMEKQYM2Jed5PE3QzvYCgC+lvgcUEX5R2dL38T+CDZnZV+Pgy4DWCoRa/C6/b5cBoMxtsZhGC7p2t3gHc7O5/Iei5c0ECz9levWLFvU8ws1Iz2wxUhC2dNwDTE3g+kQ4p8RPpgLs/STCY/GkzW0Ew3uE97t4SFrmdYBzdLTGHfR/YSNCat5LgG8CvxDn9cuCfwGozWwVcHJY/PsHwvg58z8xeAZ4FvuvuGwnG/jUAr4YxPOLuDxBMUDOY4KL3GsEF+Ydx6twAvA+4xsyWA08AN3YwgF5ERFKIuz9BMNbuyfBacDnwgbB7Z1ddT+4F5oUtXK3HvAZ8DXjMzF4l6NFyPfA7YJaZvQYsBdYBx4aJU3t12EzQG+cCM1tDkKA2EiRxE8zshHDilN8TJJMLObir5veAn4WxPwQ8T2LX6EPq1Ubc+4RwSY0fAHPNbAlB19lrE3g+kQ5FotFox6VERERERFKImU0G6tx9TbJjEekJSvxERERERERSnLp6ioiIiIiIpDglfiIiIiIiIilOyzlIXGb2S+Dc8OEkgoHOrVMWn+nuB+Ie2DXPPZVg2uV9wAfDyUp6XLiIerm7dzg1c7jg6j+AT4WLwvY4M7sJKHX3z5vZRuBD7r74MOWnE8R7vZkVEqwJ+IHufG+Phpl9i2Bmt6fc/ZNHcHwx8Hd3P7/DwiIiIiIpRomfxOXuX2z9PUwirjhcEtHF3gs84+7X9NDzdYWvAM8mK+k7QicAIwHcvcrM7iKYZeyrSY2qfZ8CLnf354/w+IEEazGJiIiI9DtK/OSImFk9QQvXFOAKYDJBa0wWwaKoP3b335rZJ4D3Ay0Ea9bVAle5+yoz+wDB+jQtBOvdfA0YBXwWSDezXHe/wsxuJFh3pwlYA3ze3XeY2bPAHmAC8Fvgg8AS4AyCKab/j2BNu5lAPvARd38tbPn5BXASwRo7c4GvuXtTGNMPwzgXJfha5AH/Fp4PM8sEfg7MDuv1EvD/CKaT/m93by03gKAldSyQB/wvMDqM6W53/5GZHUOwsPsq4JiwLlcTTI2dG9brq+7+90RijYl5FMEU1cVm9id3v5qgxe8nZvbTtgmsmX2GYCrtBqAO+LS7rzSz8QRTYA8meB9/4O73mNkJYX1KCBa0/W93/7OZzSJ47WuAAoK1iS4k+DvIInjdv+ruC9o8/z0ESeofzezbBGsrtvcefpI4f4vAn4BcM1tGsH5UE1AWTp2NmUWBMuDEI4lRREREpDfTGD85UlkEi6gasJpgjZl3ufs04FKChVZbzQS+4O4nEiRB3wi3/xT4rLufCtwIzHL3vxKs03NPmPRdDVwETHf3yQSLvt4Wc+697j7J3X8VPj7G3c8GPhbG8Gx4/seAL4Rl/gdY4u6nANOAUuDLZjYEuJWge+kpwKYEX4vzgTXuXhE+vgEYTpAUTyH4f/ZTgoVtC8zs1LDcZcC/3H0v8Bfg1vB5TyNYuPYjYbmRwPfdfTzB6z4nfK0mA98iSOA6JVzX6NvA/DDpw93rCJLdd8WWDbux3gy8092nEyTU54S77wbudfcTwuN+ZGZFBGsd/SqM8aJw+5nhMScCl4X7RgM/4u2/neuAB8wsv028lwLbCFqe76H997CA9v8WrwYOuPtUd2/u4CXqdIwiIiIivZkSPzka8wHcvRp4D/BuM/s+QTJSEFNuibtvCX9fStAKA0HS8Hczu4WgG15sstjqIuBP7l4TPv4FMNvMsmJjiPFA+HNd+POxmMetz/se4NNhy88SgkTrJIJk5rVwIVcIWrISMQF4o03Mv3P3xnCR918BF4UL3t4KfCIsdzXwhzCBmAl8P4xpIUGyMTUs1wQsAHD3TcDHgSvM7McErXCxr/XR2gBY7IYwSboXeNHM/pdg7OUfzWwQQWJ7S1hus7sfR5Co5oQLxuPu2wjGbL4zPOXmsB4AFwDDCBaqXQb8laDlsKPFceO+hwn8LSaqK2IUERER6TWU+MnRqAYws5HAMmAM8DxBi1es2MlCokAEwN2/RZBsLSZIhp6L8xzp4TGt0gi6KLdOuFLdpnx97AN3b2znnB8OW36mAqcDnw/3xU7k0hTn2HiiHPx/KV7MmeHvtwIfDiewGeDu88LyEeCsmJjOIGhlAqh39yYAMzuZIAksAp4AftIm5qPVSNA99SDu/jHgYoIE9xvAXbz9+rxVVzMzDq0/HPwaxL5n6cDc1nrH1P31DuKM+x4m8LfYViSMO6vN9q6IUURERKTXUOInXeFUoBz4AUEy8h54q4tgXGaWEU4ak+fuvyMY1zfZzLLbFH0M+GRMt7ovAs+5ez1H7nHg/5lZJHy+hwgSv+eAE8xsSljuEwmez4Hj2sT8GTPLNLM04HME3Txx963AywStia0tZZUErXxfhrfG/r1AMI6vrXOBxe7+c2AecAlBYnIkmng7GWt1LEHX3beYWamZbQYq3P1mgmRqehj3EuCqsNyoMO59QGM4XhIzG04w/vLJODHMBS40swlh2XcBywnGLx5Oe+/h4f4WmwjGjrYmyuVheYDLD/NcRxqjiIiISK+hxE+6whPAFoIEaBVBN8VyDtMVLmzB+jfgTjNbStCV8JNxEro/Ak8BL5vZKuBkgslkjsYXCSZFeY3gBv414L/cvZwgAfhrGNOxsQeZ2bKY8XmxngImhAkbBEnHDoKWp1UEydWXYsr/gWBc2u0x2y4HzjCz1wjGQd4Vjnds6y6gNHwtVhK0TA0Kl2PorIXAWDN7IKxfFkFL1sOxhcLJT35A0NVxCfBjgnF0rXF/xMxeDY+7Jhw/eAnwJTNbTvD6fM/dn2kbQNit9jrg7vAc3wfeG3bZPJy47yGH/1vcTpB0rzCzkvAcvw7f64nh/kMcRYwiIiIivUYkGm3bI0tE4jGzHwJ/cffVcfb9B9Dk7vHGKfYJ4QysJ7j715Idi4iIiIh0LS3nIJKAsHvgxnhJX+hnwENm9md339GDobUrHG93Tzu7PZwps7VsAUHr3ft7IjYRERER6Vlq8RMREREREUlxGuMnIiIiIiKS4vpaV89sYDrBJAwdLcAsIiJ9WzrBGoqLaLNUi8Sla6SISP9wRNfHvpb4TefQBbtFRCS1zSBYl1EOT9dIEZH+pVPXx76W+G0H2Lu3hpaW3j02saSkgIoKzfbeHr0+7dNrc3h6fdqXaq9NWlqEgQPzoZ2lNuQQR3SNTLW/m8NRXVOT6pq6+lN9O1PXI70+9rXErxmgpSXa6xM/oE/EmEx6fdqn1+bw9Pq0L0VfG3VbTMwRXyNT9O8mLtU1Namuqas/1fcI6tqp66MmdxEREREREUlxSvxERERERERSnBI/ERERERGRFKfET0REREREJMUp8RMREREREUlxSvxERERERERSnBI/ERERERGRFKfET0REREREpBdp2r+fxordXXpOJX4iIiIiIiK9QEtDAxX/fIgN3/waO/70xy49d0aXnk1E+qymFqhvbOrUMdmZGWTo6yMRERGRoxKNRqlavIjye++mqaKCglNOpezDl3bpcyjxExEgSPoWrdrZqWOmTxxCRrY+RkRERESOVP3mN3n95nuofH0FWSNHMfKr15A3YWKXP4/u2ERERERERHpYU1UlFQ8+wP7n5pFRUMDgj32c4hkziaSnd8vzKfETERERERHpIdGmJvY9+zQVDz1IS309A2ZfgF19BXsPRLv1eZX4iYiIiIiI9ICa15dTfvddNOzYTt4JJ1J26eVkDx9ORkEBHKjq1udW4iciIiIiItKNGnbsoPxvd1Gz/FUyBw9h+Bf+jfzJU4hEIj0WQ0KJn5ldDtwAZAI3u/uv2+yfCtwCFAHPAde7e5OZjQbuAAYDDlzh7tVmVgT8FpgUnuJT7r60KyokIiIiIiLSGzTX1rLnnw+xd+6TpGVmUvrhSxk4+wIiGT3f/tbhROxmNgL4IXAOMBW4zswmtSl2B/B5dx8PRIBrw+2/AX7j7hOAxcCN4fafA5vdfRrwTYIkUEREREREpM+LtrSw/7l5bPzWv7P3yccpOvNsjvnhTxj0jouSkvRBYi1+c4Cn3X0PgJndB3wI+F74eAyQ6+4Lwxq7S/sAACAASURBVPK3Ad81s1uAc4FLYrbPM7NvAB8EjgVw98fMbHOX1EZERERERCSJDqxdw667/kr9m5vIHTeeso9eTs6YY5IdVkKJ33Bge8zj7cBpHewfCZQCle7e1Gb7YKAe+KyZXQwcAP5fZ4IuKSnoTPGkKSsrTHYIvZpen/Yl47WJ7qmlsCCnU8fk5WVTNiivmyJqn/522qfXRkREJDkaKyrYfd89VC16mYxBgxh23WcomH5aj47jO5xEEr80IHZu0QjQksD+ttsJt2cAQ4D97n6mmV0A/B0Ym2jQFRXVtLR073SnR6usrJDy8u6dmacv0+vTvmS9NrX1TVRV13XumNp6ypubuymi+PS3075Ue23S0iJ95os+ERHpv1rq69nz2CPsffxRiEYZdPH7GPTOd5GWnZ3s0A6SSOK3BZgR83gosK3N/mFx9u8Cis0s3d2bwzLbgN1AE3AngLs/aWYFZjbY3XcdcU1E5KjV1jVR19BEQ2MLkTQoK84lLa13fEslIiIi0ptEo1GqFr3E7vv+RtOePRROP43SD11KZklJskOLK5HE7yngJjMrA2oIxudd17rT3TeZWZ2Zne3uLwBXAo+6e6OZzQcuJUjyPh5urzezJ4GPAr81szPC8+7u0pqJSEKi0SirN+3l4QWbWL1p70H7sjLTGFlWwLhRxQwZ2PNdOkVERER6o7pNG9l111+pe2Mt2aPHMPSaT5M33pId1mF1mPi5+1Yz+xbwDJAF3OLuL5vZI8C33X0xcAXwh3CZhqXAL8PDPwvcbmY3AG8Cl4XbPwX83sw+BzQCH3X32O6jItID9lfX89t/rGDN5n0U5mUy9fgSBhRmk5WRTn1jM5t3VbNlVzXrt1UyflQxJ1sZWRnpyQ5bREREJCma9u9n94P3U/n8fNILChny8aspOmcGkbQOF0tIuoTmEnX3Owm7ZsZse1fM769y8IQvrds3AbPibN8OvLeTsYpIF9paXs3N9y6n6kADH7twPCfbYJatLT+ozJihhTQ1t7Bs7W5WbtzLlvIaZk4ZTtnA3CRFLSIiItLzok1N7J37JHv++RAtDQ0MvPAdDHr3e0nP6zs9opKziISIdLumFqhvbIq7b+2WffzhoRVkpqfzpQ9NYfTQQtqbLykjPY1TJwxmzNBCnl++nScXb2bWtBEML83vxuhFREREki8ajVKz/FXK/3YXjTt3kj95CmUfuYysoUOTHVqnKfETSVH1jU0sWrXzkO2VNQ38a8Em8rIzmH3qSHburWXn3lqmjC877PnKBuTyztNH8+SizTy9ZCszpw1n+sQh3RW+iIiISFLVb9tG+T13UrvidTKHDmXEl75M/kmTkx3WEVPiJ9KPNDQ28/TSraRFIsw+dSQFuZmdOj43O4N3nDaauUu28OwrW5l4zEBOHT+4m6IVERER6XnNNTVUPPwg+56eS1p2NmWXXsaA82YTyejbqVPfjl5EEtYSjTJ/+Xaqahu4YPqoTid9rbKz0pkzfSSPv7SZP/1rFSNK8hlWom6fIh0xs58Bpe7+CTObCtwCFAHPAde7e5OZjQbuAAYDDlzh7tVJC1pEpB+JtrSwf/48Kv7+AM011RSfO5OSSz5ARmFRskPrEr1/+hkR6RIrN+xha3kNp00czNBBRzcQOSsjnfNOHkFGehq/uHc51QcauyhKkdRkZrOBq2I23QF83t3HAxHg2nD7b4DfuPsEYDFwY48GKiLST9WuXsWm732HXX+5nazhwxnz7e8y5MpPpEzSB2rxE+kX9lc3sOyNCkYPKcBGD+yScxbkZnLNxZP41X3L+e2Dr/OVS6dqsXeROMxsEPBD4EfAFDMbA+S6+8KwyG3Ad83sFuBc4JKY7fOAf+/RgEVE+pHG8nLK77uH6iWLySgpYdj1n6PglFOJRBK/p1mwYgcPzFtHRWU9JUXZfGDmcZx5wtCE93f2fEdKiZ9IiotGo7z4+g4y0iOcPqlrJ2MZO7yYKy80/vToah59aRPvPvOYLj2/SIr4PfAtYFT4eDiwPWb/dmAkUApUuntTm+0iItLFWurq2PPov9j7+KOQlkbJJR9g4IXvJC0rq91j4iVkALc/upqGpmBJ8orKem5/dDUAZ54wlAUrdhx2f7zn6Ez5zlDiJ5LiVr+5j/J9Bzj7pKHkZnf9f/lzJg/jtQ17eHD+BiYdM4hjh6VOlwiRo2Vm1wCb3X2umX0i3JwGxC6gEgFa4mwn3N4pJSUFnY6zrKyw08f0VapralJdU1dX1zcajVI+7znevP0OGvbsoWzmuYz5+MfILi3h2SWb+fOjS9i99wClA3OZPmEwi1bvYvfeAxTkZXKgvomm5uBjuqKynj8/5mRlpr2VpLVqaGrhwec38N5Z43jw+QWH3d+2rp0p31lK/ERSWE1dI6+sKWd4aT5jh3dPQhaJRPj4O4x1W/fzfw+v5KZPTCc7K71bnkukD7oUGGZmy4BBQAFBcjcspsxQYBuwCyg2s3R3bw7LbOvsE1ZUVNPS3sKccZSVFVJeXtXZp+mTVNfUpLqmrq6ub92G9ey6+07q1r1BeV4pj414J/sqhhG5eSHVBw5e+7h87wEeWbDprcdVtYfOZ1Df2Ex9Y3Pc5yrfe4Dy8irK9x447P5WrXVNpHxaWuSIvuTT5C4iKeyVNbtpicLpkwZ3qq96oiJpEWrqm4ikRbjiwvHs2lPLnXPXUlPfFPdfU6fbLkT6Nne/wN1PdPepwLeBh9z9aqDOzM4Oi10JPOrujcB8gmQR4OPAoz0etIhIimnat48dt97Cmz/8HrXbd/DY0LP547CL2Jo7mJq65kOSvq5QUpR90M/29h/t9s5Qi59Iitq4o5L12yo5cewgCvPa769+NOobm3l1Tflbj23MAOa/uo3C3AxKB+QeUn76xCFkdEN3U5E+6ArgD2ZWBCwFfhlu/yxwu5ndALwJXJak+ERE+ryWxgb2PfkEFf/6JzQ3MfCd7+J/tpexoybxXhEdyc9Jp7EpelD3zKyMtLfG/31g5nEHjdlru7+tzpbvDN2BiaSgaDTKA8+uJycrnZPGlvTY804dV8qmHdUsWLGTd585RrN8isRw99sIZurE3V8FTotTZhMwqyfjEhFJNdFolCUPPQ2PP0hRQxVr80cxd8gpVK4roiXadUlfVkYal19gAO3Owtn6M9FZOjtbvjOU+ImkoJdX7WLD9krOPHEomRk916M7KyOd0yYOZt6ybax+cy+TjhnUY88tIiIi/VfrjJuR8h3M2b2IYw7soDyrmLuHz2Fj3vCg0FHmfOkRyM3JoPpAU7sJXjxnnjC0U4lbZ8snSomfSIppbGrhvmfXMbIsn+NG9PwMm6OHFDCiLJ9la3czZkgh+bmZPR6DiIiIpL4FK3Zw55NOTV0zOc31zNizjGn711CflskTpafxSvF4opEj+wK8pCibyceVsHxdRZe3vCWLEj+RFPPcq9uoqKzjsx84keo4M1B1t0gkwmkTB/OP5zfyytrdnDN5WMcHiYiIiCQoNuGLRFs4ef8aZuxZRnZLI68Uj2f+oCnUpeckdK78nHQikUjcVrxUo8RPJIXUNzTz8IsbsVEDmDB6IItX70pKHIV5WUwcM5AVG/YwccxASooT+/AVERERaSs20Ys1pnYbc3YvpqxhHxtzhzK3dDrl2QMTPm9JUTY//ezZHRdMEUr8RFLI3KVbqKxp4HPvP7Fblm/ojJPGDuKNLftZ4uVcMH1k0uMRERGRvucvj6/mmVcOXtJ0QGMV5+9ezPiazezNKOD+obNYmz8KOnGv0VUzZfYlSvxEUkRtXSOPLtzE5ONKGDdyADX1Xb8mTWdkZaYz+fgSFq3axdbyGkYO7vxCoyIiItL/tE7UUlFZf9D2rJZGztzzGtP3raQlksazJdNYVDyJ5rT0w54vEoFoFNIi0BIl5bt0tkeJn0iKePzlzdTUNfH+GWOTHcpbxo8awOpNe1myppzhZfnJDkdERER6uQUrdhyyjh3RKCdWrWdWxVIKmg/wWuFxzCuZRnVGXtxztCZ6/TXBa48SP5EUUFnTwBOLNjN9wmDGDC1MdjhvSU+LcPL4MuYt28bG7VWcPkkfvCIiItK+B+atOyjpG36gnDm7X2Z4fQVbs0u5f9h5bM8pjXtsQW4Gl80Zr0SvHUr8RFLAIws30dDUzCUzjk12KIcYPaSAgYXZLF9XwUdmj+t0F9TszAx6cClCERERSaLW7p0FTbXMqljKiVXrqUrP5eEh57Ci4Ni44/jOmzacK98xoadD7XOU+In0cXsq63h66VbOPnEYw0p6X3fKSCTC5ONKmLdsGy+t3EF6Jyd5mT5xCBnZ+qgSERFJVbGzdma0NDF930rO3Ps6abTwwsCTWDjwRBrTDl0XWF05O0d3UyJ93MMvbiQajfLec45JdijtGj2kgAEFWTzx8mbecdoo0jTDp4iIiBAza2c0itW8yXm7lzCgqZrV+aN5pvQU9mcePIRFrXtHTomfSB+2c28t81/dznnTRlBanJvscNoViUSYcnzpW2P9xg4vSnZIIiIikkTBJC6raGiKMrh+D7N3L2LMgZ3syhrIncMv5M28g1vx1Lp39JT4ifRhD87fQEZGhPecNSbZoXRo9JAChpbk8dr6Co4dVqh1/URERPqpBSt2cMs/V5LTVMeFFcuYWrmWurQsHis7nVeLxhGNHDq4vz8ttN5dlPiJ9FFv7qzipZU7efeZYyguyE52OB2KRCKcf8pI7nxiDVt31zCyTOv6iYiI9Bex4/jSoi2cst85Z8+rZLU0sqR4As8Pmkx9evz7mZKi3n+f0xco8RPpox54bj35ORlcdProZIeSsKnjSnlw3npWbtirxE9ERKSf+OldS1m1aR8Ax9ZsZfbuxZQ27md97jDmlk2nImtAu8dmpEf4wMzjeirUlKbET6QPWrN5H8vXVfChWceRl3PoLFe9VXp6GhOPGcgSL6difx0lxTnJDklERES62FsTtsQY2FDJ7N2LOb52C3syC7l32PmsyxsRd3mGVoV5mXx09jiN6+siCSV+ZnY5cAOQCdzs7r9us38qcAtQBDwHXO/uTWY2GrgDGAw4cIW7V5vZTOABYHN4ilfc/equqJBIqotGo9w3bx3FBVnMPmVkssPptHEji1n+RgUrNu7h3CnDkx2OiIiIdJF4CV92cwNn7V3OqftW0xRJ5+mSU1g8YAItkfS454idtbOsrJDy8qpuj7u/6HBZZDMbAfwQOAeYClxnZpPaFLsD+Ly7jwciwLXh9t8Av3H3CcBi4MZw+6nAz9x9avhPSZ9Igpavq+CNLft579nHkp0Z/0OzN8vKTGfcqGI27aii+kBjssMRERGRLvDTu5YelPRFoi1MrlzLdW8+yGn7VvJ60Vh+P+YSXh54QkJJn3S9DhM/YA7wtLvvcfca4D7gQ607zWwMkOvuC8NNtwEfNrNM4Nyw/Fvbw9+nAxea2XIze8jMRh11TUT6gZZolPvnrWfwgFxmTB6W7HCO2IQxAwFYvWlvkiMRERGRo/WXx1e/NYYPYOSBnVy15RHetWsBezILuW3ku3l08FnUZrS/9JSSvu6XSFfP4cD2mMfbgdM62D8SKAUq3b2pzXaAfcDf3P0BM7seuBvQHK0ih9HUAi+8tp0t5dVcddEE6ptaqG9qabd8S7QHg+ukgtxMRg8u4I2t+5k6rpSM9ES+gxIREZHeJnbilqLGamZVLGVS9UYqM/L4x5AZrCo45rDj+ApyM7hszniN4+sBiSR+aUDsLWQEaElgf9vttB7n7te3bnD335nZj82s2N33JxJ0SUnfmA2wrKww2SH0anp92hfvtdlWXs3fn1tPSXEO+XlZrN58+P8uNmYghQWJT56SmZnRqfJHckxs+Wk2hE3PrWPH3jomHjOo3WPy8rIpG5R30Db97bRPr42IiPSEBSt2cOs/V9IchYyWJk7ft4Iz9r4OwPMDJ7Nw4Ik0pcVPNSaOGcDXLju5J8MVEkv8tgAzYh4PBba12T8szv5dQLGZpbt7c1hmm5mlAd8Efhxub9VEgioqqmnpzc0ZaDBqR/T6tK+912buy29SWdPA+SePoLqmvsPzNDY2UVVdl/Dzdrb80T5HYW46xQVZvLqmnJGlee0eU1tbT3nz2x8V+ttpX6q9NmlpkT7zRZ+ISH+wYMUObn90FQ1N4X14NMqE6o2cV7GE4qZaVhYcw7MlJ1OZGf+zOzsznY+/09S6lySJJH5PATeZWRlQA3wQuK51p7tvMrM6Mzvb3V8ArgQedfdGM5sPXArcCXw83N5iZu8H1gJ/M7OPAy+F4wdFJI4D9U08unATgwfmMqIsP9nhdIlIJIKNGsDLq3axe98BSge03+9fREREkifebJ1D6iqYs3sRo+p2sSN7EA8PmcGW3CEHlclIj3D1uyYq0eslOkz83H2rmX0LeAbIAm5x95fN7BHg2+6+GLgC+IOZFQFLgV+Gh38WuN3MbgDeBC4Lt18Vlv8OQcvgx7uyUiKp5pGFm6iqbWTG5GFEDtNPvq8ZO6KIpWvK8Tf3KfETERHpRQ5p3QvlNR3g3D2vMKXyDWrTc3ik7ExeKzqOaOTg8fpZGRF+99XzejJk6UBC6/i5+50ErXax294V8/urHDzhS+v2TcCsONtXAGd1MlaRfmn3/gM8/vJmTp0wOOWSo6yMdMYOL+aNrfs5ZUIZOVkJfSSJiIhIN4kduxcrLdrMqftWc9be5WS2NPHygEm8OHAy9elZcc9z1UUTeyBa6QzdZYn0cvfPW08kAheffQzrtiY0/1GfYqMHsGbzPtZvq2TSYSZ5ERERke4Vr0sn0SjH1W5l9u5FDGqs4o28ETxdeip7sorjnkPdO3svJX4ivdi6rft5aeVO3nPWGAYV5aRk4jewMJvS4hzWbtnPxDEDU6orq4iISF+xYMWOQ5K+koZ9nL97McfVbqMis4i/DZvN+vwR7Z5Da/H1bkr8RHqplmiUO59aQ3F+FhedPob2V+zr+44fWczCFTvZvb+OshTrzioiItLbxa7FB5DdXM85e5Zz8v7VNKZl8FTpqSwtnkBLJP66u5qts29Q4ifSSz2/fDsbtldx7XsmkZudQU19wiue9DnHDCtk8epdrN2yX4mfiIhIN4vbpROIRFuYUvkG51a8Qm5LPcuKxvNcyVQOpB+6Zq+Svb5HiZ9IL1Rb18j989Zx/MhizjhhSMcH9HFZGemMGVrIxu2VTJ8wmMyM+N8oioiIyJFr27IXa3TtDubsXsTghr28mTOEp8qmsyv70LH36s7ZdynxE+mFHpy/geraRr78kfH9ZszbuJHFrNtaycYdVYwbGX/AuIiIiHTeghU7+MPDK+PuK26s5rzdS5hQs4n9Gfn8fehMPH80tLn/UMLX9ynxE+llNmzbz9NLtzJz2gjGDC1Mdjg9pmxALsX5WbyxZZ8SPxERkS6wYMUObnl4JdE4+zJbGjlj7+ucvm8FLaTx3KCpvDxgEk1pB6cHE8cM4GuXndwzAUu3UuIn0ou0tET533uXkZ+bwQfOHZvscHpUJBLhuJHFLPVyKmsaKMqPvy6QiIiIdKy9cXxEo0yq3sCs3Uspaq7l9YJjmVd6MlUZ+YcUHV6Sq6QvhSjxE+lFnnllK2ve3Me1F0+iIDcz2eH0uLHDClnq5azfVsnUcaXJDkdERKRPam8s39C63czZvYiRdeVszy7hH0PPZWvu4LjnUNfO1KPET6SX2FtVz/3z1jFtfBlnTEr9CV3iycvJZFhJHuu3VTLl+JJ+M75RRESkq3z5V/PZV9N40Lb8plpmVrzC5Kp1VKfn8K/BZ/Fa4XGHjOMDJXypTImfSC9x55NraG6J8pkPTiESTeVV+w5v7PAiXnhtB7v2HWDIwLxkhyMiItLrtdfClx5t5tR9qzhrz3LSoy0sGHACCwadREPa28MptCxD/6HET6QXeGVtOUvWlPPBmWMZVppPeXlVskNKmtFDCnlp5U7Wb61U4iciItKBz/38WQ40tPnCOBplXM1mzq9YwsDGKtbkj+LpklPYl1X0VpEB+Zn8/AszejhaSSYlfiJJdqC+iTueWMPIsnzecdroZIeTdJkZaYwaXMCmHVWcNjH+uAMREZH+rr0lGkrr9zJ792KOPbCd8qxi7h4+h415ww8qo+6c/ZMSP5Ek+/v89eyrquczl5xIRroWLgcYO7yYDdur2FJek+xQREREepX2ZuvMaa5nxp5lTNu/hvq0TJ4oPY1XiscTjbx9b6FWvv5NiZ9IEm3YXsncJVuYNW0Ex4/Q2nWthpXkkZudzvptlckORSQuMxsOHOfu85Mdi4j0Hx/9j39SU9980LZItIVp+9cwY88yslsaeaV4PPMHTaEuPeegclqPT5T4iSRJc0sLtz+2mqL8LD4487hkh9OrpKVFOHZYEas37aXmQCP52fqokuQzs88AM4AvAkuB/Wb2gLt/M7mRiUgqa2/iFoAxtduZs3sRZQ372Jg7lLml0ynPHnhIOXXtFFDiJ5I0Ty3ewps7q/nsJSeSl6P/im2NHV7Eyo17WbKmnIs09lF6h08B7wY+DPwD+BywEFDiJyJdrr0xfAADGqs4f/dixtdsZl9GAfcPncXa/FGHLM+QkR7h6ndN1IydAijxE0mK3fsP8Pf565lyXAmnWFmyw+mVBhXlMKAgi0Wrdirxk94i6u47zWwOcI+7N5lZerKDEpHU014rX1ZLI2fueY3p+1bSEknj2ZJpLCqeRHPawR9FauGTeJT4ifSwaDTKXx5fA8AHZh1HbcPBffWje2qprW865LiWaI+E16uMHVHMUi9n555ahgzS0g6SdPVm9nVgJnBN2PVTMxCJSJf6y+OrD036olFOrFrPrIqlFDQf4LXC45hXMo3qjIOvjRHgmosnqYVP4lLiJ9LDlng5r62v4NQJZazbup91W/cftL+wIIeq6rpDjpsyvv+1DI4dVsgrXs6CFTu4ZMbYZIcj8inga8BV7r7XzM4BrknkQDP7HvAhIAr80d1/HrYc/hzIJWhBvCEsOxW4BSgCngOud/dDvw0SkZQTb8bO4XXlzCl/meH1FWzNLuX+YeexPaf0kGM1eYt0RImfSA86UN/EnU+tYeTgAiaMPnTwtRwsLyeT8aMHsGDFDt53zrFE2oxdEOlJ7u5m9gXgeDOLANe6e21Hx5nZTOB8YDKQCaw0s7nArQSth5uBf5nZRe7+KHAHcI27LzSzPwLXAr/tnlqJSG8QbzxfQVMtsyqWcmLVeqrSc3l4yDmsKDj2kHF86tYpidKiYSI96MH5G9hf3cCls48nLU1JTCKmTxxC+b463mjTMirS08zsDGAd8C9gBLDZzM7q6Dh3nwecF7baDSb40nUAsNbdN4Tb7wA+bGZjgFx3XxgefhvBZDIikqL+8vjqg5K+jJYmztyznOs2PciE6o28MPAk/m/MJawoHHtQ0je8JJdbv3G+kj5JmFr8RHrIph1VPLVkM7OmjeCYoUWU7z2Q7JD6hKnHl/K3p9eyYMVOxo0ckOxwpH/7KTAH+Ku7bzGzK4FfANM7OtDdG83su8BXgXuB4cD2mCLbgZGH2S4iKSTuIuzRKFbzJuftXsKApmpW54/mmdJT2J9ZeFCxazWGT46QEj+RHtDSEuXPjzuFuZl8cOZY+uE8LUcsOyudaePKWLRqJ5fPGZfscKR/y3P3lWYGgLs/YmY/TPRgd/+Omf0EeBgYDwd9FESAFoKeOPG2J6ykpKAzxQEoKyvsuFCKUF1TU1+qa7xF2AfX72H27kWMObCTXVkDuHP4hbyZd3ByN6gwi9tvuqgnQ+0V+tJ7e7S6u65K/ER6wLxXt7FheyXXXjyJvJxMauLM2intO/OEIby0cievra9g2NDiZIcj/VejmQ0kTMysNQPsgJlNAHLcfZm715rZAwQTvcTe+Q0FtgFbgGFxtiesoqKalk5MA1xWVkh5eVVnnqLPUl1TU1+pa7wlGnKb65hRsYyplWupS8visbLTebVoHNHIwaOxMtPhZ587B6BP1LWr9JX3tit0pq5paZEj+pJPiZ9IN9tf08B9z65j4piBnDFpSLLD6ZMmHTOIgtxMFq7YyYVnaXZPSZofAvOAoWZ2F3AhcF0Cx40FvhvOAhoF3gf8HvipmR0PbAAuB251901mVmdmZ7v7C8CVwKPdUBcR6SHxunWmRVs4eb9zzp5XyWppZEnxBJ4fNJn69OxDjs9Mh99/7fyeCldSmBI/kTiaWqC+MfFWuezMDDLamSrpb0+vpbGpmY9dOF6zUh6hjPQ0Tp84hOeWb6O2rjHZ4Ug/5e4Pm9kq4AIgHfieu69K4LhHzOw04BWCVr773f1uMysH7gdygEeA+8JDrgD+YGZFwFLgl11fGxHpbvFm6gQ4tmYrs3cvprRxP+tzhzG3bDoVWfHHsGvGTulKSvxE4qhvbGLRqp0Jl58+cQgZ2Yf+d1q1cQ8LVuzkPWcdw7CS/K4Msd8544QhzF26hReXb2fKsVoKQ3qOmbVdGOul8GeumZ3s7ks7Ooe73wTc1GbbXGBKnLKvAqcdUbAi0ivEa+Ub2FDJ7N2LOb52C3syC7l32PmsyxtxyPIMoFY+6R5K/ES6SVNzC3c8uYayATm858wxyQ6nzxs7vIjBA3J5dulmJX7S0+4/zL4oQVdOEenH2mvdA8hubuCsvcs5dd9qmiLpPF1yCksGTKA5kh63/PCSXH5w7ZndGa70UwklfmZ2OXADwcKzN7v7r9vsnwrcAhQBzwHXu3uTmY0mWJtoMODAFe5eHXPcSGA5cLK7bzz66oj0HvOWbWN7RS1f+MBJZGXG/3CXxEUiEc44YQgPv7iRvVX1DCw8dByESHdw92OTHYOI9F7tJX2RaAsnVa1jZsUr5DXXsbzweOaVTKM2I/eQskr2pCd0mPiZ2QiCAe2nAPXAi2b2jLvH/oXfAVzj7gvN7I/AtcBvgd8AvwnHMtwI3Aj8e3jeNIJkMasrKyTS+/9grwAAIABJREFUG9TUNfKP5zcwYfQApo4rTXY4KePME4by0AsbeWnlTt55+uhkhyP9hJl93d3/y8zijrVz9y/2dEwi0nvES/pGHtjJnN2LGFq/hy05Zdw77Hx25MS/H9C6fNJTEmnxmwM87e57AMzsPoJpqL8XPh4D5Lr7wrD8bQSzl90CnAtcErN9HmHiB3wdeArQiFVJOQ+/sJGaA418dPY4TejShYYMymP86AEsXLFDiZ/0pP3hz4o4+7Qsp0g/FW95hqLGamZVLGVS9UYqM/L+P3v3HR7nVSb8/ztNo957sWzL1nGJa6zEJW6xU0mAFErIG3pYFthlX3ZZdpfA/uBlF9js5uUlV7JADEsglRTSnZDENYkdy5bcZPvYlm1ZvYx6G037/aGRI1nFki3pmXJ/rsugOc9zZu5nYo/mfs459+HljLUcj5054jo+Kdwiptt4Er9soHbQ41qGLjof6XgukAq0a63dF7WjlLoauB64GfjWRIO+nH0rjBBOG05ejkB+f3zN3cTFRo77/OhoO2nJ0QDUNHayraSKzdfM4Oqrsi/r+Uc6ZrNZJxTTVJ8/Xa8x+L0FWL88l8deOkq3x0d+ZvyEniscBPK/q2Cltf61/8cGrfV/Dz6mlPreCF2EECFspMItVq+ba1vLWNlyFID3khbzYdJCXGbbsP4yrVMYZTyJn5mhdzRNgHccxy9uB/AqpaLpnwL6Ka21d5z73w4x0c1pjRBOG05ejkB/f7qdbjo6e8d/freTRk//XsxbXjqKxWzm1mvyRr3GsZ4/LjZyxGMu18Rimurzp+s1Br+3AGuX5vDbl8vY+t4Z7lpfMKHnCnWB/u9qoi53g9rJppT6OhAN/G+l1ODFOTbg68DPDQlMCDFtRkr2APD5mNd5jo2OAyS4uzkWO5MdKctpt4382fW7f5JKncI440n8qoC1gx5nAjUXHc8a4XgDkKCUsmitPf5zavzPlQG84k/6soE3lFJ3aK315V6IEIHgfH0HxScauG31TBJipfjIVEiKi2TBrCT2ltVzx7rZmGUqrZh6LmAR/cnfokHtbuDvDYlICDFtvvnQDnr6vMPaM3odbG4qJq+3gfqIJF7NWUtVVMaIz5EYY+Ohv1k74jEhpst4Er93gP9PKZUGdAF3AV8bOKi1rlBK9Sql1mit3wfuA7ZqrV1Kqd3AZ4CngM/7298CZg70V0qdA26Vqp4iFPx51xmi7VZuvibP6FBC2qqFmTz26jFOV7VRmDfyprdCTBat9W+B3yqlPqm1fsnoeIQQ02OkNXwA0e4e1jWXsqT9NN2WSLamreRw/Bx8JvOQ82R0TwSaSyZ+WutqpdT3ge30V+DcorXep5R6A/ih1no/cC/wmFIqHigBBiqffQN4XCn1AHAeuGcqLkKIQFBe3cahcgd3rZ9NdOTwOf1i8iybm0qEzczesjpJ/MR02qOU+lcgmf5lDYBU9RQiFI00ymf2eVjReoLVLYexed0UJy7g/aTFOC3DC9RL0icC0bj28dNaP0X/qN3gtlsH/XyIoQVfBtorgA2XeO6Z44lBiEBmMpt4bkc5cdE2Vi3KosvpHvP8AF+iGvAiI6wsL0yj+EQDn7uhEKvFfOlOQly5J4BuoBSp5ilEyPrOw7uHJn0+HwXd1WxqKibZ1cHp6By2pa6gOSJhWF+zCbZ8T5I+EZjGlfgJIcZ27GwzJytbKZqXzuHTTZc8f0lh2jREFdpWLshkb1k9R8odLJP3U0yPXK31fKODEEJMvtHW8aX0tXJ9034Kumtw2OL5U9YmzsTkjPgcsj2DCHSS+AkxCd7dX0lkhIXCvOF3/8SVMZlNQ0ZQfc3ddDvdzMyOJzbKxu4jtRTmJ104brdZscoAoJgaFUqpGK11l9GBCCEmx2jr+OyePq5rPsTythO4zFbeTV3BgYR5eE3Df8HI9gwiWEjiJ8QVcrT3os+3sqwwFYtMOZx0TpeHQycbLzwevN1FbnoMh8sdvH+4hgibBYCi+RlY7fLRJqZELXBQKbUD6BlolDV+QgSn7zy8m9Yu15A2k8/LkvbTrHOUEuV1cjB+LruTl9JtjRpyXlSEmUe+s2EaoxXiysm3IyGuUNmZZiIjLCgpMjLtZmfFc6KilYr6TubmymirmHLn/H+EEEHurx7chssztG1Gdx2bmorJ6GvhfGQG76QV0WBPHtZXpnSKYCWJnxBXoL2rj4q6DjZcnXthxElMn5SESOKibZytaZfET0w5rfWPLm5TSsUYEYsQ4vJ9+WfbhjxOcHWysekA87oqaLPG8OfM9eiYGXDRPrEyyieCnSR+QlyBsrPNmMwm1i3N5mx1m9HhhB2TycTs7HgOnXbQ1esiRrbREFNIKfUJ4MdALP3bOVjo39ohzsi4hBBjG20dn83rYmXLUa5tLcOLmV3JS9mXuAC3efjXY5sFSfpE0JPET4jL1NvnprymnTk58cTHDN/DR0yPWVn9id/Zmnaump1idDgitP0n8ADwdeDnwB1Au6ERCSHG9MBje6hx9Axt9PlY0HmWDU0lxHu6KYudxY7U5XRYRx7Al+ItIlRI4ifEZTpV2YbX62PeoIqSYvrFx0SQlhhJeU07C2cNX4shxCTq0lo/q5RaCvQCfw2UAd81NiwhxEhGSvoye5vY3FRMbm8jtfYUXs5cR3VU+rC+99++gFULM6crVCGmhSR+QlwGr9eHrmwlMyWaxFi70eGEvYKcBPaW1eNo6zU6FBHaepVSduA0sFRrvUMpJRu5CxFg9pTV8dirx4a0xbi7We8oZXFHOZ2WSF5PX82RuIJh6/hkA3YRyiTxE+IyVDV20t3r5pr5w+8Siuk3MzOO4uMNnJZ1lmJqvQK8DnwB2KOUWgs0GRuSEGKwi5M+i8/DitbjrG4+jMXnZU/iQvYkL6LPPHyJhhRvEaFOEj8hLsOJilZiIq3kpsUaHYoAImwW8jPjOFvbQZ/bQ4zs4yemgNb635VST2itq/2FXtYBTxsdlxDhbseBSv7rqZKhjT4fc7squd5xgCRXB6dicnk3ZQWtEfEjPods0SDCgXw7EmKCWjud1DV3s7wwFbPZdOkOYloU5MRzpqadw6cdrF+SbXQ4IgQppZb7/z/V37QbyAUaDAtKiDD31Z9vw3vRhOtUZyubmoqZ1VNLY0QCz2Rv5lz0yL8XbBb49XdlaqcID5L4CTFB+nwrZrOJObJvXEDJTI4mNsrGh2V1kviJqfLCoJ8jgEzgAHCNMeEIEb6++dAOevq8Q9oiPU7WNh9kWdtJ+sw23k4tojRB4TWZh/X/3T9JsifCjyR+QkyA2+PlTE07+RmxREbIP59AMrCn35FyB462XlISIo0OSYQYrfWswY+VUhuAe42JRojwM1LRFgCTz8uytpOsbT6I3euiNKGQ95KX0GMZ+feAJH0iXMk3VyEm4Hx9Jy63l7m5iUaHIkZQkBPP4XIH7x+t5eNrZl26gxBXwF/V8yGj4xAiHIw0pRMgv7uWzU3FpPW1ci4qk3dTi2i0j7zNkuzHJ8KdJH5CTMDp6jZio2xkJEcZHYoYQVx0BIV5ibx/pJbbVs/EbJI1mGLyDKzx8zMBKwD5MBBiCj34dAnHK1qHtSe6Ori+aT+FXZW0WmN5MXMDJ2Pyhm3PMEBG+YSQxE+IcevsdlHn6GbpnBRMklAErJULM/jDm5pTla2oGSPf9RXiMg1e4+ejv6jLXxsUixAh768e3IbLM7QtwutiVfMRilqP4TWZ2ZG8jOLEBXjMlhGfQ4q3CPERSfyEGKeBPeJm50hRl0C2ZE4qUfbTvHe4VhI/MakuXuMnhJg633xox9Ckz+fjqo4zbHCUEOvp4UjcbHamLKfTGj2sb2KMjYf+Zu30BStEkJDET4hx8Pl8lFe3kZXSXzlSBK4Im4WieRnsPVbH524oJEr29BOTQCkVC3wdWAOYgT3Ao8AngGqt9TYDwxMiJDzw2B5qHD3D2rN7G9ncuI9sp4NqeyovZG2gNjJt2HlmE2z5nozuCTEa+UYkxDjUNXfT1etmuRr+i0YEnusWZ7HrUA3FJxpYJ1s7iCuklEqmP9E7Drztb74e2A90ABsNCk2IkPHlnw2/dxLr7maDo4SrOs7QYYni1fQ1lMXNHraOzwR89fYFrFqYOU3RChGcJPETYhzO1LRjs5rJS481OhQxDgXZ8WQmR/PekVpJ/MRk+BGwRWv94KC2R5RSzwMurXW7QXEJEfRGKt5i9bopaj3GqpajmPHyQdIi9iRdhcs8dMZNVISZR76zgbS0OBobO6YzbCGCkiR+QlyCx+PlfH0nMzJisVqGbwIrAo/JZGLt4iye21FOraOLrJQYo0MSwW0DsHRwg38UcD4gc7+FuAwj7snn86G6zrOx6QCJ7k50zAy2pV5Nmy1uWH+p0inExEniJ8QlVDV24XJ7mZUVb3QoYgJWL8rixV1n2Hmwhs9ummt0OCK4ebXWF9UWpAO4C3jWgHiECFojVeoESHO2sLlpH/k99TREJPJ09g1URGcNO0+qdApx+STxE+ISztW2ExlhITN5eOUwEXhMZhNdTjdWq5nFBSm8d6SWm1fmY7OOPFprt1kZ5ZAQFyil4gdP6dRau5RSdUbGJEQwGW0/vihPL2sdB1nafopecwRvpV3Lwfi5+EzDP5gl6RPiykjiJ8QY+tweKhu7KMxNwGyWvfuCgdPl4dDJRgBSEyMpPeXmxZ3lzM4eecS2aH4GVqn8Kcb2FPAbpdQXtNZOAKVUJPAr4AlDIxMiCHzn4d20drmGtJl9Xpa3aa5rPkSE10VJguK95CX0WuwjPkd2ShQ/uX/VdIQrRMiSbztCjKGyvhOv1yfTPINUZnI0cdE2TlW2jpr4CTEO/wk8CZxRSu33txUB2/3HhBCjeOCxPcOSvlld1Wxq2k+qq42zUVm8k1aEIyJxWN+Ny7K576Z50xWqECFPEj8hxnC2tp3YKBupiZFGhyIug8lkYm5uAiUnm2jtdJIYO/KdZCHG4l/f91ml1ArgOn/zT7TWxQaGJURA++NbJ9heWjOkLamvnU1N+5nTXUWzLY7nszZyOjp32PYMIMVbhJgKkvgJMYrePje1jm4WzkrGNMIvJREcCnISOHiqiVOVbRTNTzc6HBHEtNb76d+7Twgxhos3Yrd7+ljdcpgVrSdwmyxsS1nOgcT5eEyWYX1lSqcQU0cSPyFGcb6+E58PZmYOLyMtgkeU3UpeRhzlNW0sL0zFIltyCCHElBm8ns/k87Koo5z1jlKiPb0cjpvDrpRldFmjhvUb2JNPCDF1xpX4KaU+BzxA/35Fv9BaP3LR8aXAFiAe2AV8XWvtVkrNoH/hezqggXu11p1KqQX+82OAZuCLWuuKSbomISbF+foO4qJtJMXJ9MBgV5iXQEVdBxX1nbLWTwghpsiXf7btws+5PfVsbiom09lMVWQaz2VdT11k6rA+MqVTiOlzyVvfSqkc4N/oX9ewFPiaP3Eb7AngW1rrQsAE3O9vfxR4VGs9j/7pMT/wtz8C/FhrvYT+PZB+eqUXIsRk6up1UevoZkZGnEzzDAEDRV5OVg4vJS7ERCmlhlehECJM7Smr48s/23Yh6Yt3dfLxul38r+q3iPb08nLGWp7IuXlY0mc2SdInxHQbz4jfZmCb1roZQCn1PHA38GP/43wgSmu913/+74EfKaW2AOuATw5q3wl8D7jBPyJoBvKBlkm5GiEmyZFyBz4f5Ms0z5BgMpmYm5dIiW6UIi/isimlFPBnIEEpdQ3wDnCH1vqEsZEJYYzBa/msXjfXtpaxsuUoAO8lLebDpIW4zLYR+275niR9Qky38SR+2UDtoMe1wDWXOJ4LpALtWmv3Re34k75E4BgQDWyYSNApKbETOd0waWmSNIwlkN+fI2eaiYu2MTM7YVwjfjablbjY8Vf+vNT5Ix2b7Ne40vONfI2xnmO011gyN42DJ5uoqOskb2nChfboaDtpydETiimQBfK/qxDwMPBt4D+01tVKqYeB39B/k1OIsPLVn2/D6wN8PuZ1nmOj4wAJ7m6Ox+azPeVq2m0jf1eT4i1CGGc8iZ8Z8A16bAK84zh+cTuD+2mtW4FspdTNwCtKqVn+ktmX5HD0760WyNLS4mhs7DA6jIAVyO9Pd6+bY2cdFOYl0tnlHFcfl8tNR2fvuF9jrPPjYiNHPDaZrzEZ5xv1GqO9P+N5jRkZsRyvaOaqWUkXirx0dztp9IzroyfgBfK/q8thNpsC7UZfitb67f6BP9BaP6qU+prBMQkxrQaP8mX0OtjcVExebwP1EUm8lrOWyqiMEfuZTTLKJ4TRxpP4VQFrBz3OBGouOp41wvEG+qfDWPwJXdZAP6XUp4HntNY+rfWbSqkoIAlouuwrEWKSHCpvwu3xkZ8hIyehZm5eAufqOqio72B2dsKlOwgxlE8pFYn/pqZSKhMYXo/+IkqpfwU+7X/4utb6H5VSm4GHgCjgWa31A/5zRyyWNulXIsQEDd6XL9rdw7rmUpa0n6bHbGdr2koOx8/BZxq5dITNAr/+riR9QhhtPHXN3wE2KaXSlFLRwF3AmwMH/dU4e5VSa/xN9wFbtdYuYDfwGX/754Gt/p//AbgDQCm1EWjSWkvSJwLC/hMNJMREyKbtISgzOZr4aBv6vBR5EZflUeAtIF0p9VNgr79tVP4E70ZgGf0F0q5WSt0D/A74BDAfKFJK3eLvMlqxNCEM89Wfb2N7aQ1mn4drWsr42vmXWNReTnHiAn6dfweHEgpHTfrm5ydK0idEgLjkiJ9/HcP3ge1ABLBFa71PKfUG8EP/hrb3Ao8ppeKBEuCX/u7fAB5XSj0AnAfu8bd/EfiNUuqHQBv9xWKEMJzT5aHsbDPXLsyUap4hyGQyUTgjkf0nGmlu7yU5XpJ7MX5a698ppU4DH6N/e6P7tdZvX6JbLfD3Wus+AKXUcaAQOKW1PutvewL4lFLqGCMUSwP+e9IvRohxGDytc3ZXFZua9pPiaud0dA7bUlfQHDH6zAnZl0+IwDOuffy01k8BT13Uduugnw8xtODLQHsFIxRu0Vofo397CCECyrGzzfS5vSyZk0J7V5/R4YgpUJCTQOnJJk5WtrJyYabR4YggoJRKHvTwqP/PhWMDVa9HorUuG3TuXPqnfD7MyEXRRiuWJsS0evDpEo5X9M+MSO5rY1NTMQXdNThs8fwp63rOxIz+11LW8gkRuMaV+AkRLkpONRJttzInJ4GSk41GhyOmgN1mYWZWHGdq2lmu0owORwSHJvrX9Q2eBjDw2Mf41vktBF4Hvgu46R/1GzBaUbSLi6mNy+UUxAmnarByraPbcaCS/3qqBAC7p4/rmg+xvO0ELrOVd1NXcCBB4TWN/tc9Lz2GR7+3+Ypivlzy3zV0hdP1TvW1SuInhJ/H6+XQaQeL56RcqPgoQpOakUR5dTtnqttZsyjb6HBEgNNaX9EHgn8N/AvA32mtn1FKrWfkomijFUubkIlWvg61arBjkWsd3Z6yOh579Rgmn5cl7adZ5yglyuvkYPxcdicvpdsaNWb/+29fwKqFmYa8v/LfNXSF0/VO5Fovt+q1JH5C+J2uaqOzx8WyuTIKFOpSEyJJiY9EV7bi8wX21jAicCilLMBfATcBHuAVrfXvL9EnD3gJ+IzWepu/+cP+Q2oOcBb4HPA7rXWFUqpXKbVGa/0+/mJpU3M1QnzkOw/vprXLRV5PHZsbi8noa+F8ZAbvpq2g3p4yZt+BhE8IEfgk8RPCr/RUE1aLiatmJU98bpUIOmpGIh8craO8uo0lBalGhyOCw8PAAuAP9E/L/IpSas7AVgyj+AcgEnhoYP8/4Ff0Fzl7wX/sDeB5/7HRiqUJMekGEr4EVyefcBxgfmcFbdYY/py5Dh2TD2MUOZufn8h371k+jdEKIa6UJH5CAD6fj4Onmpifn0yU3UqXU7bNCnUzs+LYf6KB3YdqJfET43UDsMC/XdFANc5DwKiJn9b628C3Rzm8ZITzRyyWJsRkGtiTz+Z1sbblKNe0HgNgV/JS9iUuwG0e/euh7MknRPCSxE8IoLqpi4bWHm6+dobRoYhpYrWYKchJ4NDpJto6nSTE2o0OSQS+Rvp/b7r8j72AbAopgso3H9pBj9PDgs6zbGgqId7TTVnsLHakLKfDFjNm343LsrnvpnnTFKkQYrJJ4icE/dM8AZbOlZGfcKJmJHK8ooVdh2u5ffVMo8MRge8gsFsp9Xv6K3N+BmhSSn0HQGv9kIGxCTGmgT35MnubuKupmNzeRmrtKbycuY7qqPQx+0rCJ0RokMRPCKD0ZCOzs+NJlFGfsBIfE4GakcjOg9V8bGU+ZvPo61mEAKKAI8DV/sfn/P+/iKHbMAgRUL78s23EuHu41VHC4o5yOi2RvJ6+miNxBWOu4wP43T/JtE4hQoUkfiLsNbf3cq6ug7vWzzY6FGGAtUuy2fLqMQ6VN0lFVzEmrfWXjI5BiIn441sn2FVSybWtx1ndfBirz8vexIV8kLyIPnPEmH0TY2w89DdrpylSIcR0kMRPhL2Dp/unecqX/vB01ewUkuLsbC+plr8DYkxKqQ3APwHJg9u11lKMRQSUBx7bQ01TN3O7Kvmq4wBJrg5OxeSyLWUFLRHxY/aVhE+I0CWJnwh7paeayEiOJisl2uhQhAEsZhPrl2Tz0ntnaWjpJj1J/h6IUW2hf3uFcqMDEWI033xoBzEdzXymqZhZPbU02RJ4Jnsz56Kzx+xnNsGW78m0TiFCmSR+Iqx197o5UdHCDUV5mC6xzkGErrVLsnnl/XPsKK3h09fPMTocEbjqtdayr54ISHvK6vjjS6WsbT7IsraT9JltvJ1aRGmCwmsyj9lX9uQTIjxI4ifC2pEzDjxeH8ukmmdYS4qzs7wwld2Ha/jk2llE2CxGhyQC06tKqW8Ab/HRlg5orc8bF5IIdw8+XcKJc80sazvJXzUfxO51UZpQyHvJS+ixRI7ZV6Z1ChFeJPETYa30VCPx0TYKshOMDkUYbOOyHPbrRopPNLBmUZbR4YjAlAL8O9A1qM0HjL1oSohJNrABO0B+dy1faiomva+ViqhM3kktotGedMnnkGqdQoQfSfxE2HJ7vBw542CFSpcy/oJ5+UlkJkezo7RaEj8xmtuBLK11vdGBiPC0p6yOx149BkCCq4Prmw6gus7Tao3lxcwNnIzJu+T2DFERZh75zoZpiFYIEWgk8RNh68T5FnqcHqnkKAAwmUxsXJbD0++eoqKug/zMOKNDEoGnAWg0OggRfgaP8EV4XaxqPkJR6zG8JjM7kpdRnLgAj/nSU9RlI3YhwpskfiJslZxswm6zsHDWpafEiPCwZlEmL+wsZ3tpNV+8Rb4ciWGOAO8ppV4FnAONWuuHjAtJhLIHny7heEVr/wOfj6s6zrDBUUKsp4cjcbPZmbKcTuulKxFLwieEAEn8RJjy+nyUnmxk0exkbFYp5CH6RUfauHZBBnuP1fHpjQVER9qMDkkElmhAA4VGByJC25CED8jubWRzYzHZziZq7Km8kLWB2sjxzVaRpE8IMUASPxGWzlS309bVx/JCmeYphrp+eS67D9fy/tE6bliRZ3Q4IoBorb9kdAwidO0pq+N3rx3D4/uoLdbdzQZHCVd1nKHDEsWr6Wsoi5t9yXV8AEvmpPDtu5dMYcRCiGAjiZ8ISyUnG7GYTSwukG0cxFD5mXHMyopnR2k1m6/Olf0dxQVKqVXAPwGxgAmwALO01jMMDUwEtT1ldWx59RiD8j0sXg/XtB5jVcsRzHj5IGkRe5KuwmUeexaC1WLiS7fOZ9XCTNLS4mhs7Jja4IUQQUUSPxF2fD4fJScbmT8ziehI+ScQ7kxmE11O95C2NYsyeeIvJzlY7qAwL3FYH7vNinXs/ZBFaNoC/AG4G/gV8EngBUMjEkFnT1kdj289Tp/bN/ygz4fqOs/GpgMkujvRMTPYlno1bbaxi03JdE4hxHjIt14Rdqobu2ho7eHmlXKTXoDT5eHQyaGFGr0+HxE2M6+8d5b1S7OH9Sman4HVLh+fYcintf65UioVOAF8GthvcEwiiFy8dm+wNGcLm5v2kd9TT0NEIk9n30BF9Nhby8zPT+S79yyfilCFECFIvrmIsFNyshETyDYOYlRWi5k5OQkcr2ihu9ctI8NiwMC8uXLgKq31+0opj5EBieDxwGN7qHH0DGuP8vSy1nGQpe2ncJptvJV2LQfj5+IzjTytwGI28eWP9U/nFEKIiZBvMyLslJxspCA3gYSYCKNDEQGsMC+RY+daOF3VyuI5shZUAPChUupZ4AfA60qpQsB9iT5CjJj0mX1elrVp1jYfIsLroiRB8V7yEnot9hGfQ0b3hBBXShI/EVYaW3s439DJpzfOMToUEeDiYyLISonmZGUbV81OwWyWIi+C/w1cq7U+qZT6NnADcI/BMYkANnjj9cFmdVWzqWk/qa42zkZl8U5aEY6I4euJQRI+IcTkkcRPhJUS/1qu5UqmeYpLUzMS2VFaQ1VjJzMyxi6uIEKbUsoEWLTWe5VScUAk8KjW+pTBoYkANFrCl9TXzqam/czprqLFFsfzWRs5HZ074vYMUrBFCDHZJPETYaXkZCO5abGkJ0YZHYoIArlpsURHWtHnWyXxC2NKqQXAG8C3lFLvAvv8h+KVUl/UWr9tXHQikIyW8Nk9faxuOcyK1hO4TRa2pSznQOJ8PCbLkPMGb8cghBCTTRI/ETbauvo4XdXG7WtmGh2KCBJms4nCvEQOnmqivauPeFkXGq4eBL6vtX5NKTWwiftCIAd4BpDET4xcvMXnY3HHadY7Son29HI4bg67UpbRZf3o5qOM7Akhpsu4Ej+l1OeABwAb8Aut9SMXHV9K//5G8cAu4Otaa7dSagbwBJAOaOBerXWnUmo+8Gv/+T3AX2utD07SNQkxooOnGvEBywtlmqcYv7m5CRw63cTJylZWzEs3OhxhjBla6yf9P28EXtbjwMtEAAAgAElEQVRae4FKpVSCgXEJA+0pq+OptzVdvSMXds3paWBzUzFZTgdVkWk8l3U9dZFDC0Xdf/sCGd0TQkybS25BrJTKAf4NuA5YCnzNP+1lsCeAb2mtCwETcL+//VH610DMo3+vox/42x8Dfq61Xgp8H3j8Si9EiNG4vdDldFN8ooHUhEiSEyLpcrrH/OMdYV9dEZ6i7FZmZMRxuroNt8drdDjCGIO/2a+m/wbngMhpjkUEgD1ldWx57diISV+cq4vb63ZxX/WbxLh7eDljLU/k3Dwk6bOYTZL0CSGm3XhG/DYD27TWzQBKqeeBu4Ef+x/nA1Fa673+838P/EgptQVYB3xyUPtO4Hv0jw6+6W8/DMhO2mLKOF1u3j9cw4mKVublJ7L/RMMl+yyRUUExyLwZiVTUdXC2pp25eSNX3hMhrVkptQSIA7Lo/12GUmo1UG1kYMIY//PGcXwX3SC0et1c21rGypajALyftJi9SQtxmW1DzpMqnUIIo4wn8csGagc9rgWuucTxXCAVaNdauy9qR2v9+0Hn/xh4aUJRCzFB1Y1deH0+ZmTEGh2KCELpSVEkxdk5XtHCnFyZ2ReG/gV4B0gA/lFr3aWU+gf6Z6x8csyeIiTsKavj8a3H6XOPMB3E52Ne5zk2Og6Q4O7meGw+21Oupt029PeN3Wbh8zcrGeUTQhhmPImfGRj8SWcCvOM4fnE7g/v5S2M/CKykf83EuKWkBMeX97Q0qQI4lul6f3zN3dQ0dxNltzI7NwnTCGWzL2azWYmLHf8Mrsk+f6RjRscUSK8x1nNMVUxLC9PYfqCKjh4P0dF20pKjx/0a00k+dyaffwuHHCBaa93qb/4AuEa2cwh9Dz5dwvGK1hGPZTgdbG4sJq+3gfqIJF7LWUtlVMaQc6R4ixAiUIwn8asC1g56nAnUXHQ8a4TjDUCCUsqitfb4z6kBUEpZgT/QXxFto9a6bSJBOxydeAN8EVZaWhyNjR1GhxGwpvP9ael0UlHbzuzseDq7nOPq43K56ejsHfdrTOb5cbGRIx4zMqZAeo3R3p+pjikrOQq7zUKJrmfT1Tk0ekYu6GCkUPvcMZtNAXOjT2vdB/QNevyBgeGIaTJa0hft7mFd80GWtJ+ix2xna9pKDsfPwWf6qHRCdkoUP7l/1XSGK4QQY7pkcRf6p7dsUkqlKaWigbv4aH0eWusKoFcptcbfdB+wVWvtAnYDn/G3fx7Y6v/5P+mv6HnjRJM+ISbq6BkHbo+PWVnxRocigpjVYmZuXgKV9Z042iaWvAohgs8f3zoxLOkz+zwUtRzja+dfYlH7aYoT5vPr/Ds4lFA4JOnbuCxbkj4hRMC55Iif1rpaKfV9YDsQAWzRWu9TSr0B/FBrvR+4F3hMKRUPlAC/9Hf/BvC4UuoB4Dxwj1IqDfgWcBb4UCk18DpLJ/fShOhXohuJsltJT5JN28WVUXmJlJ1tZvehGu69odDocIQQU2RPWd2wjdhnd1WxqWk/Ka52yqNzeDd1Bc0RH635laItQohAN659/LTWTwFPXdR266CfDzG04MtAewWw4XJfV4gr1d3r5ti5ZubmJo5rbZ8QY4mJsjEjI44PjtZx9/oC7BEWo0MSQkyyPWV1PPbqsQuPk/va2NRUTEF3DQ5bPH/Kup4zMblD+kjSJ4QIBpKAiZBWeqoRt8fHzCwpeCEmx7z8/q0d9hyrY8PSHKPDEUJMkosrd9o9fVzXfIjlbSdwma28m7qCAwkKr+mjGz5SqVMIEUwk8RMhbd/xBpLj7aQmyB7LYnKkJ0aRmx7Lu/urWL8kW0aShQgBf3zrxIWpnSafl8Xtp1nvKCXK6+Rg/Fx2Jy+l29q/XEBG94QQwUoSPxGyOntcHDvXzMblufLlXEwak8nE+qXZPPmXk5yoaGH+zGSjQxJCXIY9ZXU89bamq/ejCr15PXVsbiwmo6+Fysh03kkrot6ecuG4bM0ghAhmkviJkLVfN+Dx+rhapVHr6DI6HBFCrlbpvLz7LO8cqJLET4ggsuNAJb968dCQZA8gwdXJBscB5ndW0GaN4aWMdZyIzYeLbhpK0ieECGaS+ImQ9cHROrJSoslJi5HET0wqm9XMhmXZvP5BBY2tPaQlSsVYIQLd4OmcA2xeFytbjnJNa38xl93JS/gwcSFu8/CvRxuXZU9LnEIIMVUk8RMhqb6lm9NVbdy9oUCmeYopsXFZLlv3nufdA1V8dtNco8MRQoxgpOmcAPh8LOg8y4amEuI93ZTFzmJHynI6bDEjPo9M8RRChAJJ/ERI+uBIHSYTUmlNTJmkODtF89PZeaiGj6+ZSXSkzeiQhBCDjDTCB5DZ28TmpmJyexuptafwcuY6qqPSR3wOSfiEEKFEEj8Rcrw+Hx8crWPBzGSS4ux0Od1GhyRC1M3XzGBvWT3bS6v52KqZRocjhGD0Ub4Ydw/rHSUs7iinyxLJG+mrOBw3Z9g6PpBtGoQQoUkSPxFyTlW24mjv5c71s40ORYS4GRlxLJyZxDv7q7ixaAY2q9nokIQIa/178Z2gz+290GbxeVjRepzVzYex+rzsTVzIB8mL6DNHDOsfG2Xlns2FkvAJIUKSJH4i5Lx/pI7ICAvLC9OMDkWEgZtX5vNfzxxkT1kd65ZI8QchjPTizvKPkj6fj7ldlVzvOECSq4NT0blsS11BS0T8kD6S7AkhwoUkfiKkOPs8FOsGiualY7dZjA5HhIEF+UnMSI/lrX3nuW5xFmYpJiSEYRztTgBSna1saipmVk8tTbYEnsnezLnooTdmZP2eECLcSOInQsq+E/U4+zxctyjL6FBEmDCZTNy8cga/eeUYB081yUizEAbKjvaxoKKY5W2aPrONt1OLKE1QeE0fTcOWET4hRLiSxE+ElB2lNWSnxjA3N8HoUEQYKZqXzku7zvLq++dYNjdVthARwyil4oEPgNu01ueUUpuBh4Ao4Fmt9QP+85YCW4B4YBfwda21VKi6BJ/HQ+mzr/Cpo29i9/ZxMH4uu1OW0mOJBD5K9j6+YS6NjR0GRyuEEMaQSgQiZFTUdXC2tp0NS7Pli7eYVhazmY+tzqeivoPD5Q6jwxEBRil1LfAeUOh/HAX8DvgEMB8oUkrd4j/9CeBbWutCwATcP/0RB5fire+x52//nthtL9NgT+J/8m7jL+krLyR9G5dl88tvr5MRPiFE2JPET4SMHQeribCaWX2V/HIX02/VwkxSEyJ55f1z+Hw+o8MRgeV+4JvAwKZy1wCntNZn/aN5TwCfUkrlA1Fa673+834PfGq6gw0WfY0NHPnZgyS8sAWrx82Lmet5OvsGGu1JQ86TmzFCCNFPpnqKkNDjdLO3rJ5r5mfIRtrCEFaLmVtX5fOHNzVlZ5u5anaK0SGJAKG1/iqAUmqgKRuoHXRKLZA7RvuEpKTETjjGtLS4Cfcxiru7h+oXXqT6pVcwe2FH8jKKExfgMY9c0Ku53Tnk+oLpWq+UXGtoCqdrhfC63qm+Vkn8REjYW1aH0+Vhw7Ico0MRYWzNVVm89sE5Xn7/LAtnJcuUYzEaMzB4WNgEeMdonxCHoxOvd/yjzmlpcUGx7s3n9dKxdw+NLzyHp62VuFWr+WltNp3W6DH7JcfbL1xfsFzrZJBrDU3hdK0QXtc7kWs1m02XdZNPpnqKoOfz+dheWs2MjFhmZYXPXSEReGxWMx9bmU95dbtMLxNjqQIGlx7OpH8a6GjtYa+n/DSVP/0Jdb97DFtyMnn//ABZX/kaxMWP2c9qMXHn+oJpilIIIQKbJH4i6B2vaKGqsYtNy3NlhEUYbu2SbNITo3hhZ/mERl1EWPkQUEqpOUopC/A5YKvWugLoVUqt8Z93H7DVqCADgaulhdrf/obKn/4EV3MzmV++n7x/foCDvbH8zS920tkzesHT2CgrX7p1vhR1EUIIP5nqKYLem/vOEx8TwUr55S4CgNVi5o51s/n1K2XsPVbH6qtkT0kxlNa6Vyn1ReAFIBJ4A3jef/he4DH/9g8lwC8NCdJgXlcfLX95i+Y3XgOPh+Rbb+PUrCJ+sfMcXbt2jNk3JtLCw3+3fnoCFUKIICKJnwhq1Y2dHD3TzB1rZ2GzygC2mB4ms4ku5+gjDQtmJ5OXHsuLu86wYFYKsVERyF9PobWeOejnd4ElI5xziP6qn2HJ5/PRWXKAxueewd3UROzyq6lccj2/LG6i62T5uJ6jq9czxVEKIURwksRPBLW3iiuJsJrZuHzChe+EuGxOl4dDJxvHPEfNSOSd/VU89bbmC7fMx2qXj1shxuKsrKTh2afoOXGciJxc2u76Kg9rD1276yf0PCnx9imKUAghgpt8ExFBq63Tyd6yOtYuySY2SrZwEIElOzWGrJRoDp920NHdR4wkfkKMyNPRQdn/PEnE4Q9xmm3sTruG0shCfIf6JvxcEVazFHMRQohRyDcREbTeOVCFx+PjxqI8o0MRYkRF89N59f1zvPr+Oe6/bYHR4QgRUPYcrka/+BrLaw4Q4XVRkqB4L3kJvZbLG7GLjbJyz+ZCKeYihBCjkMRPBKXOHhfvHqjiapVGRtLYezgJYZTEWDvz85PYe7SOTctzmZ09dul5IcLF/td3wesvsLqvjbNRWbybWkSTPfGynksSPiGEGB9J/ERQ+kvxeZx9Hj5+3SyjQxFiTIvnpFDV0MWTb2u+//kVmGXLERHG+urraPzTM8QfOkiLLY7nszZyOjoXLuPfhSR8QggxMZL4iaDT2ePi7f1VrJiXTm5arNHhCDGmCKuFT66bxR/e1Ow8WMPGZTlGhyTEtPP09ND82iu0vPMXTFYb21OWsz9xPh6TZULPI8meEEJcPkn8RNB5a995+vo8fHzNTKNDEWJcVsxLp/h4A3/afppFs5NJTYgyOiQhpoXP66X9g/doeuF5PB3txK9ZS+qdd3H6yTI87c5xP09KvJ071xdIwieEEFdAEj8RVDq6+3jnQBVF89PJkdE+ESRMJhNfumUeP/jdPn6/9QR//5mlmGTKpwhxPadO0fDMkzgrzhFZMIecv/07ImfNBuDO9QU8vvUEfW7vsH5mE3h9kuwJIcRkG1fip5T6HPAAYAN+obV+5KLjS4EtQDywC/i61tqtlJoBPAGkAxq4V2vdOajfV4C1WusvTsK1iDDw2gcV9Lk83L5G1vaJ4JKaGMWnN87hj29pdh6qYcNSmfIpQpOr2UHT88/RsW8vnth4ds7cyD5ySdlay+KCPg6XO3C0O4mJtBBhs9LZ45YkTwghpoH5UicopXKAfwOuA5YCX1NKXVyX/AngW1rrQsAE3O9vfxR4VGs9D9gP/MD/nJFKqZ8Bv5iUqxBhoa65m20lVaxdnE1OaozR4QgxYRuWZjM/P4lnt52mobXH6HCEmFRepxPHqy9z7oF/prP0AN3XXs8j2bezz5oHJhOOdifbS2tw+Kd4dvV66HN5uf/2BTz4jTWS9AkhxBS7ZOIHbAa2aa2btdZdwPPA3QMHlVL5QJTWeq+/6ffAp5RSNmCd//wL7f6f1/lf+x+v9AJE+Hhu+2msVjMfv242XU73uP94fUZHLkQ/k8nEl2+dj8Vk4lcvHcU1wjQ3IYKNz+ejo3gf537wLzhe/jMxi5cw8//8O0+6Cuj2jl28pc/t5cWd5dMUqRBChLfxTPXMBmoHPa4FrrnE8VwgFWjXWrsvakdr/RfgL0qpL15e2CLcHK9oofRUE3etn409wkzx8fpx911SmDaFkQkxMSkJkXzlY/N5+MUjPLf9NJ+7odDokIS4bL3nK2h8+kl6Tp3EnpdH5lfuJ1rNA8DRfmRcz+GYQJEXIYQQl288iZ8ZGDxmYgK84zh+cTsX9btsKSnBUdQjLS3O6BAC2njfH4/Xxwt/OEB6UhSfu2UBrR1O4mIjx/06Npt1QudfTp/JPn+kY0bHFEivMdZzBOJ1R0fbSUuOvvD4xrQ4Kpq6eGXXGYquymL14uwJvf5Y5HNHTAd3ezuOl16gbfcuLDGxpN/3RRLWrsNk/mgiUUq8fVxJXUq8fSpDFUII4TeexK8KWDvocSZQc9HxrBGONwAJSimL1trjP2dwv8vmcHTiDfD5e2lpcTQ2dhgdRsCayPvzdnElZ2ra+PonFtLW2k23001HZ++4X8vlmtj5l9NnMs+Pi40c8ZiRMQXSa4z2/hgZ06V0dztp9HiGtN127QyOnGrk/z5dQrTNPCnrVkPtc8dsNgXNjb5w4XO7ad32DvUv/Rn6+tifMI/j+UXcljoPjjfw4s5yHO1OUuLtLC5I4f0jdSNW7hwQYTVz5/qCabwCIYQIX+NZ4/cOsEkplaaUigbuAt4cOKi1rgB6lVJr/E33AVu11i5gN/AZf/vnga2TFrkIC01tPby46wyLC1IompdudDhCTBqrxcw3PrmICJuFh58/TGeP68Ixt5cJrWPtcrqR5YJiqnUePsS5f32Axj89Q4UtlS0zPs62tCJqu+F3rx3jf944fmGEz9Hu5P0jdaxZlHlhRC8l3s7GZdlDHn/hlnlS1EUIIabJJUf8tNbVSqnvA9uBCGCL1nqfUuoN4Ida6/3AvcBjSql4oAT4pb/7N4DHlVIPAOeBe6biIkRo8vl8/PGtkwDcd6OSfc9EyElJiORbdy7iP54q4dE/H+E7n1mK1WLG6XJPaB0rQNH8jCmKUoS7vtoaGp59hu6jh7FlZPJmwU0cNA39++bxDfzPoH5uL4fLHTz4jTUIIYQw3rj28dNaPwU8dVHbrYN+PsTQgi8D7RXAhjGe9/f0V/sUYpgPj9dz5IyDezbPJSVhYmuwhAgWc3IS+MLN8/jt68f5w1uaL90yz+iQhADA092F49VXaN32DuaICNI+/VkSr9/Mwf/cNe7nkMItQggROMaV+Akx3Zrbe3nyLyeZlRXPpuW5RocjxJRasyiL+pYeXvvgHAkxEdy8Mt/okEQY83m9tO3ehePPL+Dp6iRh7TpSPnkX1vh4YPxFWwbOFUIIERgk8RMBx+v18ZtXj+H2+vja7Qswm2WKpwh9d6ydRXtXH6/vqcAeYSE2ymZ0SCIMdesTND7zJM7KSqLmFpJ2z71Ezhh6I+LO9QU8vvXEkKItFhOYzCbcg6Z7SuEWIYQILJL4CUO5veB0uYe0vbGngpOVrdx3kyI2JoIu59DjAV7QVYjLYjKZ+PxNiq4eFy/uPMN1izOZnZ1gdFgiTLgcTTQ+9yyd+4uxJieT9VffIHZF0YhrqweKsQyu4DmQ4F3cJoVbhBAicEjiJwx1cRGLuuZu3t5XyezseEwmRixwIRuyi1BlNpv42scX8J/PHuT9I3VE2Czkpsl2BmLqeJ1OKp58jeo/vwwmEymfuIOkG2/GbB97iuaqhZkjJnWS6AkhROCSxE8EjI7uPnaW1hAXbePaBVKhUIQOk9k0bOR6LF+9bSE/f/IAO0truLEoj7SkqCmMToQjn89Hx769ND3/J9wtLcRds5LUuz+FLTkFgD1ldTJ6J4QQIUYSPxEQ+lweth2oxoeP66/OxWYdzxaTQgQHp8vDoZON4z5/SWEam67O5c0Pz/NuSRU3XZNHUpxUthWTo/fcWRqefpLe8tPYZ+Qz/x//HmfaR0W09pTVDVnD52h38vjWE4CM6AkhRDCTb9fCcF6vj50Ha+jo7mPD0hziYyKMDkkIw0XZrWxekYvVbObt4iraOvuMDkkEOXdbK3X/81vO/+RHuBoayPjil5nxwL8Sv2D+kPNe3Fk+pHAL9O/J9+LO8ukMVwghxCSTET9hKI/Hy+7DtdQ6ull1VSaZKdFGhyREwIiLjuCGojze2neet4sruenaPOKi5caImLje8xVU/vyn+Nwukm66heTbPo4lauQpxKNt1SB78gkhRHCTET9hGLfHy+NbT1BR18GKeWnMzZUKhkJcLCE2ghuKcnF7vbxdXEV3r8vokEQQMtsjSVi7lpk//jfSPvWZUZM+GH3vPdmTTwghgpskfsIQfS4Pv36ljNJTTayYl8aCmclGhyREwEqKi2TzilycfR7eLq6iZwKFYoQAiMjIIP2z9xKRcek1eneuLyDionXWsiefEEIEP0n8xLRr63TyL4++zwHdyJ3rZ0vSJ8Q4pCZEcf3VOXT2uHhnfxVOl8fokESIWrUwky/cMu/CCF9KvJ0v3DJPCrsIIUSQkzV+Ylqdr+/gly8cpqvXzTfvuIp5M5NH3KtPCDFcRnI0G5fnsO1ANe/ur+KGojypgCumxGj79AkhhAhe8o1BTAuv18fWDyv4yR/24/PBz755HVerdKPDEiLoZKfGsG5pFo72XrYdqMLt8V66kxBCCCHCniR+YsrVt3TzH0+X8tz2chYXpPKvXypiTm6i0WEJEbRmZMRx3aIs6lt62FFag8cryZ8QQgghxiZTPcWU6XG6ee2Dc/yluBKb1cyXb53PmkWZmEwmo0MTIujNyo7H7fWy52g9uw/VUjRfpuUJIYQQYnSS+IlJ1+fysPNQDa/vqaC9q481izK5e30BCbFSClyIyTQ3NxG320fxiQaeeEvzg6+sNDokIYQQQgQoSfzEpOlxutl9uJatH1bQ1tmHykvkb+9azOzseKNDEyJkzZ+ZhNvjZf+JBh594RCfXj9bRtWFEEIIMYwkfuKKNbX28M6BKnYfrqHH6WFObgJfuHkec/P61/F1jbDnmK+5m26nG69vuqMVIvQsKkghLSmKt/ZW4HV7+eymOZL8CSGEEGIISfzEZfH5fJyqauPt/ZWUnGzEbDKxYl46a5dk09DSTWunc8xtGuJiI+no7GVJYdo0Ri1E6Lpt9Uzsdhuv7j5DZISFO9bNNjokESD2lNXx4s5yHO1OUuLt3Lm+QLZqEEKIMCSJn5gQZ5+HD4/Xs+1AFecbOomJtHLLtflcvzyH5PhIupxuGlq6jQ5TiLBjMpm4/xNX0dbew6sfnMNqNXP76plGhyUMtqesjse3nqDP3V/51dHu5PGtJwAk+RNCiDAjiZ8Yl7rmbraXVPPekVp6nG5y02L4/E2KVQszsUdYjA5PCEF/8vf5m+bhcnv5864z9Pa5uXt9gUz7DGMv7iy/kPQN6HN7eXFnuSR+QggRZiTxE6PyeL2UnnKw7UAlJ863YjGbWDI3lXVLspmdHY/JZMLt8+EetIZP1uwJYSyz2cRXbluAPcLK1r3n6XF6+F83FmKW5C8sOdqdE2oXQggRuiTxE8O0dfWx+1ANOw5W09zuJDrSytK5qczNTSDKbqW5vZfm9t4R+8qaPSGMZzaZuO/GQqLtVt7YW0Fbp5P7b19AZIR85IeblHj7iEleSrxsryOEEOFGvgUIALw+H7qihd2Hayk+0YDH62N+fhJ3ri+g1+nGbJbRAiGCiclk4u4NBSTERvDMu6f46RMl/O1di0lJiDQ6NDGN7lxfMGSNH0CE1cyd6wsMjEoIIYQRJPELI24vOF1Dt1Zoau3hw2P17DteT3O7kyi7hesWZ3Hdkmwyk6Px+uDAidGrcwohAtsNK/LITI7mVy8f5f/8YT/337aAhbOSjQ5LTJOBdXxS1VMIIYQkfmHE6XJTfLyeHqebyoZOzta0U9/SA0BWSjRrF2eRlxGL1WKmsr6DyvoOmbopRAhYNDuFf7lvBf/90lH+69mD3FiUx13rC7BZzUaHJqbBqoWZkugJIYSQxC9c1Dd3s/d4PR8cqaWxtX99Xly0jWVzU5mdHU9MlM3gCIUQUyknNYYffmEFz24/zV+KKyk728znNs9l/kwZ/RNCCCHCgSR+Icjn8+Fo6+VUVRunqlrRla3UOvr31kuOt7N0Tgp5GXEkxkZImXchwkiEzcJ9NyoWz07hybdP8uAzB7m6MI27NhSQmRxtdHhiEKXU54AHABvwC631IwaHJIQQIshJ4hfkPF4vTa291Di6qHV0c76+g1NVbbR09Fdxi7JbKMhJYMOyHOblJ1Fe3WZwxEIIoy2Zk8qCmUm8ua+S1/eco+RkI0vnpnLTNTOYm5sgN4QMppTKAf4NuBpwAh8opbZrrY8ZG5kQQohgNq7E71J3HpVSS4EtQDywC/i61tqtlJoBPAGkAxq4V2vdqZRKBJ4EZgONwKe11nWTdE0hwefz4XJ76Xa66epx0drZR2un0/+nj9YOJ3Ut3dQ3d+P2fLR5XnK8nbm5CczNTWRubgK5abEXKnJ2Od2S+AkhALBZLdy+eibrlmTz7oEqtpdUUXqqifSkKIrmpbNCpZOXHisVfY2xGdimtW4GUEo9D9wN/NjQqIQQQgS1SyZ+47zz+ATwVa31XqXUb4H7gf8GHgUe1Vo/o5T6AfAD4HvAT4DdWuuPKaXuA/4f8JnJvDAjeb0+unpcNLf30tvnweny0Ot009vnodvppsfpptvpprv3o597nG66et1097rocXrocbrxjLIbepTdQnxMBOlJ0cybkURmSjQZydFkJEUTHTn0P2mPy/NRXLK5uhDiIgkxEdy5bjYfW5nPh8frKT5ez9a953l9TwVRditzchKYlRVHdmoMWSkxJMXZiYm0yqjg1MoGagc9rgWuGW/nlJTYCb9gWlrchPsEK7nW0CTXGrrC6Xqn+lrHM+I35p1HpVQ+EKW13us///fAj5RSW4B1wCcHte+kP/H7mP8YwNPAI0opm9badYlYLMAV34E+Uu6grqUbn8+Hzwc+8P9P/352+PC3+/ABHo8Xt8eL2+PD7fHh8fb/7PF4cXl9uPzJndPlwen24HJ5x3j1j9hsZqIirERGWIiJspEUZ6fH6cFmM2OzmLFZzdisFmxWU/95dguREVaslv5KfPNnJXP8bDMA3b1uzta2j/l682clEx05sSIuVot5Qn3Ge36U3YrHbZvw809lTNP5GmOdP/DeBFJMgfQao70/RsZk9PkDfeDyPx+jIq1sWJbDhmU5dPa4OFnZytnads7WtvPh/9/evUdLVZ53HP+ec7gqalBAibfGKD8xCLi8xEuIF6C51CySescQMUWh1tqsatJEseK1NrkAAA3tSURBVDExl5p6QRKtGkVMDK2LpCZaxWtclsSoMQlFJTwxqWYJWonUFSsRBDz9430Hh8PMOcPhzBnOnt9nLRaz9+zZ+3nfNWfe93n3u/de9grl40ZtrS3sMLg/Ow7qz06D+zFoYH/6t7XQr62Ffm2ttLW1ssPAfhw9ZiSDB7Z1K54OZen+TvqmVtisyluAWhqWNoDXXlvD21sx0rfbbkNYvfqNrQqwr3JZi8llLa5mKu/WlLW1tYWhQ3eErWwfa0n8uhp5rPT+XsAw4PWI2NBh/WafyVNCXweGAy91EctIoFTQbjuuG6Oh26v99hpa1+174xjbY0y9cQzHtP0coygxQffO9myxD2Dfbh6/TkYCv2t0EL1oBTChbHkPum4fYRvayJ743vQVLmsxuazF1Uzl7UZZt6p9rCXx62rksdr7HddT9rmOQ9K1jmb+nNQYvgxs7GJbMzPr29pIjdrPGx1IL3sIuEzScGANcBJwbg2fcxtpZtYcutU+1pL4dTXyuCIfuOP7q4BdJLVFxMa8TelzK/N2KyT1A3YCVtcQyzrgJzVsZ2ZmxdBMZ/oAiIiVki4BHgEGADdHxJM1fNRtpJlZ89jq9rG1hm0eAiZKGi5pB9LI432lNyPi98BaScfkVdOARfl6vcW8c9OWTwGL8ut78zL5/cU1XN9nZmbWFCJiQUSMiYhREfGNRsdjZmZ9X5eJX0SsBEojj0uABRHxpKR7JR2WNzsTuEbScmAIMDevPw84V9Iy0lnD2Xn9pcCRkp7N2/xNTxXIzMzMzMzMNtfS3u57/JuZmZmZmRVZLVM9zczMzMzMrA9z4mdmZmZmZlZwTvzMzMzMzMwKzomfmZmZmZlZwdXyHD/bSpKmku5g2h+YExHXNTikhpC0M/AYcGJEvCBpEnA1MBi4IyJm5+3GAzcDOwP/CcyKiA0NCrvuJH0RODUv3hMRn3PdvEPSl4GTgXbgloi42vWzOUlXAsMiYnq1OpC0D3A7MAII4MyIeKNhQdt2S9IEYA7pmYHPA2dFxGuNjao+8qOnriGVdTXw6fxYqsKSdDmwMSIua3Qs9dBsfa6OfasGh1M3lfpKjYynnir1e+p1LJ/x62GS9gS+CnwAGE96nMVBjY2q90l6P+lBwqPy8mBgHjAFGA0cLukjefPbgfMjYhTQApzT+xH3jpzA/DlwCOn7caikM3DdACDpWOAEYCxwGPC3ksbh+tlE0kTgrLJV1ergeuD6iDgQeIr0GB2zSm4FpkXEwcAy4LMNjqeevgfMiIjx+fXcLrbvsyTtIukW4MJGx1Ivzdbn6ti3KqoqfaVPNDaq+qjS71G9jufEr+dNAn4cEf8bEWuA75Oy+GZzDun5jC/l5SOA5yLi+XxG5nbgFEn7AoMj4vG83XzglN4Othe9DFwYEW9FxHrg16QfcNcNEBGPAsfnehhBmpXwLlw/AEjaldTJ+VperlgHkvoDHyT9/mxa36vBWl8yOiKW5e/NnkBRz/YNBGZHxNK8aimwTwNDqrcpwHPAVY0OpI6arc/VsW9VVJX6SoX8W63S71lTr+N5qmfPezfpC1vyMinpaSoRMQOgbNCiUr3s1cn6QoqIZ0uvJR1AmsbwTVw3m0TEeklfAi4CFuLvTrkbgUuAvfNytToYBrxeNu21GerGuin/zR0MPASsBy5ucEh1ERHrSANHSGoFLgN+2MiY6ikivgMg6bIGh1JPTdXnqtC3KqQqfaVjGhdRfVXo96ys17Gc+PW8VtIc3ZIW4O0GxbI9qVYvTVlfkt4H3EOaUrWBzadtNHXdAETEFyVdAdxNqpum/+5ImgG8GBEPS5qeV9f6dwUFrhurjaRTSNe3lVseEZMi4mlgd0kzgTuAo3s9wB7UWVklDQBuI/WBvtbrwfWwzsraiHh6WVO1A82mvK8UEc81Op566tDvOQe4qR7HceLX81YAE8qW96D4p+RrsQIYWbZcqpdq6wsr31zgB8BnIuLf8vxu1w0g6UBgUEQsiYg/Sfp30rSdjWWbNWv9nAaMlLQE2BUYQurwVKqDVcAuktoiYmPepsh1YzWIiIWk0eRNJA2S9PGIKJ35up0CTA2sVFYASUOAu0g3dpmSp5H1adXK2iTc5yqojn2lRsdTL1X6PWPrdTxf49fzHgImShouaQfgJOC+Bse0PXgCkKT9JbUBU4FF+W5qa/MfOMA0YFGjgqw3SXuTphZNLfshc928Yz/g25IG5lH5KaTpjU1fPxExOSLG5JtS/CNwV0ScTYU6yJ3ZxaRkEeBTFLhubJusB66TdGhePpV084iiuh34LXBanvppfZv7XAVUpa9UVJX6PXX7DXbi18MiYiXpGpxHgCXAgoh4srFRNV5ErAWmk0ZvlgHLeefGE2cC10haTjqLUdi7rJHmbw8Crpa0JJ+9mY7rBoCIuJc0reNXwC+Ax/KP/nRcP9VUq4PzSHe4W0YaEZ/doPhsO5bPCJ8G3JR/j04GZjQ2qvqQdAipU3UM8Mv8G3xvg8OybeA+V2Ft0VeSNKvRQdVDJ/2eumhpb+94GYiZmZmZmZkVic/4mZmZmZmZFZwTPzMzMzMzs4Jz4mdmZmZmZlZwTvzMzMzMzMwKzomfmZmZmZlZwTnxMzMzMzMzK7h+jQ7AzLaNpOOAb0XEGEnzgWci4spOtt8FuDMiTuilEM3MrIEkzQU+mBcPAp4H3szLRwF/AoZHxKsNiO0B0oO6X83PVbwoIpZ1Yz/zqdL+Sfoz4HLg/aRyrwNujIhbtiX2LuLZolzACHJ7Xa/jmnXGiZ9Z8xkKHNHoIMzMrHdExAWl15JeAM6MiKfK1jUgqk0ml15ExEd7eueS9gZ+BnwhIqbldXsC35M0KiL+oaePmW1RLkkj6nQss5o48TPrYZLOBS4ANgKvAJ8FFgOjIuJ/8jZPAJcBDwNXAMcCbcCvgAsi4vXcOD8BjAUuBtbn/weQRg1vi4hLuxHircBgSUuAQyNiY7cKamZmRfIlSUcCuwH/HBHXAUj6K+A80uVBq4HzI2J5nj1yHTAeaAcWARdHxAZJ64AfAeOAM4E1wLV5323A3IiYJ+nWfOxHJH2U1FaeHBFPSfo0cCGpLX0VOAtYCVwDHAnsBLQAMyLip52U6/PAwoiYX1oRESslnQY8L+laYBRlZ+I6zKTZHbgR2B3YA/g9cGpErMrt9HxgIrAP8J2IuLRaucqDkjSA6u3/XwOzgLeAtcDM7pwFNevI1/iZ9SBJJwCfA46PiHHAAuBfgTuBT+ZtRpMaj/tJDdIGUgI2DngJ+KeyXT4TEaOBH5IawLMi4jBSo/cFScO6EebZwJsRMd5Jn5mZZf8dEYcCnwCuktRf0rGkhGtCRBwCfIPUngHMJSWCBwOHkZK8i/J7A4C7I0LAEuD7wOfz/o8FLpJ0ZEScnbc/PiJeLAUiaRwpKfpwRIwF7gIuIU3VfDdwVEQcBNxGakc78wHg0Y4rI+IVYFneZ2dOB34WEUcB+5GmxU4re39IREwAjs7lek+1cnVQsf2X1AbMIZX9cOCmXAazbeYzfmY968PAHRHxB4CImJ9HE2cC1wNXkhKveRHxtqQTgXcBk/NUmwHAqrL9Lc77aZf0MeBESVOB0aSRzh17p1hmZlZwC/L/S4CBwM7AXwD7A4+VTQcdKmlX4CPAMRHRDqyTdAPwGd4ZvFyc/x8FvBeYV7aPwcAhwONVYpkI3F9KmiJiTukNSbOBmZLeCxwH/F83y1vS6UmQiLhW0gRJfw8cAIwhzcYp+VHebqWkVcCupGsou1Kx/Y+IjZIWkur8HtIg8YLquzGrnRM/s57VRpqaUa6FNOWzn6QjgKmki+lL2/9dRCwCkDQEGFT22Tfy+h1J00DuJDWm84CP532bmZltq/WwaaARUvvSBny3dB2cpFbSGbfXSAlTe9nnW4H+Zctv5P/bgD9GxPjSG3n65B87iWVD+b4lDQb2JSWQ1wJXkRKu5eTZNJ34KSlB/EHe1wjSmcpdSTe6eZJ0Jq+8PR1QduwrSNfFzwMeyWUs3/bNstft1N4uV23/I+KTksYAk0hnBqcBp9a4X7OqPNXTrGfdB5wuaTiApLNJDcxvgZuBbwJLy6Z+3A+cL2lAblC/DXy9wn4PII2+zo6Iu0mN2EBSw7G1NgBtkpw0mplZZ+4HzpA0Mi/PIl2bXnrvfEktkgYC5wIPVthHAG9KKl3usDfwDHBofn8jmyeMkBKsSWXHnUmaZjqZNIX0X4CnSAOgXbWDXwdOknRWXj4DeJp0CcUNuT3+A7CPpBG5bTy97PMfAuZExHdJM3Im13DMauUqV7H9lzRM0ovA6nymczZweA3HM+uSEz+zHhQRD5IuPP+xpGdJ10acGBFvk65FGE9KAEsuB14gnc1bRhopvLDCrpcC/wEsl/Rr4GN5+/27EebLpBHOZyXt1o3Pm5lZE4iIB0jX2j0oaSlpxspf5umdF5BuNPZ0/hfAVyvs4y1gCjAj7+MB4NKyG7IsBB7NZ7hKn3madGO0+yT9F+kyilnADcBxkp4Gfgn8DnhPTpyqleFF0iybyZJ+Q0pQ15OSuAMlvS/fOOVGUjL5OJtP1fwycGWO/S7gJ9TW9m5Rrg4qtv/5kRpfAR6W9AvS1NlzajieWZda2tvbu97KzMzMzKxAJI0F1kbEbxodi1lvcOJnVkCSFpNudV3JhIjY1ovhzczMzKwPceJnZmZmZmZWcL7Gz8zMzMzMrOCc+JmZmZmZmRWcEz8zMzMzM7OCc+JnZmZmZmZWcE78zMzMzMzMCu7/AULtBhr2tlX5AAAAAElFTkSuQmCC\n",
      "text/plain": [
       "<Figure size 1080x720 with 4 Axes>"
      ]
     },
     "metadata": {
      "needs_background": "light"
     },
     "output_type": "display_data"
    },
    {
     "data": {
      "text/plain": [
       "<Figure size 360x3600 with 0 Axes>"
      ]
     },
     "metadata": {},
     "output_type": "display_data"
    },
    {
     "name": "stdout",
     "output_type": "stream",
     "text": [
      "overall score - Reject null. Not normal\n",
      "p=0.0005 \n",
      "\n",
      "overall_t - Fail to reject null. Normal\n",
      "p=0.2498 \n",
      "\n"
     ]
    }
   ],
   "source": [
    "#Transform the math score to normalize it.\n",
    "import math as m\n",
    "\n",
    "#Test of Normality for the Math score\n",
    "from statsmodels.graphics.gofplots import qqplot\n",
    "from scipy import stats\n",
    "\n",
    "def transform_vars(untransformed, transformed):\n",
    "    # Transformation of math score\n",
    "    x = lambda x: (m.pow(x,1.3))\n",
    "    df_t = df['{}'.format(untransformed)].apply(x)\n",
    "    df['{}'.format(transformed)] = pd.Series(df_t, index=df.index) \n",
    "\n",
    "    \n",
    "# Plot both Untransformed and Transformed plots of test performance\n",
    "def compare_normality(untransformed, transformed):\n",
    "    fig, axs = plt.subplots(ncols=2, nrows = 2, figsize=(15, 10))\n",
    "    plt.figure(figsize=(5,50))\n",
    "    f = sns.distplot(df['{}'.format(untransformed)], ax=axs[0][0]).set_title('Untransformed, ({}) score feature'.format(untransformed))\n",
    "    f = sns.distplot(df['{}'.format(transformed)], ax=axs[1][0]).set_title('Transformed, ({}) score feature'.format(transformed))\n",
    "    f = qqplot(df['{}'.format(untransformed)], line='s', ax=axs[0][1]) \n",
    "    f = qqplot(df['{}'.format(transformed)], line='s', ax=axs[1][1]) \n",
    "    fig.suptitle('Comparing Normality of Untransformed, ({}) and Transformed, ({})  target features'.format(untransformed, transformed), fontsize=16)\n",
    "\n",
    "    plt.show()\n",
    "    \n",
    "#Test the normality of the original and transformed scores\n",
    "def checkNormal(var):\n",
    "    k2, p = stats.normaltest(df['{}'.format(var)])\n",
    "    alpha = 0.05\n",
    "    if p < alpha:\n",
    "        print(var,\"- Reject null. Not normal\")\n",
    "    else:\n",
    "        print(var,\"- Fail to reject null. Normal\")\n",
    "    p = round(p,4)    \n",
    "    print (\"p={}\".format(p), \"\\n\")\n",
    "\n",
    "\n",
    "# Math\n",
    "transform_vars('overall score', 'overall_t')\n",
    "compare_normality('overall score','overall_t')\n",
    "checkNormal('overall score') #Untransformed math score\n",
    "checkNormal('overall_t') #Transformed math score\n",
    "\n"
   ]
  },
  {
   "cell_type": "markdown",
   "metadata": {},
   "source": [
    "### Create X and Y datasets"
   ]
  },
  {
   "cell_type": "code",
   "execution_count": 49,
   "metadata": {
    "scrolled": true
   },
   "outputs": [
    {
     "data": {
      "text/html": [
       "<div>\n",
       "<style scoped>\n",
       "    .dataframe tbody tr th:only-of-type {\n",
       "        vertical-align: middle;\n",
       "    }\n",
       "\n",
       "    .dataframe tbody tr th {\n",
       "        vertical-align: top;\n",
       "    }\n",
       "\n",
       "    .dataframe thead th {\n",
       "        text-align: right;\n",
       "    }\n",
       "</style>\n",
       "<table border=\"1\" class=\"dataframe\">\n",
       "  <thead>\n",
       "    <tr style=\"text-align: right;\">\n",
       "      <th></th>\n",
       "      <th>parental level of education</th>\n",
       "      <th>overall score</th>\n",
       "      <th>gender_male</th>\n",
       "      <th>race/ethnicity_group B</th>\n",
       "      <th>race/ethnicity_group C</th>\n",
       "      <th>race/ethnicity_group D</th>\n",
       "      <th>race/ethnicity_group E</th>\n",
       "      <th>lunch_standard</th>\n",
       "      <th>test preparation course_none</th>\n",
       "    </tr>\n",
       "  </thead>\n",
       "  <tbody>\n",
       "    <tr>\n",
       "      <th>0</th>\n",
       "      <td>bachelor's degree</td>\n",
       "      <td>72.666667</td>\n",
       "      <td>0</td>\n",
       "      <td>1</td>\n",
       "      <td>0</td>\n",
       "      <td>0</td>\n",
       "      <td>0</td>\n",
       "      <td>1</td>\n",
       "      <td>1</td>\n",
       "    </tr>\n",
       "    <tr>\n",
       "      <th>1</th>\n",
       "      <td>some college</td>\n",
       "      <td>82.333333</td>\n",
       "      <td>0</td>\n",
       "      <td>0</td>\n",
       "      <td>1</td>\n",
       "      <td>0</td>\n",
       "      <td>0</td>\n",
       "      <td>1</td>\n",
       "      <td>0</td>\n",
       "    </tr>\n",
       "    <tr>\n",
       "      <th>2</th>\n",
       "      <td>master's degree</td>\n",
       "      <td>92.666667</td>\n",
       "      <td>0</td>\n",
       "      <td>1</td>\n",
       "      <td>0</td>\n",
       "      <td>0</td>\n",
       "      <td>0</td>\n",
       "      <td>1</td>\n",
       "      <td>1</td>\n",
       "    </tr>\n",
       "    <tr>\n",
       "      <th>3</th>\n",
       "      <td>associate's degree</td>\n",
       "      <td>49.333333</td>\n",
       "      <td>1</td>\n",
       "      <td>0</td>\n",
       "      <td>0</td>\n",
       "      <td>0</td>\n",
       "      <td>0</td>\n",
       "      <td>0</td>\n",
       "      <td>1</td>\n",
       "    </tr>\n",
       "    <tr>\n",
       "      <th>4</th>\n",
       "      <td>some college</td>\n",
       "      <td>76.333333</td>\n",
       "      <td>1</td>\n",
       "      <td>0</td>\n",
       "      <td>1</td>\n",
       "      <td>0</td>\n",
       "      <td>0</td>\n",
       "      <td>1</td>\n",
       "      <td>1</td>\n",
       "    </tr>\n",
       "  </tbody>\n",
       "</table>\n",
       "</div>"
      ],
      "text/plain": [
       "  parental level of education  overall score  gender_male  \\\n",
       "0           bachelor's degree      72.666667            0   \n",
       "1                some college      82.333333            0   \n",
       "2             master's degree      92.666667            0   \n",
       "3          associate's degree      49.333333            1   \n",
       "4                some college      76.333333            1   \n",
       "\n",
       "   race/ethnicity_group B  race/ethnicity_group C  race/ethnicity_group D  \\\n",
       "0                       1                       0                       0   \n",
       "1                       0                       1                       0   \n",
       "2                       1                       0                       0   \n",
       "3                       0                       0                       0   \n",
       "4                       0                       1                       0   \n",
       "\n",
       "   race/ethnicity_group E  lunch_standard  test preparation course_none  \n",
       "0                       0               1                             1  \n",
       "1                       0               1                             0  \n",
       "2                       0               1                             1  \n",
       "3                       0               0                             1  \n",
       "4                       0               1                             1  "
      ]
     },
     "execution_count": 49,
     "metadata": {},
     "output_type": "execute_result"
    }
   ],
   "source": [
    "#Since the predictors are categorical, consider using ANOVA?\n",
    "#For 1b, use categorical variable without dummying.\n",
    "\n",
    "# from statsmodels.formula.api import ols\n",
    "\n",
    "# fit = ols(\"Q('overall score') ~ C(gender) + C(lunch) + C(Q('race/ethnicity')) + C(Q('parental level of education')) + C(Q('test preparation course'))\", data=df).fit()\n",
    "# fit.summary()\n",
    "\n",
    "\n",
    "#before spliting data, create dummies for categorical variables (drop first column of each dummy group to avoid multicollinearity)\n",
    "df_d = pd.get_dummies(df, columns=['gender', 'race/ethnicity', 'lunch', 'test preparation course'], drop_first=True)\n",
    "df2 = df_d.drop(['math score', 'writing score', 'reading score', 'overall_t'], axis=1)\n",
    "df2.head()\n",
    "# df_keep "
   ]
  },
  {
   "cell_type": "code",
   "execution_count": 50,
   "metadata": {},
   "outputs": [
    {
     "data": {
      "text/plain": [
       "some college          226\n",
       "associate's degree    222\n",
       "high school           196\n",
       "some high school      179\n",
       "bachelor's degree     118\n",
       "master's degree        59\n",
       "Name: parental level of education, dtype: int64"
      ]
     },
     "execution_count": 50,
     "metadata": {},
     "output_type": "execute_result"
    }
   ],
   "source": [
    "df2['parental level of education'].value_counts()"
   ]
  },
  {
   "cell_type": "code",
   "execution_count": 51,
   "metadata": {},
   "outputs": [
    {
     "data": {
      "text/html": [
       "<div>\n",
       "<style scoped>\n",
       "    .dataframe tbody tr th:only-of-type {\n",
       "        vertical-align: middle;\n",
       "    }\n",
       "\n",
       "    .dataframe tbody tr th {\n",
       "        vertical-align: top;\n",
       "    }\n",
       "\n",
       "    .dataframe thead th {\n",
       "        text-align: right;\n",
       "    }\n",
       "</style>\n",
       "<table border=\"1\" class=\"dataframe\">\n",
       "  <thead>\n",
       "    <tr style=\"text-align: right;\">\n",
       "      <th></th>\n",
       "      <th>parental level of education</th>\n",
       "      <th>overall score</th>\n",
       "      <th>gender_male</th>\n",
       "      <th>race/ethnicity_group B</th>\n",
       "      <th>race/ethnicity_group C</th>\n",
       "      <th>race/ethnicity_group D</th>\n",
       "      <th>race/ethnicity_group E</th>\n",
       "      <th>lunch_standard</th>\n",
       "      <th>test preparation course_none</th>\n",
       "    </tr>\n",
       "  </thead>\n",
       "  <tbody>\n",
       "    <tr>\n",
       "      <th>0</th>\n",
       "      <td>5</td>\n",
       "      <td>72.666667</td>\n",
       "      <td>0</td>\n",
       "      <td>1</td>\n",
       "      <td>0</td>\n",
       "      <td>0</td>\n",
       "      <td>0</td>\n",
       "      <td>1</td>\n",
       "      <td>1</td>\n",
       "    </tr>\n",
       "    <tr>\n",
       "      <th>1</th>\n",
       "      <td>3</td>\n",
       "      <td>82.333333</td>\n",
       "      <td>0</td>\n",
       "      <td>0</td>\n",
       "      <td>1</td>\n",
       "      <td>0</td>\n",
       "      <td>0</td>\n",
       "      <td>1</td>\n",
       "      <td>0</td>\n",
       "    </tr>\n",
       "    <tr>\n",
       "      <th>2</th>\n",
       "      <td>6</td>\n",
       "      <td>92.666667</td>\n",
       "      <td>0</td>\n",
       "      <td>1</td>\n",
       "      <td>0</td>\n",
       "      <td>0</td>\n",
       "      <td>0</td>\n",
       "      <td>1</td>\n",
       "      <td>1</td>\n",
       "    </tr>\n",
       "    <tr>\n",
       "      <th>3</th>\n",
       "      <td>4</td>\n",
       "      <td>49.333333</td>\n",
       "      <td>1</td>\n",
       "      <td>0</td>\n",
       "      <td>0</td>\n",
       "      <td>0</td>\n",
       "      <td>0</td>\n",
       "      <td>0</td>\n",
       "      <td>1</td>\n",
       "    </tr>\n",
       "    <tr>\n",
       "      <th>4</th>\n",
       "      <td>3</td>\n",
       "      <td>76.333333</td>\n",
       "      <td>1</td>\n",
       "      <td>0</td>\n",
       "      <td>1</td>\n",
       "      <td>0</td>\n",
       "      <td>0</td>\n",
       "      <td>1</td>\n",
       "      <td>1</td>\n",
       "    </tr>\n",
       "  </tbody>\n",
       "</table>\n",
       "</div>"
      ],
      "text/plain": [
       "   parental level of education  overall score  gender_male  \\\n",
       "0                            5      72.666667            0   \n",
       "1                            3      82.333333            0   \n",
       "2                            6      92.666667            0   \n",
       "3                            4      49.333333            1   \n",
       "4                            3      76.333333            1   \n",
       "\n",
       "   race/ethnicity_group B  race/ethnicity_group C  race/ethnicity_group D  \\\n",
       "0                       1                       0                       0   \n",
       "1                       0                       1                       0   \n",
       "2                       1                       0                       0   \n",
       "3                       0                       0                       0   \n",
       "4                       0                       1                       0   \n",
       "\n",
       "   race/ethnicity_group E  lunch_standard  test preparation course_none  \n",
       "0                       0               1                             1  \n",
       "1                       0               1                             0  \n",
       "2                       0               1                             1  \n",
       "3                       0               0                             1  \n",
       "4                       0               1                             1  "
      ]
     },
     "execution_count": 51,
     "metadata": {},
     "output_type": "execute_result"
    }
   ],
   "source": [
    "#Recategorize the parental education to reflect it's ordinal nature\n",
    "\n",
    "recat_parent_ed = {\"some high school\":1,\n",
    "                                      \"high school\":2,\n",
    "                                      \"some college\":3,\n",
    "                                      \"associate's degree\":4,\n",
    "                                      \"bachelor's degree\":5,\n",
    "                                      \"master's degree\":6}\n",
    "\n",
    "#Then, replace the feature in the DataFrame\n",
    "df2.replace(recat_parent_ed, inplace=True)\n",
    "# df2[\"parental level of education\"]=df[\"parental level of education\"].replace(recat_parent_ed, inplace=True)\n",
    "\n",
    "df2.head()\n"
   ]
  },
  {
   "cell_type": "code",
   "execution_count": 52,
   "metadata": {},
   "outputs": [
    {
     "data": {
      "text/plain": [
       "parental level of education       int64\n",
       "overall score                   float64\n",
       "gender_male                       uint8\n",
       "race/ethnicity_group B            uint8\n",
       "race/ethnicity_group C            uint8\n",
       "race/ethnicity_group D            uint8\n",
       "race/ethnicity_group E            uint8\n",
       "lunch_standard                    uint8\n",
       "test preparation course_none      uint8\n",
       "dtype: object"
      ]
     },
     "execution_count": 52,
     "metadata": {},
     "output_type": "execute_result"
    }
   ],
   "source": [
    "df2.dtypes"
   ]
  },
  {
   "cell_type": "code",
   "execution_count": 53,
   "metadata": {},
   "outputs": [],
   "source": [
    "df2[\"parental level of education\"] = df2[\"parental level of education\"].astype('category')\n",
    "df2[\"parental education\"] = df2[\"parental level of education\"].cat.codes\n",
    "\n"
   ]
  },
  {
   "cell_type": "code",
   "execution_count": 54,
   "metadata": {},
   "outputs": [
    {
     "data": {
      "text/html": [
       "<div>\n",
       "<style scoped>\n",
       "    .dataframe tbody tr th:only-of-type {\n",
       "        vertical-align: middle;\n",
       "    }\n",
       "\n",
       "    .dataframe tbody tr th {\n",
       "        vertical-align: top;\n",
       "    }\n",
       "\n",
       "    .dataframe thead th {\n",
       "        text-align: right;\n",
       "    }\n",
       "</style>\n",
       "<table border=\"1\" class=\"dataframe\">\n",
       "  <thead>\n",
       "    <tr style=\"text-align: right;\">\n",
       "      <th></th>\n",
       "      <th>overall score</th>\n",
       "      <th>gender_male</th>\n",
       "      <th>race/ethnicity_group B</th>\n",
       "      <th>race/ethnicity_group C</th>\n",
       "      <th>race/ethnicity_group D</th>\n",
       "      <th>race/ethnicity_group E</th>\n",
       "      <th>lunch_standard</th>\n",
       "      <th>test preparation course_none</th>\n",
       "      <th>parental education</th>\n",
       "    </tr>\n",
       "  </thead>\n",
       "  <tbody>\n",
       "    <tr>\n",
       "      <th>0</th>\n",
       "      <td>72.666667</td>\n",
       "      <td>0</td>\n",
       "      <td>1</td>\n",
       "      <td>0</td>\n",
       "      <td>0</td>\n",
       "      <td>0</td>\n",
       "      <td>1</td>\n",
       "      <td>1</td>\n",
       "      <td>4</td>\n",
       "    </tr>\n",
       "    <tr>\n",
       "      <th>1</th>\n",
       "      <td>82.333333</td>\n",
       "      <td>0</td>\n",
       "      <td>0</td>\n",
       "      <td>1</td>\n",
       "      <td>0</td>\n",
       "      <td>0</td>\n",
       "      <td>1</td>\n",
       "      <td>0</td>\n",
       "      <td>2</td>\n",
       "    </tr>\n",
       "    <tr>\n",
       "      <th>2</th>\n",
       "      <td>92.666667</td>\n",
       "      <td>0</td>\n",
       "      <td>1</td>\n",
       "      <td>0</td>\n",
       "      <td>0</td>\n",
       "      <td>0</td>\n",
       "      <td>1</td>\n",
       "      <td>1</td>\n",
       "      <td>5</td>\n",
       "    </tr>\n",
       "    <tr>\n",
       "      <th>3</th>\n",
       "      <td>49.333333</td>\n",
       "      <td>1</td>\n",
       "      <td>0</td>\n",
       "      <td>0</td>\n",
       "      <td>0</td>\n",
       "      <td>0</td>\n",
       "      <td>0</td>\n",
       "      <td>1</td>\n",
       "      <td>3</td>\n",
       "    </tr>\n",
       "    <tr>\n",
       "      <th>4</th>\n",
       "      <td>76.333333</td>\n",
       "      <td>1</td>\n",
       "      <td>0</td>\n",
       "      <td>1</td>\n",
       "      <td>0</td>\n",
       "      <td>0</td>\n",
       "      <td>1</td>\n",
       "      <td>1</td>\n",
       "      <td>2</td>\n",
       "    </tr>\n",
       "  </tbody>\n",
       "</table>\n",
       "</div>"
      ],
      "text/plain": [
       "   overall score  gender_male  race/ethnicity_group B  race/ethnicity_group C  \\\n",
       "0      72.666667            0                       1                       0   \n",
       "1      82.333333            0                       0                       1   \n",
       "2      92.666667            0                       1                       0   \n",
       "3      49.333333            1                       0                       0   \n",
       "4      76.333333            1                       0                       1   \n",
       "\n",
       "   race/ethnicity_group D  race/ethnicity_group E  lunch_standard  \\\n",
       "0                       0                       0               1   \n",
       "1                       0                       0               1   \n",
       "2                       0                       0               1   \n",
       "3                       0                       0               0   \n",
       "4                       0                       0               1   \n",
       "\n",
       "   test preparation course_none  parental education  \n",
       "0                             1                   4  \n",
       "1                             0                   2  \n",
       "2                             1                   5  \n",
       "3                             1                   3  \n",
       "4                             1                   2  "
      ]
     },
     "execution_count": 54,
     "metadata": {},
     "output_type": "execute_result"
    }
   ],
   "source": [
    "df2 = df2.drop(['parental level of education'], axis=1)\n",
    "df2.head()"
   ]
  },
  {
   "cell_type": "code",
<<<<<<< HEAD
   "execution_count": 55,
=======
   "execution_count": 277,
   "metadata": {},
   "outputs": [],
   "source": [
    "df_ped = pd.get_dummies(df, columns=['gender', 'race/ethnicity', 'lunch', 'test preparation course', 'parental level of education'], drop_first=True)"
   ]
  },
  {
   "cell_type": "code",
   "execution_count": 278,
>>>>>>> sp-03
   "metadata": {},
   "outputs": [],
   "source": [
    "# Split data into x and y\n",
    "# X = df2.drop(['overall score'], axis=1)\n",
    "# y = df2['overall score']\n",
    "\n",
    "X = df_ped.drop(['overall score', 'math score', 'reading score', 'writing score', 'overall_t'], axis=1)\n",
    "y = df_ped['overall score']\n",
    "\n"
   ]
  },
  {
   "cell_type": "code",
<<<<<<< HEAD
   "execution_count": 56,
=======
   "execution_count": 279,
>>>>>>> sp-03
   "metadata": {},
   "outputs": [
    {
     "data": {
      "text/html": [
       "<div>\n",
       "<style scoped>\n",
       "    .dataframe tbody tr th:only-of-type {\n",
       "        vertical-align: middle;\n",
       "    }\n",
       "\n",
       "    .dataframe tbody tr th {\n",
       "        vertical-align: top;\n",
       "    }\n",
       "\n",
       "    .dataframe thead th {\n",
       "        text-align: right;\n",
       "    }\n",
       "</style>\n",
       "<table border=\"1\" class=\"dataframe\">\n",
       "  <thead>\n",
       "    <tr style=\"text-align: right;\">\n",
       "      <th></th>\n",
       "      <th>gender_male</th>\n",
       "      <th>race/ethnicity_group B</th>\n",
       "      <th>race/ethnicity_group C</th>\n",
       "      <th>race/ethnicity_group D</th>\n",
       "      <th>race/ethnicity_group E</th>\n",
       "      <th>lunch_standard</th>\n",
       "      <th>test preparation course_none</th>\n",
       "      <th>parental level of education_bachelor's degree</th>\n",
       "      <th>parental level of education_high school</th>\n",
       "      <th>parental level of education_master's degree</th>\n",
       "      <th>parental level of education_some college</th>\n",
       "      <th>parental level of education_some high school</th>\n",
       "    </tr>\n",
       "  </thead>\n",
       "  <tbody>\n",
       "    <tr>\n",
       "      <th>0</th>\n",
       "      <td>0</td>\n",
       "      <td>1</td>\n",
       "      <td>0</td>\n",
       "      <td>0</td>\n",
       "      <td>0</td>\n",
       "      <td>1</td>\n",
       "      <td>1</td>\n",
       "      <td>1</td>\n",
       "      <td>0</td>\n",
       "      <td>0</td>\n",
       "      <td>0</td>\n",
       "      <td>0</td>\n",
       "    </tr>\n",
       "    <tr>\n",
       "      <th>1</th>\n",
       "      <td>0</td>\n",
       "      <td>0</td>\n",
       "      <td>1</td>\n",
       "      <td>0</td>\n",
       "      <td>0</td>\n",
       "      <td>1</td>\n",
       "      <td>0</td>\n",
       "      <td>0</td>\n",
       "      <td>0</td>\n",
       "      <td>0</td>\n",
       "      <td>1</td>\n",
       "      <td>0</td>\n",
       "    </tr>\n",
       "    <tr>\n",
       "      <th>2</th>\n",
       "      <td>0</td>\n",
       "      <td>1</td>\n",
       "      <td>0</td>\n",
       "      <td>0</td>\n",
       "      <td>0</td>\n",
       "      <td>1</td>\n",
       "      <td>1</td>\n",
       "      <td>0</td>\n",
       "      <td>0</td>\n",
       "      <td>1</td>\n",
       "      <td>0</td>\n",
       "      <td>0</td>\n",
       "    </tr>\n",
       "    <tr>\n",
       "      <th>3</th>\n",
       "      <td>1</td>\n",
       "      <td>0</td>\n",
       "      <td>0</td>\n",
       "      <td>0</td>\n",
       "      <td>0</td>\n",
       "      <td>0</td>\n",
       "      <td>1</td>\n",
       "      <td>0</td>\n",
       "      <td>0</td>\n",
       "      <td>0</td>\n",
       "      <td>0</td>\n",
       "      <td>0</td>\n",
       "    </tr>\n",
       "    <tr>\n",
       "      <th>4</th>\n",
       "      <td>1</td>\n",
       "      <td>0</td>\n",
       "      <td>1</td>\n",
       "      <td>0</td>\n",
       "      <td>0</td>\n",
       "      <td>1</td>\n",
       "      <td>1</td>\n",
       "      <td>0</td>\n",
       "      <td>0</td>\n",
       "      <td>0</td>\n",
       "      <td>1</td>\n",
       "      <td>0</td>\n",
       "    </tr>\n",
       "  </tbody>\n",
       "</table>\n",
       "</div>"
      ],
      "text/plain": [
       "   gender_male  race/ethnicity_group B  race/ethnicity_group C  \\\n",
       "0            0                       1                       0   \n",
       "1            0                       0                       1   \n",
       "2            0                       1                       0   \n",
       "3            1                       0                       0   \n",
       "4            1                       0                       1   \n",
       "\n",
       "   race/ethnicity_group D  race/ethnicity_group E  lunch_standard  \\\n",
       "0                       0                       0               1   \n",
       "1                       0                       0               1   \n",
       "2                       0                       0               1   \n",
       "3                       0                       0               0   \n",
       "4                       0                       0               1   \n",
       "\n",
       "   test preparation course_none  \\\n",
       "0                             1   \n",
       "1                             0   \n",
       "2                             1   \n",
       "3                             1   \n",
       "4                             1   \n",
       "\n",
       "   parental level of education_bachelor's degree  \\\n",
       "0                                              1   \n",
       "1                                              0   \n",
       "2                                              0   \n",
       "3                                              0   \n",
       "4                                              0   \n",
       "\n",
       "   parental level of education_high school  \\\n",
       "0                                        0   \n",
       "1                                        0   \n",
       "2                                        0   \n",
       "3                                        0   \n",
       "4                                        0   \n",
       "\n",
       "   parental level of education_master's degree  \\\n",
       "0                                            0   \n",
       "1                                            0   \n",
       "2                                            1   \n",
       "3                                            0   \n",
       "4                                            0   \n",
       "\n",
       "   parental level of education_some college  \\\n",
       "0                                         0   \n",
       "1                                         1   \n",
       "2                                         0   \n",
       "3                                         0   \n",
       "4                                         1   \n",
       "\n",
       "   parental level of education_some high school  \n",
       "0                                             0  \n",
       "1                                             0  \n",
       "2                                             0  \n",
       "3                                             0  \n",
       "4                                             0  "
      ]
     },
<<<<<<< HEAD
     "execution_count": 56,
=======
     "execution_count": 279,
>>>>>>> sp-03
     "metadata": {},
     "output_type": "execute_result"
    }
   ],
   "source": [
    "X.head()"
   ]
  },
  {
   "cell_type": "markdown",
   "metadata": {},
   "source": [
    "### Train and Test Models"
   ]
  },
  {
   "cell_type": "code",
<<<<<<< HEAD
   "execution_count": 57,
=======
   "execution_count": 280,
>>>>>>> sp-03
   "metadata": {},
   "outputs": [],
   "source": [
    "from sklearn.model_selection import train_test_split\n",
    "from sklearn.preprocessing import PolynomialFeatures\n",
    "from sklearn.linear_model import LinearRegression\n",
    "X_train, X_test, y_train, y_test = train_test_split(X, y, test_size=0.3, random_state=40)\n",
    "\n",
    "interaction = PolynomialFeatures(degree=3, include_bias=False, interaction_only=True)\n",
    "X_inter_train = interaction.fit_transform(X_train)\n",
    "X_inter_test = interaction.fit_transform(X_test)\n"
   ]
  },
  {
   "cell_type": "markdown",
   "metadata": {},
   "source": [
    "### Random Forest to Improve Regression Model"
   ]
  },
  {
   "cell_type": "code",
<<<<<<< HEAD
   "execution_count": 58,
=======
   "execution_count": 281,
>>>>>>> sp-03
   "metadata": {},
   "outputs": [],
   "source": [
    "from sklearn.ensemble import RandomForestRegressor"
   ]
  },
  {
   "cell_type": "code",
<<<<<<< HEAD
   "execution_count": 59,
=======
   "execution_count": 282,
>>>>>>> sp-03
   "metadata": {},
   "outputs": [
    {
     "name": "stdout",
     "output_type": "stream",
     "text": [
      "Random Forest R squared\": 0.0044\n"
     ]
    }
   ],
   "source": [
    "forest_reg = RandomForestRegressor(n_estimators=10,criterion='mse',random_state=9)\n",
    "forest_reg.fit(X_train,y_train)\n",
    "print('Random Forest R squared\": %.4f' % forest_reg.score(X_test, y_test))"
   ]
  },
  {
   "cell_type": "markdown",
   "metadata": {},
   "source": []
  },
  {
   "cell_type": "code",
<<<<<<< HEAD
   "execution_count": 60,
=======
   "execution_count": 283,
>>>>>>> sp-03
   "metadata": {},
   "outputs": [
    {
     "name": "stderr",
     "output_type": "stream",
     "text": [
      "C:\\Users\\dewum\\AppData\\Local\\Continuum\\anaconda3\\lib\\site-packages\\scipy\\stats\\stats.py:1713: FutureWarning: Using a non-tuple sequence for multidimensional indexing is deprecated; use `arr[tuple(seq)]` instead of `arr[seq]`. In the future this will be interpreted as an array index, `arr[np.array(seq)]`, which will result either in an error or a different result.\n",
      "  return np.add.reduce(sorted[indexer] * weights, axis=axis) / sumval\n"
     ]
    },
    {
     "data": {
      "image/png": "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\n",
      "text/plain": [
       "<Figure size 432x288 with 1 Axes>"
      ]
     },
     "metadata": {},
     "output_type": "display_data"
    }
   ],
   "source": [
    "sns.set()\n",
    "y_dist = sns.distplot(y)"
   ]
  },
  {
   "cell_type": "code",
<<<<<<< HEAD
   "execution_count": 61,
=======
   "execution_count": 284,
>>>>>>> sp-03
   "metadata": {},
   "outputs": [
    {
     "data": {
      "text/plain": [
       "count    1000.000000\n",
       "mean       67.770667\n",
       "std        14.257326\n",
       "min         9.000000\n",
       "25%        58.333333\n",
       "50%        68.333333\n",
       "75%        77.666667\n",
       "max       100.000000\n",
       "Name: overall score, dtype: float64"
      ]
     },
<<<<<<< HEAD
     "execution_count": 61,
=======
     "execution_count": 284,
>>>>>>> sp-03
     "metadata": {},
     "output_type": "execute_result"
    }
   ],
   "source": [
    "y.describe()"
   ]
  },
  {
   "cell_type": "markdown",
   "metadata": {},
   "source": [
    "### Based on the distribution, scores below 68 will be considered 'Fail', those from 68 and above will be considered 'Pass'"
   ]
  },
  {
   "cell_type": "code",
<<<<<<< HEAD
   "execution_count": 62,
=======
   "execution_count": 285,
>>>>>>> sp-03
   "metadata": {},
   "outputs": [
    {
     "data": {
      "text/plain": [
       "Binarizer(copy=True, threshold=68.333332)"
      ]
     },
<<<<<<< HEAD
     "execution_count": 62,
=======
     "execution_count": 285,
>>>>>>> sp-03
     "metadata": {},
     "output_type": "execute_result"
    }
   ],
   "source": [
    "from sklearn.preprocessing import Binarizer\n",
    "\n",
    "Binarizer(threshold=68.333332, copy=True)"
   ]
  },
  {
   "cell_type": "code",
<<<<<<< HEAD
   "execution_count": 63,
=======
   "execution_count": 286,
>>>>>>> sp-03
   "metadata": {},
   "outputs": [
    {
     "data": {
      "text/plain": [
       "0    72.666667\n",
       "1    82.333333\n",
       "2    92.666667\n",
       "3    49.333333\n",
       "4    76.333333\n",
       "Name: overall score, dtype: float64"
      ]
     },
<<<<<<< HEAD
     "execution_count": 63,
=======
     "execution_count": 286,
>>>>>>> sp-03
     "metadata": {},
     "output_type": "execute_result"
    }
   ],
   "source": [
    "# y.reshape(1, -1)\n",
    "# transformer = Binarizer().fit(X,y)\n",
    "y.head()"
   ]
  },
  {
   "cell_type": "code",
<<<<<<< HEAD
   "execution_count": 64,
=======
   "execution_count": 287,
>>>>>>> sp-03
   "metadata": {},
   "outputs": [],
   "source": [
    "bins = [0,68.3333, np.inf]\n",
    "names=[0,1]\n",
    "y_bin=pd.cut(y,bins, labels = names)"
   ]
  },
  {
   "cell_type": "code",
<<<<<<< HEAD
   "execution_count": 65,
=======
   "execution_count": 288,
>>>>>>> sp-03
   "metadata": {},
   "outputs": [
    {
     "data": {
      "image/png": "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\n",
      "text/plain": [
       "<Figure size 432x288 with 1 Axes>"
      ]
     },
     "metadata": {},
     "output_type": "display_data"
    }
   ],
   "source": [
    "#Check distribution of new pass/fail variable from overall\n",
    "# student performance\n",
    "sns.countplot(x=y_bin, palette='hls')\n",
    "plt.show()"
   ]
  },
  {
   "cell_type": "code",
<<<<<<< HEAD
   "execution_count": 66,
=======
   "execution_count": 289,
>>>>>>> sp-03
   "metadata": {},
   "outputs": [
    {
     "data": {
      "text/plain": [
       "1    511\n",
       "0    489\n",
       "Name: overall score, dtype: int64"
      ]
     },
<<<<<<< HEAD
     "execution_count": 66,
=======
     "execution_count": 289,
>>>>>>> sp-03
     "metadata": {},
     "output_type": "execute_result"
    }
   ],
   "source": [
    "# Check that the target feature is balanced\n",
    "y_bin.value_counts()"
   ]
  },
  {
   "cell_type": "code",
<<<<<<< HEAD
   "execution_count": 67,
=======
   "execution_count": 290,
>>>>>>> sp-03
   "metadata": {},
   "outputs": [],
   "source": [
    "X_train, X_test, y_train_bin, y_test_bin = train_test_split(X, y_bin, test_size=0.3, random_state=105)"
   ]
  },
  {
   "cell_type": "markdown",
   "metadata": {},
   "source": [
    "### Fit Logistic Regression Model"
   ]
  },
  {
   "cell_type": "code",
<<<<<<< HEAD
   "execution_count": 68,
=======
   "execution_count": 291,
>>>>>>> sp-03
   "metadata": {},
   "outputs": [
    {
     "name": "stderr",
     "output_type": "stream",
     "text": [
      "C:\\Users\\dewum\\AppData\\Local\\Continuum\\anaconda3\\lib\\site-packages\\sklearn\\linear_model\\logistic.py:433: FutureWarning: Default solver will be changed to 'lbfgs' in 0.22. Specify a solver to silence this warning.\n",
      "  FutureWarning)\n"
     ]
    }
   ],
   "source": [
    "from sklearn.linear_model import LogisticRegression\n",
    "logM = LogisticRegression()\n",
    "logM.fit(X_train, y_train_bin)\n",
    "pred_bin = logM.predict(X_test)\n"
   ]
  },
  {
   "cell_type": "code",
<<<<<<< HEAD
   "execution_count": 69,
=======
   "execution_count": 292,
>>>>>>> sp-03
   "metadata": {},
   "outputs": [
    {
     "name": "stdout",
     "output_type": "stream",
     "text": [
      "              precision    recall  f1-score   support\n",
      "\n",
      "           0       0.63      0.68      0.65       142\n",
      "           1       0.69      0.63      0.66       158\n",
      "\n",
      "   micro avg       0.66      0.66      0.66       300\n",
      "   macro avg       0.66      0.66      0.66       300\n",
      "weighted avg       0.66      0.66      0.66       300\n",
      "\n"
     ]
    }
   ],
   "source": [
    "from sklearn.metrics import classification_report\n",
    "print(classification_report(y_test_bin,pred_bin))"
   ]
  },
  {
   "cell_type": "code",
<<<<<<< HEAD
   "execution_count": 70,
=======
   "execution_count": 293,
>>>>>>> sp-03
   "metadata": {},
   "outputs": [
    {
     "name": "stdout",
     "output_type": "stream",
     "text": [
      "Accuracy: 0.6566666666666666\n",
      "Precision: 0.6896551724137931\n",
      "Recall: 0.6329113924050633\n"
     ]
    }
   ],
   "source": [
    "from sklearn import metrics\n",
    "print(\"Accuracy:\",metrics.accuracy_score(y_test_bin, pred_bin))\n",
    "print(\"Precision:\",metrics.precision_score(y_test_bin, pred_bin))\n",
    "print(\"Recall:\",metrics.recall_score(y_test_bin, pred_bin))\n"
   ]
  },
  {
   "cell_type": "markdown",
   "metadata": {},
   "source": [
    "### Try Random Classifier to improve model"
   ]
  },
  {
   "cell_type": "code",
<<<<<<< HEAD
   "execution_count": 71,
=======
   "execution_count": 294,
>>>>>>> sp-03
   "metadata": {},
   "outputs": [],
   "source": [
    " # Now, try RF Classifier\n",
    "from sklearn.ensemble import RandomForestRegressor\n",
    "from sklearn.ensemble import RandomForestClassifier\n",
    "from sklearn.model_selection import GridSearchCV"
   ]
  },
  {
   "cell_type": "code",
<<<<<<< HEAD
   "execution_count": 72,
=======
   "execution_count": 295,
>>>>>>> sp-03
   "metadata": {},
   "outputs": [],
   "source": [
    "forest_reg = RandomForestRegressor(n_estimators=10,criterion='mse',random_state=101)"
   ]
  },
  {
   "cell_type": "code",
<<<<<<< HEAD
   "execution_count": 73,
=======
   "execution_count": 296,
>>>>>>> sp-03
   "metadata": {},
   "outputs": [
    {
     "data": {
      "text/plain": [
       "298    0\n",
       "714    0\n",
       "948    0\n",
       "118    0\n",
       "80     0\n",
       "Name: overall score, dtype: category\n",
       "Categories (2, int64): [0 < 1]"
      ]
     },
<<<<<<< HEAD
     "execution_count": 73,
=======
     "execution_count": 296,
>>>>>>> sp-03
     "metadata": {},
     "output_type": "execute_result"
    }
   ],
   "source": [
    "y_train_bin.head()"
   ]
  },
  {
   "cell_type": "code",
<<<<<<< HEAD
   "execution_count": 74,
=======
   "execution_count": 297,
>>>>>>> sp-03
   "metadata": {},
   "outputs": [],
   "source": [
    "# y2 = pd.DataFrame(y_train_bin.astype(int))\n",
    "y3 = y_train_bin.ravel()"
   ]
  },
  {
   "cell_type": "code",
<<<<<<< HEAD
   "execution_count": 262,
=======
   "execution_count": 298,
>>>>>>> sp-03
   "metadata": {},
   "outputs": [
    {
     "data": {
      "text/plain": [
       "RandomForestClassifier(bootstrap=True, class_weight=None, criterion='gini',\n",
       "            max_depth=None, max_features=None, max_leaf_nodes=None,\n",
       "            min_impurity_decrease=0.0, min_impurity_split=None,\n",
       "            min_samples_leaf=1, min_samples_split=2,\n",
<<<<<<< HEAD
       "            min_weight_fraction_leaf=0.0, n_estimators=100, n_jobs=10,\n",
=======
       "            min_weight_fraction_leaf=0.0, n_estimators=1000, n_jobs=100,\n",
>>>>>>> sp-03
       "            oob_score=False, random_state=None, verbose=0,\n",
       "            warm_start=False)"
      ]
     },
<<<<<<< HEAD
     "execution_count": 262,
=======
     "execution_count": 298,
>>>>>>> sp-03
     "metadata": {},
     "output_type": "execute_result"
    }
   ],
   "source": [
<<<<<<< HEAD
    "classifier=RandomForestClassifier(n_estimators=100, n_jobs=10)\n",
=======
    "classifier=RandomForestClassifier(n_estimators=1000, n_jobs=100, max_features=None)\n",
>>>>>>> sp-03
    "# y_trainy_train_bin.astype(int)\n",
    "classifier.fit(X_train,y3)\n",
    "\n",
    "#    - If int, then consider `max_features` features at each split.\n",
    "#     - If float, then `max_features` is a fraction and\n",
    "#       `int(max_features * n_features)` features are considered at each\n",
    "#       split.\n",
    "#     - If \"auto\", then `max_features=sqrt(n_features)`.\n",
    "#     - If \"sqrt\", then `max_features=sqrt(n_features)` (same as \"auto\").\n",
    "#     - If \"log2\", then `max_features=log2(n_features)`.\n",
    "#     - If None, then `max_features=n_features`."
   ]
  },
  {
   "cell_type": "code",
<<<<<<< HEAD
   "execution_count": 263,
=======
   "execution_count": 299,
>>>>>>> sp-03
   "metadata": {},
   "outputs": [
    {
     "name": "stdout",
     "output_type": "stream",
     "text": [
<<<<<<< HEAD
      "Random Forest R squared\": 0.5333\n"
=======
      "Random Forest R squared\": 0.5400\n"
>>>>>>> sp-03
     ]
    }
   ],
   "source": [
    "#Apply classifier to test data\n",
    "print('Random Forest R squared\": %.4f' % classifier.score(X_test, y_test_bin))\n",
    "# classifier.predict(X_test)"
   ]
  },
  {
   "cell_type": "markdown",
   "metadata": {},
   "source": [
    "### Now Trying XGBoost"
   ]
  },
  {
   "cell_type": "code",
   "execution_count": 269,
   "metadata": {},
   "outputs": [],
   "source": [
    "import xgboost as xgb\n",
    "from sklearn.metrics import roc_auc_score\n",
    "# from sklearn.grid_search import GridSearchCV\n",
    "clf = xgb.XGBClassifier( learning_rate =0.05, n_estimators=1000, max_depth=10, min_child_weight=1, gamma=0, subsample=0.9, colsample_bytree=0.9,\n",
    "                         objective= 'binary:logistic', nthread=4, scale_pos_weight=1, seed=10)"
   ]
  },
  {
   "cell_type": "code",
   "execution_count": 270,
   "metadata": {},
   "outputs": [
    {
     "name": "stdout",
     "output_type": "stream",
     "text": [
      "[0]\tvalidation_0-logloss:0.689474\n",
      "Will train until validation_0-logloss hasn't improved in 15 rounds.\n",
      "[1]\tvalidation_0-logloss:0.684448\n",
      "[2]\tvalidation_0-logloss:0.681735\n",
      "[3]\tvalidation_0-logloss:0.677997\n",
      "[4]\tvalidation_0-logloss:0.674564\n",
      "[5]\tvalidation_0-logloss:0.671449\n",
      "[6]\tvalidation_0-logloss:0.668319\n",
      "[7]\tvalidation_0-logloss:0.667071\n",
      "[8]\tvalidation_0-logloss:0.665433\n",
      "[9]\tvalidation_0-logloss:0.66469\n",
      "[10]\tvalidation_0-logloss:0.662864\n",
      "[11]\tvalidation_0-logloss:0.662748\n",
      "[12]\tvalidation_0-logloss:0.661312\n",
      "[13]\tvalidation_0-logloss:0.660588\n",
      "[14]\tvalidation_0-logloss:0.660087\n",
      "[15]\tvalidation_0-logloss:0.658711\n",
      "[16]\tvalidation_0-logloss:0.658442\n",
      "[17]\tvalidation_0-logloss:0.658113\n",
      "[18]\tvalidation_0-logloss:0.658906\n",
      "[19]\tvalidation_0-logloss:0.659022\n",
      "[20]\tvalidation_0-logloss:0.658808\n",
      "[21]\tvalidation_0-logloss:0.659245\n",
      "[22]\tvalidation_0-logloss:0.659379\n",
      "[23]\tvalidation_0-logloss:0.659817\n",
      "[24]\tvalidation_0-logloss:0.660041\n",
      "[25]\tvalidation_0-logloss:0.659998\n",
      "[26]\tvalidation_0-logloss:0.660457\n",
      "[27]\tvalidation_0-logloss:0.660805\n",
      "[28]\tvalidation_0-logloss:0.661207\n",
      "[29]\tvalidation_0-logloss:0.662247\n",
      "[30]\tvalidation_0-logloss:0.662459\n",
      "[31]\tvalidation_0-logloss:0.663476\n",
      "[32]\tvalidation_0-logloss:0.664109\n",
      "Stopping. Best iteration:\n",
      "[17]\tvalidation_0-logloss:0.658113\n",
      "\n"
     ]
    },
    {
     "data": {
      "text/plain": [
       "XGBClassifier(base_score=0.5, booster='gbtree', colsample_bylevel=1,\n",
       "       colsample_bytree=0.9, gamma=0, learning_rate=0.05, max_delta_step=0,\n",
       "       max_depth=10, min_child_weight=1, missing=None, n_estimators=1000,\n",
       "       n_jobs=1, nthread=4, objective='binary:logistic', random_state=0,\n",
       "       reg_alpha=0, reg_lambda=1, scale_pos_weight=1, seed=10, silent=True,\n",
       "       subsample=0.9)"
      ]
     },
     "execution_count": 270,
     "metadata": {},
     "output_type": "execute_result"
    }
   ],
   "source": [
    "clf.fit(X_train, y_train_bin, early_stopping_rounds=15,  eval_metric=\"logloss\", eval_set=[(X_test, y_test_bin)])"
   ]
  },
  {
   "cell_type": "code",
   "execution_count": 271,
   "metadata": {},
   "outputs": [
    {
     "name": "stdout",
     "output_type": "stream",
     "text": [
      "AUC ROC Score: 80.1745\n"
     ]
    }
   ],
   "source": [
    "def best_ntree_score(estimator, X, y):\n",
    "    \"\"\"\n",
    "    This scorer uses the best_ntree_limit to return\n",
    "    the best AUC ROC score\n",
    "    \"\"\"\n",
    "    try:\n",
    "        y_predict = clf.predict_proba(X,ntree_limit=clf.best_ntree_limit)\n",
    "    except AttributeError:\n",
    "        y_predict = clf.predict_proba(X_test)\n",
    "    return roc_auc_score(y, y_predict[:, 1])\n",
    "\n",
    "\n",
    "print ('AUC ROC Score:',round((best_ntree_score(clf, X_train, y3)*100),4))"
   ]
  },
  {
   "cell_type": "code",
   "execution_count": null,
   "metadata": {},
   "outputs": [],
   "source": []
  },
  {
   "cell_type": "code",
   "execution_count": null,
   "metadata": {},
   "outputs": [],
   "source": []
  },
  {
   "cell_type": "code",
   "execution_count": null,
   "metadata": {},
   "outputs": [],
   "source": []
  },
  {
   "cell_type": "markdown",
   "metadata": {},
   "source": [
    "### XGBoost with parental education variable as dummies"
   ]
  },
  {
   "cell_type": "code",
   "execution_count": 300,
   "metadata": {},
   "outputs": [],
   "source": [
    "# df_d = pd.get_dummies(df, columns=['gender', 'race/ethnicity', 'lunch', 'test preparation course'], drop_first=True)\n",
    "# df_ped = pd.get_dummies(df, columns=['gender', 'race/ethnicity', 'lunch', 'test preparation course', 'parental level of education'], drop_first=True)"
   ]
  },
  {
   "cell_type": "code",
   "execution_count": 301,
   "metadata": {},
   "outputs": [],
   "source": [
    "import xgboost as xgb\n",
    "from sklearn.metrics import roc_auc_score\n",
    "# from sklearn.grid_search import GridSearchCV\n",
    "clf = xgb.XGBClassifier( learning_rate =0.05, n_estimators=1000, max_depth=10, min_child_weight=1, gamma=0, subsample=0.9, colsample_bytree=0.9,\n",
    "                         objective= 'binary:logistic', nthread=4, scale_pos_weight=1, seed=10)"
   ]
  },
  {
   "cell_type": "code",
   "execution_count": 302,
   "metadata": {},
   "outputs": [
    {
     "name": "stdout",
     "output_type": "stream",
     "text": [
      "[0]\tvalidation_0-logloss:0.68864\n",
      "Will train until validation_0-logloss hasn't improved in 15 rounds.\n",
      "[1]\tvalidation_0-logloss:0.685669\n",
      "[2]\tvalidation_0-logloss:0.682449\n",
      "[3]\tvalidation_0-logloss:0.678403\n",
      "[4]\tvalidation_0-logloss:0.675575\n",
      "[5]\tvalidation_0-logloss:0.672808\n",
      "[6]\tvalidation_0-logloss:0.670423\n",
      "[7]\tvalidation_0-logloss:0.66779\n",
      "[8]\tvalidation_0-logloss:0.667085\n",
      "[9]\tvalidation_0-logloss:0.664478\n",
      "[10]\tvalidation_0-logloss:0.662294\n",
      "[11]\tvalidation_0-logloss:0.660764\n",
      "[12]\tvalidation_0-logloss:0.659799\n",
      "[13]\tvalidation_0-logloss:0.658585\n",
      "[14]\tvalidation_0-logloss:0.657403\n",
      "[15]\tvalidation_0-logloss:0.656199\n",
      "[16]\tvalidation_0-logloss:0.656266\n",
      "[17]\tvalidation_0-logloss:0.655515\n",
      "[18]\tvalidation_0-logloss:0.655602\n",
      "[19]\tvalidation_0-logloss:0.655046\n",
      "[20]\tvalidation_0-logloss:0.654791\n",
      "[21]\tvalidation_0-logloss:0.655101\n",
      "[22]\tvalidation_0-logloss:0.65618\n",
      "[23]\tvalidation_0-logloss:0.65599\n",
      "[24]\tvalidation_0-logloss:0.656524\n",
      "[25]\tvalidation_0-logloss:0.656783\n",
      "[26]\tvalidation_0-logloss:0.656771\n",
      "[27]\tvalidation_0-logloss:0.657053\n",
      "[28]\tvalidation_0-logloss:0.657805\n",
      "[29]\tvalidation_0-logloss:0.658187\n",
      "[30]\tvalidation_0-logloss:0.658375\n",
      "[31]\tvalidation_0-logloss:0.658934\n",
      "[32]\tvalidation_0-logloss:0.659631\n",
      "[33]\tvalidation_0-logloss:0.659922\n",
      "[34]\tvalidation_0-logloss:0.660564\n",
      "[35]\tvalidation_0-logloss:0.66174\n",
      "Stopping. Best iteration:\n",
      "[20]\tvalidation_0-logloss:0.654791\n",
      "\n"
     ]
    },
    {
     "data": {
      "text/plain": [
       "XGBClassifier(base_score=0.5, booster='gbtree', colsample_bylevel=1,\n",
       "       colsample_bytree=0.9, gamma=0, learning_rate=0.05, max_delta_step=0,\n",
       "       max_depth=10, min_child_weight=1, missing=None, n_estimators=1000,\n",
       "       n_jobs=1, nthread=4, objective='binary:logistic', random_state=0,\n",
       "       reg_alpha=0, reg_lambda=1, scale_pos_weight=1, seed=10, silent=True,\n",
       "       subsample=0.9)"
      ]
     },
     "execution_count": 302,
     "metadata": {},
     "output_type": "execute_result"
    }
   ],
   "source": [
    "\n",
    "clf.fit(X_train, y_train_bin, early_stopping_rounds=15,  eval_metric=\"logloss\", eval_set=[(X_test, y_test_bin)])"
   ]
  },
  {
   "cell_type": "code",
   "execution_count": 303,
   "metadata": {},
   "outputs": [
    {
     "name": "stdout",
     "output_type": "stream",
     "text": [
      "AUC ROC Score: 80.3945\n"
     ]
    }
   ],
   "source": [
    "def best_ntree_score(estimator, X, y):\n",
    "    \"\"\"\n",
    "    This scorer uses the best_ntree_limit to return\n",
    "    the best AUC ROC score\n",
    "    \"\"\"\n",
    "    try:\n",
    "        y_predict = clf.predict_proba(X,ntree_limit=clf.best_ntree_limit)\n",
    "    except AttributeError:\n",
    "        y_predict = clf.predict_proba(X_test)\n",
    "    return roc_auc_score(y, y_predict[:, 1])\n",
    "\n",
    "\n",
    "print ('AUC ROC Score:',round((best_ntree_score(clf, X_train, y3)*100),4))"
   ]
  },
  {
   "cell_type": "code",
   "execution_count": 304,
   "metadata": {},
   "outputs": [
    {
     "name": "stdout",
     "output_type": "stream",
     "text": [
      "[0.04178491 0.0404707  0.02544872 0.04414977 0.05392866 0.36637077\n",
      " 0.20881571 0.02495174 0.07767246 0.05062817 0.02927039 0.03650805]\n"
     ]
    }
   ],
   "source": [
    "print(clf.feature_importances_)"
   ]
  },
  {
   "cell_type": "code",
   "execution_count": 305,
   "metadata": {},
   "outputs": [
    {
     "data": {
      "image/png": "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\n",
      "text/plain": [
       "<Figure size 432x288 with 1 Axes>"
      ]
     },
     "metadata": {},
     "output_type": "display_data"
    }
   ],
   "source": [
    "\n",
    "xgb.plot_importance(clf)\n",
    "plt.show()"
   ]
  },
  {
   "cell_type": "code",
   "execution_count": null,
   "metadata": {},
   "outputs": [],
   "source": []
  },
  {
   "cell_type": "code",
   "execution_count": 310,
   "metadata": {},
   "outputs": [
    {
     "name": "stdout",
     "output_type": "stream",
     "text": [
      "Selected features: ['lunch_standard', \"parental level of education_master's degree\", 'parental level of education_high school', 'race/ethnicity_group D', 'race/ethnicity_group C', 'race/ethnicity_group B', 'race/ethnicity_group B', 'parental level of education_some college', 'race/ethnicity_group B', 'race/ethnicity_group E', \"parental level of education_bachelor's degree\", 'test preparation course_none']\n"
     ]
    },
    {
     "name": "stderr",
     "output_type": "stream",
     "text": [
      "C:\\Users\\dewum\\AppData\\Local\\Continuum\\anaconda3\\lib\\site-packages\\sklearn\\linear_model\\logistic.py:433: FutureWarning: Default solver will be changed to 'lbfgs' in 0.22. Specify a solver to silence this warning.\n",
      "  FutureWarning)\n",
      "C:\\Users\\dewum\\AppData\\Local\\Continuum\\anaconda3\\lib\\site-packages\\sklearn\\linear_model\\logistic.py:433: FutureWarning: Default solver will be changed to 'lbfgs' in 0.22. Specify a solver to silence this warning.\n",
      "  FutureWarning)\n",
      "C:\\Users\\dewum\\AppData\\Local\\Continuum\\anaconda3\\lib\\site-packages\\sklearn\\linear_model\\logistic.py:433: FutureWarning: Default solver will be changed to 'lbfgs' in 0.22. Specify a solver to silence this warning.\n",
      "  FutureWarning)\n",
      "C:\\Users\\dewum\\AppData\\Local\\Continuum\\anaconda3\\lib\\site-packages\\sklearn\\linear_model\\logistic.py:433: FutureWarning: Default solver will be changed to 'lbfgs' in 0.22. Specify a solver to silence this warning.\n",
      "  FutureWarning)\n",
      "C:\\Users\\dewum\\AppData\\Local\\Continuum\\anaconda3\\lib\\site-packages\\sklearn\\linear_model\\logistic.py:433: FutureWarning: Default solver will be changed to 'lbfgs' in 0.22. Specify a solver to silence this warning.\n",
      "  FutureWarning)\n",
      "C:\\Users\\dewum\\AppData\\Local\\Continuum\\anaconda3\\lib\\site-packages\\sklearn\\linear_model\\logistic.py:433: FutureWarning: Default solver will be changed to 'lbfgs' in 0.22. Specify a solver to silence this warning.\n",
      "  FutureWarning)\n",
      "C:\\Users\\dewum\\AppData\\Local\\Continuum\\anaconda3\\lib\\site-packages\\sklearn\\linear_model\\logistic.py:433: FutureWarning: Default solver will be changed to 'lbfgs' in 0.22. Specify a solver to silence this warning.\n",
      "  FutureWarning)\n",
      "C:\\Users\\dewum\\AppData\\Local\\Continuum\\anaconda3\\lib\\site-packages\\sklearn\\linear_model\\logistic.py:433: FutureWarning: Default solver will be changed to 'lbfgs' in 0.22. Specify a solver to silence this warning.\n",
      "  FutureWarning)\n",
      "C:\\Users\\dewum\\AppData\\Local\\Continuum\\anaconda3\\lib\\site-packages\\sklearn\\linear_model\\logistic.py:433: FutureWarning: Default solver will be changed to 'lbfgs' in 0.22. Specify a solver to silence this warning.\n",
      "  FutureWarning)\n",
      "C:\\Users\\dewum\\AppData\\Local\\Continuum\\anaconda3\\lib\\site-packages\\sklearn\\linear_model\\logistic.py:433: FutureWarning: Default solver will be changed to 'lbfgs' in 0.22. Specify a solver to silence this warning.\n",
      "  FutureWarning)\n"
     ]
    }
   ],
   "source": [
    "from sklearn.feature_selection import RFE\n",
    "model = LogisticRegression()\n",
    "# create the RFE model and select 8 attributes\n",
    "rfe = RFE(model, 3)\n",
    "rfe = rfe.fit(X_train, y_train_bin)\n",
    "# summarize the selection of the attributes\n",
    "print('Selected features: %s' % list(X.columns[rfe.ranking_]))"
   ]
  },
  {
   "cell_type": "code",
   "execution_count": null,
   "metadata": {},
   "outputs": [],
   "source": []
  },
  {
   "cell_type": "code",
   "execution_count": null,
   "metadata": {},
   "outputs": [],
   "source": []
  }
 ],
 "metadata": {
  "kernelspec": {
   "display_name": "Python 3",
   "language": "python",
   "name": "python3"
  },
  "language_info": {
   "codemirror_mode": {
    "name": "ipython",
    "version": 3
   },
   "file_extension": ".py",
   "mimetype": "text/x-python",
   "name": "python",
   "nbconvert_exporter": "python",
   "pygments_lexer": "ipython3",
   "version": "3.7.1"
  }
 },
 "nbformat": 4,
 "nbformat_minor": 2
}
