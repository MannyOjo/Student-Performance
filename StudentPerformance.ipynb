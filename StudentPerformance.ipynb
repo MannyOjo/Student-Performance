{
 "cells": [
  {
   "cell_type": "markdown",
   "metadata": {},
   "source": [
    "### Import Libraries"
   ]
  },
  {
   "cell_type": "code",
   "execution_count": 158,
   "metadata": {},
   "outputs": [],
   "source": [
    "#Import libraries\n",
    "import pandas as pd\n",
    "import numpy as np\n",
    "import matplotlib.pyplot as plt\n",
    "import seaborn as sns\n",
    "%matplotlib inline"
   ]
  },
  {
   "cell_type": "markdown",
   "metadata": {},
   "source": [
    "### Import Data"
   ]
  },
  {
   "cell_type": "code",
   "execution_count": 159,
   "metadata": {},
   "outputs": [],
   "source": [
    "df=pd.read_csv('StudentsPerformance.csv')"
   ]
  },
  {
   "cell_type": "markdown",
   "metadata": {},
   "source": [
    "### Inspect Data"
   ]
  },
  {
   "cell_type": "code",
   "execution_count": 160,
   "metadata": {
    "scrolled": true
   },
   "outputs": [
    {
     "data": {
      "text/html": [
       "<div>\n",
       "<style scoped>\n",
       "    .dataframe tbody tr th:only-of-type {\n",
       "        vertical-align: middle;\n",
       "    }\n",
       "\n",
       "    .dataframe tbody tr th {\n",
       "        vertical-align: top;\n",
       "    }\n",
       "\n",
       "    .dataframe thead th {\n",
       "        text-align: right;\n",
       "    }\n",
       "</style>\n",
       "<table border=\"1\" class=\"dataframe\">\n",
       "  <thead>\n",
       "    <tr style=\"text-align: right;\">\n",
       "      <th></th>\n",
       "      <th>gender</th>\n",
       "      <th>race/ethnicity</th>\n",
       "      <th>parental level of education</th>\n",
       "      <th>lunch</th>\n",
       "      <th>test preparation course</th>\n",
       "      <th>math score</th>\n",
       "      <th>reading score</th>\n",
       "      <th>writing score</th>\n",
       "    </tr>\n",
       "  </thead>\n",
       "  <tbody>\n",
       "    <tr>\n",
       "      <th>0</th>\n",
       "      <td>female</td>\n",
       "      <td>group B</td>\n",
       "      <td>bachelor's degree</td>\n",
       "      <td>standard</td>\n",
       "      <td>none</td>\n",
       "      <td>72</td>\n",
       "      <td>72</td>\n",
       "      <td>74</td>\n",
       "    </tr>\n",
       "    <tr>\n",
       "      <th>1</th>\n",
       "      <td>female</td>\n",
       "      <td>group C</td>\n",
       "      <td>some college</td>\n",
       "      <td>standard</td>\n",
       "      <td>completed</td>\n",
       "      <td>69</td>\n",
       "      <td>90</td>\n",
       "      <td>88</td>\n",
       "    </tr>\n",
       "    <tr>\n",
       "      <th>2</th>\n",
       "      <td>female</td>\n",
       "      <td>group B</td>\n",
       "      <td>master's degree</td>\n",
       "      <td>standard</td>\n",
       "      <td>none</td>\n",
       "      <td>90</td>\n",
       "      <td>95</td>\n",
       "      <td>93</td>\n",
       "    </tr>\n",
       "    <tr>\n",
       "      <th>3</th>\n",
       "      <td>male</td>\n",
       "      <td>group A</td>\n",
       "      <td>associate's degree</td>\n",
       "      <td>free/reduced</td>\n",
       "      <td>none</td>\n",
       "      <td>47</td>\n",
       "      <td>57</td>\n",
       "      <td>44</td>\n",
       "    </tr>\n",
       "    <tr>\n",
       "      <th>4</th>\n",
       "      <td>male</td>\n",
       "      <td>group C</td>\n",
       "      <td>some college</td>\n",
       "      <td>standard</td>\n",
       "      <td>none</td>\n",
       "      <td>76</td>\n",
       "      <td>78</td>\n",
       "      <td>75</td>\n",
       "    </tr>\n",
       "  </tbody>\n",
       "</table>\n",
       "</div>"
      ],
      "text/plain": [
       "   gender race/ethnicity parental level of education         lunch  \\\n",
       "0  female        group B           bachelor's degree      standard   \n",
       "1  female        group C                some college      standard   \n",
       "2  female        group B             master's degree      standard   \n",
       "3    male        group A          associate's degree  free/reduced   \n",
       "4    male        group C                some college      standard   \n",
       "\n",
       "  test preparation course  math score  reading score  writing score  \n",
       "0                    none          72             72             74  \n",
       "1               completed          69             90             88  \n",
       "2                    none          90             95             93  \n",
       "3                    none          47             57             44  \n",
       "4                    none          76             78             75  "
      ]
     },
     "execution_count": 160,
     "metadata": {},
     "output_type": "execute_result"
    }
   ],
   "source": [
    "df.head()\n",
    "#There are three scores. May create an additional score \n",
    "#  that averages all three. Each of the scores will be a target \n",
    "#  variable/feature\n"
   ]
  },
  {
   "cell_type": "code",
   "execution_count": 161,
   "metadata": {},
   "outputs": [
    {
     "name": "stdout",
     "output_type": "stream",
     "text": [
      "<class 'pandas.core.frame.DataFrame'>\n",
      "RangeIndex: 1000 entries, 0 to 999\n",
      "Data columns (total 8 columns):\n",
      "gender                         1000 non-null object\n",
      "race/ethnicity                 1000 non-null object\n",
      "parental level of education    1000 non-null object\n",
      "lunch                          1000 non-null object\n",
      "test preparation course        1000 non-null object\n",
      "math score                     1000 non-null int64\n",
      "reading score                  1000 non-null int64\n",
      "writing score                  1000 non-null int64\n",
      "dtypes: int64(3), object(5)\n",
      "memory usage: 62.6+ KB\n"
     ]
    }
   ],
   "source": [
    "df.info()\n",
    "# There are 1000 rows of data and 8 columns/features"
   ]
  },
  {
   "cell_type": "code",
   "execution_count": 162,
   "metadata": {},
   "outputs": [
    {
     "data": {
      "text/html": [
       "<div>\n",
       "<style scoped>\n",
       "    .dataframe tbody tr th:only-of-type {\n",
       "        vertical-align: middle;\n",
       "    }\n",
       "\n",
       "    .dataframe tbody tr th {\n",
       "        vertical-align: top;\n",
       "    }\n",
       "\n",
       "    .dataframe thead th {\n",
       "        text-align: right;\n",
       "    }\n",
       "</style>\n",
       "<table border=\"1\" class=\"dataframe\">\n",
       "  <thead>\n",
       "    <tr style=\"text-align: right;\">\n",
       "      <th></th>\n",
       "      <th>math score</th>\n",
       "      <th>reading score</th>\n",
       "      <th>writing score</th>\n",
       "    </tr>\n",
       "  </thead>\n",
       "  <tbody>\n",
       "    <tr>\n",
       "      <th>count</th>\n",
       "      <td>1000.00000</td>\n",
       "      <td>1000.000000</td>\n",
       "      <td>1000.000000</td>\n",
       "    </tr>\n",
       "    <tr>\n",
       "      <th>mean</th>\n",
       "      <td>66.08900</td>\n",
       "      <td>69.169000</td>\n",
       "      <td>68.054000</td>\n",
       "    </tr>\n",
       "    <tr>\n",
       "      <th>std</th>\n",
       "      <td>15.16308</td>\n",
       "      <td>14.600192</td>\n",
       "      <td>15.195657</td>\n",
       "    </tr>\n",
       "    <tr>\n",
       "      <th>min</th>\n",
       "      <td>0.00000</td>\n",
       "      <td>17.000000</td>\n",
       "      <td>10.000000</td>\n",
       "    </tr>\n",
       "    <tr>\n",
       "      <th>25%</th>\n",
       "      <td>57.00000</td>\n",
       "      <td>59.000000</td>\n",
       "      <td>57.750000</td>\n",
       "    </tr>\n",
       "    <tr>\n",
       "      <th>50%</th>\n",
       "      <td>66.00000</td>\n",
       "      <td>70.000000</td>\n",
       "      <td>69.000000</td>\n",
       "    </tr>\n",
       "    <tr>\n",
       "      <th>75%</th>\n",
       "      <td>77.00000</td>\n",
       "      <td>79.000000</td>\n",
       "      <td>79.000000</td>\n",
       "    </tr>\n",
       "    <tr>\n",
       "      <th>max</th>\n",
       "      <td>100.00000</td>\n",
       "      <td>100.000000</td>\n",
       "      <td>100.000000</td>\n",
       "    </tr>\n",
       "  </tbody>\n",
       "</table>\n",
       "</div>"
      ],
      "text/plain": [
       "       math score  reading score  writing score\n",
       "count  1000.00000    1000.000000    1000.000000\n",
       "mean     66.08900      69.169000      68.054000\n",
       "std      15.16308      14.600192      15.195657\n",
       "min       0.00000      17.000000      10.000000\n",
       "25%      57.00000      59.000000      57.750000\n",
       "50%      66.00000      70.000000      69.000000\n",
       "75%      77.00000      79.000000      79.000000\n",
       "max     100.00000     100.000000     100.000000"
      ]
     },
     "execution_count": 162,
     "metadata": {},
     "output_type": "execute_result"
    }
   ],
   "source": [
    "df.describe()"
   ]
  },
  {
   "cell_type": "code",
   "execution_count": 163,
   "metadata": {},
   "outputs": [
    {
     "data": {
      "text/plain": [
       "Index(['gender', 'race/ethnicity', 'parental level of education', 'lunch',\n",
       "       'test preparation course', 'math score', 'reading score',\n",
       "       'writing score'],\n",
       "      dtype='object')"
      ]
     },
     "execution_count": 163,
     "metadata": {},
     "output_type": "execute_result"
    }
   ],
   "source": [
    "df.columns"
   ]
  },
  {
   "cell_type": "code",
   "execution_count": 164,
   "metadata": {},
   "outputs": [
    {
     "data": {
      "text/html": [
       "<div>\n",
       "<style scoped>\n",
       "    .dataframe tbody tr th:only-of-type {\n",
       "        vertical-align: middle;\n",
       "    }\n",
       "\n",
       "    .dataframe tbody tr th {\n",
       "        vertical-align: top;\n",
       "    }\n",
       "\n",
       "    .dataframe thead th {\n",
       "        text-align: right;\n",
       "    }\n",
       "</style>\n",
       "<table border=\"1\" class=\"dataframe\">\n",
       "  <thead>\n",
       "    <tr style=\"text-align: right;\">\n",
       "      <th></th>\n",
       "      <th>gender</th>\n",
       "      <th>race/ethnicity</th>\n",
       "      <th>parental level of education</th>\n",
       "      <th>lunch</th>\n",
       "      <th>test preparation course</th>\n",
       "      <th>math score</th>\n",
       "      <th>reading score</th>\n",
       "      <th>writing score</th>\n",
       "      <th>overall score</th>\n",
       "    </tr>\n",
       "  </thead>\n",
       "  <tbody>\n",
       "    <tr>\n",
       "      <th>0</th>\n",
       "      <td>female</td>\n",
       "      <td>group B</td>\n",
       "      <td>bachelor's degree</td>\n",
       "      <td>standard</td>\n",
       "      <td>none</td>\n",
       "      <td>72</td>\n",
       "      <td>72</td>\n",
       "      <td>74</td>\n",
       "      <td>72.666667</td>\n",
       "    </tr>\n",
       "    <tr>\n",
       "      <th>1</th>\n",
       "      <td>female</td>\n",
       "      <td>group C</td>\n",
       "      <td>some college</td>\n",
       "      <td>standard</td>\n",
       "      <td>completed</td>\n",
       "      <td>69</td>\n",
       "      <td>90</td>\n",
       "      <td>88</td>\n",
       "      <td>82.333333</td>\n",
       "    </tr>\n",
       "    <tr>\n",
       "      <th>2</th>\n",
       "      <td>female</td>\n",
       "      <td>group B</td>\n",
       "      <td>master's degree</td>\n",
       "      <td>standard</td>\n",
       "      <td>none</td>\n",
       "      <td>90</td>\n",
       "      <td>95</td>\n",
       "      <td>93</td>\n",
       "      <td>92.666667</td>\n",
       "    </tr>\n",
       "    <tr>\n",
       "      <th>3</th>\n",
       "      <td>male</td>\n",
       "      <td>group A</td>\n",
       "      <td>associate's degree</td>\n",
       "      <td>free/reduced</td>\n",
       "      <td>none</td>\n",
       "      <td>47</td>\n",
       "      <td>57</td>\n",
       "      <td>44</td>\n",
       "      <td>49.333333</td>\n",
       "    </tr>\n",
       "    <tr>\n",
       "      <th>4</th>\n",
       "      <td>male</td>\n",
       "      <td>group C</td>\n",
       "      <td>some college</td>\n",
       "      <td>standard</td>\n",
       "      <td>none</td>\n",
       "      <td>76</td>\n",
       "      <td>78</td>\n",
       "      <td>75</td>\n",
       "      <td>76.333333</td>\n",
       "    </tr>\n",
       "  </tbody>\n",
       "</table>\n",
       "</div>"
      ],
      "text/plain": [
       "   gender race/ethnicity parental level of education         lunch  \\\n",
       "0  female        group B           bachelor's degree      standard   \n",
       "1  female        group C                some college      standard   \n",
       "2  female        group B             master's degree      standard   \n",
       "3    male        group A          associate's degree  free/reduced   \n",
       "4    male        group C                some college      standard   \n",
       "\n",
       "  test preparation course  math score  reading score  writing score  \\\n",
       "0                    none          72             72             74   \n",
       "1               completed          69             90             88   \n",
       "2                    none          90             95             93   \n",
       "3                    none          47             57             44   \n",
       "4                    none          76             78             75   \n",
       "\n",
       "   overall score  \n",
       "0      72.666667  \n",
       "1      82.333333  \n",
       "2      92.666667  \n",
       "3      49.333333  \n",
       "4      76.333333  "
      ]
     },
     "execution_count": 164,
     "metadata": {},
     "output_type": "execute_result"
    }
   ],
   "source": [
    "# Create a final/overall score from math, reading, and writing\n",
    "\n",
    "df['overall score'] = df[['math score', 'reading score', 'writing score']].mean(axis=1)\n",
    "df.head()"
   ]
  },
  {
   "cell_type": "markdown",
   "metadata": {},
   "source": [
    "### Data Exploration: Overall Performance by Gender and (Race/ethnicity, Parental level of education, lunch type, and test preparation\n"
   ]
  },
  {
   "cell_type": "code",
   "execution_count": 165,
   "metadata": {},
   "outputs": [
    {
     "data": {
      "image/png": "[encoded data removed]",
      "text/plain": [
       "<Figure size 1800x1080 with 4 Axes>"
      ]
     },
     "metadata": {
      "needs_background": "light"
     },
     "output_type": "display_data"
    }
   ],
   "source": [
    "#Explore scores by parental level of education\n",
    "fig, axs = plt.subplots(ncols=2, nrows=2,  figsize=(25, 15), sharey = True)\n",
    "sns.barplot(x=df['race/ethnicity'], y=df['overall score'], hue=df['gender'], ax=axs[0][0]).set_title('Overall score by gender and race/ethnicity')\n",
    "sns.barplot(x=df['parental level of education'], y=df['overall score'], hue=df['gender'], ax=axs[0][1]).set_title('Overall score by gender and Parental level of education')\n",
    "sns.barplot(x=df['lunch'], y=df['overall score'], hue=df['gender'], ax=axs[1][0]).set_title('Overall score by gender and lunch type')\n",
    "sns.barplot(x=df['test preparation course'], y=df['overall score'], hue=df['gender'], data=df, ax=axs[1][1]).set_title('Overall score by gender and test preparation')\n",
    "\n",
    "plt.show()"
   ]
  },
  {
   "cell_type": "markdown",
   "metadata": {},
   "source": [
    "#### Transformation of non-normal, target features: Math, Reading and writing"
   ]
  },
  {
   "cell_type": "code",
   "execution_count": 166,
   "metadata": {},
   "outputs": [
    {
     "data": {
      "image/png": "[encoded data removed]",
      "text/plain": [
       "<Figure size 1080x720 with 4 Axes>"
      ]
     },
     "metadata": {
      "needs_background": "light"
     },
     "output_type": "display_data"
    },
    {
     "data": {
      "text/plain": [
       "<Figure size 360x3600 with 0 Axes>"
      ]
     },
     "metadata": {},
     "output_type": "display_data"
    },
    {
     "name": "stdout",
     "output_type": "stream",
     "text": [
      "overall score - Reject null. Not normal\n",
      "p=0.0005 \n",
      "\n",
      "overall_t - Fail to reject null. Normal\n",
      "p=0.2498 \n",
      "\n"
     ]
    }
   ],
   "source": [
    "#Transform the math score to normalize it.\n",
    "import math as m\n",
    "\n",
    "#Test of Normality for the Math score\n",
    "from statsmodels.graphics.gofplots import qqplot\n",
    "from scipy import stats\n",
    "\n",
    "def transform_vars(untransformed, transformed):\n",
    "    # Transformation of math score\n",
    "    x = lambda x: (m.pow(x,1.3))\n",
    "    df_t = df['{}'.format(untransformed)].apply(x)\n",
    "    df['{}'.format(transformed)] = pd.Series(df_t, index=df.index) \n",
    "\n",
    "    \n",
    "# Plot both Untransformed and Transformed plots of test performance\n",
    "def compare_normality(untransformed, transformed):\n",
    "    fig, axs = plt.subplots(ncols=2, nrows = 2, figsize=(15, 10))\n",
    "    plt.figure(figsize=(5,50))\n",
    "    f = sns.distplot(df['{}'.format(untransformed)], ax=axs[0][0]).set_title('Untransformed, ({}) score feature'.format(untransformed))\n",
    "    f = sns.distplot(df['{}'.format(transformed)], ax=axs[1][0]).set_title('Transformed, ({}) score feature'.format(transformed))\n",
    "    f = qqplot(df['{}'.format(untransformed)], line='s', ax=axs[0][1]) \n",
    "    f = qqplot(df['{}'.format(transformed)], line='s', ax=axs[1][1]) \n",
    "    fig.suptitle('Comparing Normality of Untransformed, ({}) and Transformed, ({})  target features'.format(untransformed, transformed), fontsize=16)\n",
    "\n",
    "    plt.show()\n",
    "    \n",
    "#Test the normality of the original and transformed scores\n",
    "def checkNormal(var):\n",
    "    k2, p = stats.normaltest(df['{}'.format(var)])\n",
    "    alpha = 0.05\n",
    "    if p < alpha:\n",
    "        print(var,\"- Reject null. Not normal\")\n",
    "    else:\n",
    "        print(var,\"- Fail to reject null. Normal\")\n",
    "    p = round(p,4)    \n",
    "    print (\"p={}\".format(p), \"\\n\")\n",
    "\n",
    "\n",
    "# Math\n",
    "transform_vars('overall score', 'overall_t')\n",
    "compare_normality('overall score','overall_t')\n",
    "checkNormal('overall score') #Untransformed math score\n",
    "checkNormal('overall_t') #Transformed math score\n",
    "\n"
   ]
  },
  {
   "cell_type": "markdown",
   "metadata": {},
   "source": [
    "### Create X and Y datasets"
   ]
  },
  {
   "cell_type": "code",
   "execution_count": 185,
   "metadata": {
    "scrolled": true
   },
   "outputs": [
    {
     "data": {
      "text/html": [
       "<div>\n",
       "<style scoped>\n",
       "    .dataframe tbody tr th:only-of-type {\n",
       "        vertical-align: middle;\n",
       "    }\n",
       "\n",
       "    .dataframe tbody tr th {\n",
       "        vertical-align: top;\n",
       "    }\n",
       "\n",
       "    .dataframe thead th {\n",
       "        text-align: right;\n",
       "    }\n",
       "</style>\n",
       "<table border=\"1\" class=\"dataframe\">\n",
       "  <thead>\n",
       "    <tr style=\"text-align: right;\">\n",
       "      <th></th>\n",
       "      <th>parental level of education</th>\n",
       "      <th>overall score</th>\n",
       "      <th>gender_male</th>\n",
       "      <th>race/ethnicity_group B</th>\n",
       "      <th>race/ethnicity_group C</th>\n",
       "      <th>race/ethnicity_group D</th>\n",
       "      <th>race/ethnicity_group E</th>\n",
       "      <th>lunch_standard</th>\n",
       "      <th>test preparation course_none</th>\n",
       "    </tr>\n",
       "  </thead>\n",
       "  <tbody>\n",
       "    <tr>\n",
       "      <th>0</th>\n",
       "      <td>bachelor's degree</td>\n",
       "      <td>72.666667</td>\n",
       "      <td>0</td>\n",
       "      <td>1</td>\n",
       "      <td>0</td>\n",
       "      <td>0</td>\n",
       "      <td>0</td>\n",
       "      <td>1</td>\n",
       "      <td>1</td>\n",
       "    </tr>\n",
       "    <tr>\n",
       "      <th>1</th>\n",
       "      <td>some college</td>\n",
       "      <td>82.333333</td>\n",
       "      <td>0</td>\n",
       "      <td>0</td>\n",
       "      <td>1</td>\n",
       "      <td>0</td>\n",
       "      <td>0</td>\n",
       "      <td>1</td>\n",
       "      <td>0</td>\n",
       "    </tr>\n",
       "    <tr>\n",
       "      <th>2</th>\n",
       "      <td>master's degree</td>\n",
       "      <td>92.666667</td>\n",
       "      <td>0</td>\n",
       "      <td>1</td>\n",
       "      <td>0</td>\n",
       "      <td>0</td>\n",
       "      <td>0</td>\n",
       "      <td>1</td>\n",
       "      <td>1</td>\n",
       "    </tr>\n",
       "    <tr>\n",
       "      <th>3</th>\n",
       "      <td>associate's degree</td>\n",
       "      <td>49.333333</td>\n",
       "      <td>1</td>\n",
       "      <td>0</td>\n",
       "      <td>0</td>\n",
       "      <td>0</td>\n",
       "      <td>0</td>\n",
       "      <td>0</td>\n",
       "      <td>1</td>\n",
       "    </tr>\n",
       "    <tr>\n",
       "      <th>4</th>\n",
       "      <td>some college</td>\n",
       "      <td>76.333333</td>\n",
       "      <td>1</td>\n",
       "      <td>0</td>\n",
       "      <td>1</td>\n",
       "      <td>0</td>\n",
       "      <td>0</td>\n",
       "      <td>1</td>\n",
       "      <td>1</td>\n",
       "    </tr>\n",
       "  </tbody>\n",
       "</table>\n",
       "</div>"
      ],
      "text/plain": [
       "  parental level of education  overall score  gender_male  \\\n",
       "0           bachelor's degree      72.666667            0   \n",
       "1                some college      82.333333            0   \n",
       "2             master's degree      92.666667            0   \n",
       "3          associate's degree      49.333333            1   \n",
       "4                some college      76.333333            1   \n",
       "\n",
       "   race/ethnicity_group B  race/ethnicity_group C  race/ethnicity_group D  \\\n",
       "0                       1                       0                       0   \n",
       "1                       0                       1                       0   \n",
       "2                       1                       0                       0   \n",
       "3                       0                       0                       0   \n",
       "4                       0                       1                       0   \n",
       "\n",
       "   race/ethnicity_group E  lunch_standard  test preparation course_none  \n",
       "0                       0               1                             1  \n",
       "1                       0               1                             0  \n",
       "2                       0               1                             1  \n",
       "3                       0               0                             1  \n",
       "4                       0               1                             1  "
      ]
     },
     "execution_count": 185,
     "metadata": {},
     "output_type": "execute_result"
    }
   ],
   "source": [
    "#Since the predictors are categorical, consider using ANOVA?\n",
    "#For 1b, use categorical variable without dummying.\n",
    "\n",
    "# from statsmodels.formula.api import ols\n",
    "\n",
    "# fit = ols(\"Q('overall score') ~ C(gender) + C(lunch) + C(Q('race/ethnicity')) + C(Q('parental level of education')) + C(Q('test preparation course'))\", data=df).fit()\n",
    "# fit.summary()\n",
    "\n",
    "\n",
    "#before spliting data, create dummies for categorical variables (drop first column of each dummy group to avoid multicollinearity)\n",
    "df_d = pd.get_dummies(df, columns=['gender', 'race/ethnicity', 'lunch', 'test preparation course'], drop_first=True)\n",
    "df2 = df_d.drop(['math score', 'writing score', 'reading score', 'overall_t'], axis=1)\n",
    "df2.head()\n",
    "# df_keep "
   ]
  },
  {
   "cell_type": "code",
   "execution_count": 186,
   "metadata": {},
   "outputs": [
    {
     "data": {
      "text/plain": [
       "some college          226\n",
       "associate's degree    222\n",
       "high school           196\n",
       "some high school      179\n",
       "bachelor's degree     118\n",
       "master's degree        59\n",
       "Name: parental level of education, dtype: int64"
      ]
     },
     "execution_count": 186,
     "metadata": {},
     "output_type": "execute_result"
    }
   ],
   "source": [
    "df2['parental level of education'].value_counts()"
   ]
  },
  {
   "cell_type": "code",
   "execution_count": 187,
   "metadata": {},
   "outputs": [
    {
     "data": {
      "text/html": [
       "<div>\n",
       "<style scoped>\n",
       "    .dataframe tbody tr th:only-of-type {\n",
       "        vertical-align: middle;\n",
       "    }\n",
       "\n",
       "    .dataframe tbody tr th {\n",
       "        vertical-align: top;\n",
       "    }\n",
       "\n",
       "    .dataframe thead th {\n",
       "        text-align: right;\n",
       "    }\n",
       "</style>\n",
       "<table border=\"1\" class=\"dataframe\">\n",
       "  <thead>\n",
       "    <tr style=\"text-align: right;\">\n",
       "      <th></th>\n",
       "      <th>parental level of education</th>\n",
       "      <th>overall score</th>\n",
       "      <th>gender_male</th>\n",
       "      <th>race/ethnicity_group B</th>\n",
       "      <th>race/ethnicity_group C</th>\n",
       "      <th>race/ethnicity_group D</th>\n",
       "      <th>race/ethnicity_group E</th>\n",
       "      <th>lunch_standard</th>\n",
       "      <th>test preparation course_none</th>\n",
       "    </tr>\n",
       "  </thead>\n",
       "  <tbody>\n",
       "    <tr>\n",
       "      <th>0</th>\n",
       "      <td>5</td>\n",
       "      <td>72.666667</td>\n",
       "      <td>0</td>\n",
       "      <td>1</td>\n",
       "      <td>0</td>\n",
       "      <td>0</td>\n",
       "      <td>0</td>\n",
       "      <td>1</td>\n",
       "      <td>1</td>\n",
       "    </tr>\n",
       "    <tr>\n",
       "      <th>1</th>\n",
       "      <td>3</td>\n",
       "      <td>82.333333</td>\n",
       "      <td>0</td>\n",
       "      <td>0</td>\n",
       "      <td>1</td>\n",
       "      <td>0</td>\n",
       "      <td>0</td>\n",
       "      <td>1</td>\n",
       "      <td>0</td>\n",
       "    </tr>\n",
       "    <tr>\n",
       "      <th>2</th>\n",
       "      <td>6</td>\n",
       "      <td>92.666667</td>\n",
       "      <td>0</td>\n",
       "      <td>1</td>\n",
       "      <td>0</td>\n",
       "      <td>0</td>\n",
       "      <td>0</td>\n",
       "      <td>1</td>\n",
       "      <td>1</td>\n",
       "    </tr>\n",
       "    <tr>\n",
       "      <th>3</th>\n",
       "      <td>4</td>\n",
       "      <td>49.333333</td>\n",
       "      <td>1</td>\n",
       "      <td>0</td>\n",
       "      <td>0</td>\n",
       "      <td>0</td>\n",
       "      <td>0</td>\n",
       "      <td>0</td>\n",
       "      <td>1</td>\n",
       "    </tr>\n",
       "    <tr>\n",
       "      <th>4</th>\n",
       "      <td>3</td>\n",
       "      <td>76.333333</td>\n",
       "      <td>1</td>\n",
       "      <td>0</td>\n",
       "      <td>1</td>\n",
       "      <td>0</td>\n",
       "      <td>0</td>\n",
       "      <td>1</td>\n",
       "      <td>1</td>\n",
       "    </tr>\n",
       "  </tbody>\n",
       "</table>\n",
       "</div>"
      ],
      "text/plain": [
       "   parental level of education  overall score  gender_male  \\\n",
       "0                            5      72.666667            0   \n",
       "1                            3      82.333333            0   \n",
       "2                            6      92.666667            0   \n",
       "3                            4      49.333333            1   \n",
       "4                            3      76.333333            1   \n",
       "\n",
       "   race/ethnicity_group B  race/ethnicity_group C  race/ethnicity_group D  \\\n",
       "0                       1                       0                       0   \n",
       "1                       0                       1                       0   \n",
       "2                       1                       0                       0   \n",
       "3                       0                       0                       0   \n",
       "4                       0                       1                       0   \n",
       "\n",
       "   race/ethnicity_group E  lunch_standard  test preparation course_none  \n",
       "0                       0               1                             1  \n",
       "1                       0               1                             0  \n",
       "2                       0               1                             1  \n",
       "3                       0               0                             1  \n",
       "4                       0               1                             1  "
      ]
     },
     "execution_count": 187,
     "metadata": {},
     "output_type": "execute_result"
    }
   ],
   "source": [
    "#Recategorize the parental education to reflect it's ordinal nature\n",
    "\n",
    "recat_parent_ed = {\"some high school\":1,\n",
    "                                      \"high school\":2,\n",
    "                                      \"some college\":3,\n",
    "                                      \"associate's degree\":4,\n",
    "                                      \"bachelor's degree\":5,\n",
    "                                      \"master's degree\":6}\n",
    "\n",
    "#Then, replace the feature in the DataFrame\n",
    "df2.replace(recat_parent_ed, inplace=True)\n",
    "# df2[\"parental level of education\"]=df[\"parental level of education\"].replace(recat_parent_ed, inplace=True)\n",
    "\n",
    "df2.head()\n"
   ]
  },
  {
   "cell_type": "code",
   "execution_count": 188,
   "metadata": {},
   "outputs": [
    {
     "data": {
      "text/plain": [
       "parental level of education       int64\n",
       "overall score                   float64\n",
       "gender_male                       uint8\n",
       "race/ethnicity_group B            uint8\n",
       "race/ethnicity_group C            uint8\n",
       "race/ethnicity_group D            uint8\n",
       "race/ethnicity_group E            uint8\n",
       "lunch_standard                    uint8\n",
       "test preparation course_none      uint8\n",
       "dtype: object"
      ]
     },
     "execution_count": 188,
     "metadata": {},
     "output_type": "execute_result"
    }
   ],
   "source": [
    "df2.dtypes"
   ]
  },
  {
   "cell_type": "code",
   "execution_count": 189,
   "metadata": {},
   "outputs": [],
   "source": [
    "df2[\"parental level of education\"] = df2[\"parental level of education\"].astype('category')\n",
    "df2[\"parental education\"] = df2[\"parental level of education\"].cat.codes\n",
    "\n"
   ]
  },
  {
   "cell_type": "code",
   "execution_count": 191,
   "metadata": {},
   "outputs": [
    {
     "data": {
      "text/html": [
       "<div>\n",
       "<style scoped>\n",
       "    .dataframe tbody tr th:only-of-type {\n",
       "        vertical-align: middle;\n",
       "    }\n",
       "\n",
       "    .dataframe tbody tr th {\n",
       "        vertical-align: top;\n",
       "    }\n",
       "\n",
       "    .dataframe thead th {\n",
       "        text-align: right;\n",
       "    }\n",
       "</style>\n",
       "<table border=\"1\" class=\"dataframe\">\n",
       "  <thead>\n",
       "    <tr style=\"text-align: right;\">\n",
       "      <th></th>\n",
       "      <th>overall score</th>\n",
       "      <th>gender_male</th>\n",
       "      <th>race/ethnicity_group B</th>\n",
       "      <th>race/ethnicity_group C</th>\n",
       "      <th>race/ethnicity_group D</th>\n",
       "      <th>race/ethnicity_group E</th>\n",
       "      <th>lunch_standard</th>\n",
       "      <th>test preparation course_none</th>\n",
       "      <th>parental education</th>\n",
       "    </tr>\n",
       "  </thead>\n",
       "  <tbody>\n",
       "    <tr>\n",
       "      <th>0</th>\n",
       "      <td>72.666667</td>\n",
       "      <td>0</td>\n",
       "      <td>1</td>\n",
       "      <td>0</td>\n",
       "      <td>0</td>\n",
       "      <td>0</td>\n",
       "      <td>1</td>\n",
       "      <td>1</td>\n",
       "      <td>4</td>\n",
       "    </tr>\n",
       "    <tr>\n",
       "      <th>1</th>\n",
       "      <td>82.333333</td>\n",
       "      <td>0</td>\n",
       "      <td>0</td>\n",
       "      <td>1</td>\n",
       "      <td>0</td>\n",
       "      <td>0</td>\n",
       "      <td>1</td>\n",
       "      <td>0</td>\n",
       "      <td>2</td>\n",
       "    </tr>\n",
       "    <tr>\n",
       "      <th>2</th>\n",
       "      <td>92.666667</td>\n",
       "      <td>0</td>\n",
       "      <td>1</td>\n",
       "      <td>0</td>\n",
       "      <td>0</td>\n",
       "      <td>0</td>\n",
       "      <td>1</td>\n",
       "      <td>1</td>\n",
       "      <td>5</td>\n",
       "    </tr>\n",
       "    <tr>\n",
       "      <th>3</th>\n",
       "      <td>49.333333</td>\n",
       "      <td>1</td>\n",
       "      <td>0</td>\n",
       "      <td>0</td>\n",
       "      <td>0</td>\n",
       "      <td>0</td>\n",
       "      <td>0</td>\n",
       "      <td>1</td>\n",
       "      <td>3</td>\n",
       "    </tr>\n",
       "    <tr>\n",
       "      <th>4</th>\n",
       "      <td>76.333333</td>\n",
       "      <td>1</td>\n",
       "      <td>0</td>\n",
       "      <td>1</td>\n",
       "      <td>0</td>\n",
       "      <td>0</td>\n",
       "      <td>1</td>\n",
       "      <td>1</td>\n",
       "      <td>2</td>\n",
       "    </tr>\n",
       "  </tbody>\n",
       "</table>\n",
       "</div>"
      ],
      "text/plain": [
       "   overall score  gender_male  race/ethnicity_group B  race/ethnicity_group C  \\\n",
       "0      72.666667            0                       1                       0   \n",
       "1      82.333333            0                       0                       1   \n",
       "2      92.666667            0                       1                       0   \n",
       "3      49.333333            1                       0                       0   \n",
       "4      76.333333            1                       0                       1   \n",
       "\n",
       "   race/ethnicity_group D  race/ethnicity_group E  lunch_standard  \\\n",
       "0                       0                       0               1   \n",
       "1                       0                       0               1   \n",
       "2                       0                       0               1   \n",
       "3                       0                       0               0   \n",
       "4                       0                       0               1   \n",
       "\n",
       "   test preparation course_none  parental education  \n",
       "0                             1                   4  \n",
       "1                             0                   2  \n",
       "2                             1                   5  \n",
       "3                             1                   3  \n",
       "4                             1                   2  "
      ]
     },
     "execution_count": 191,
     "metadata": {},
     "output_type": "execute_result"
    }
   ],
   "source": [
    "df2 = df2.drop(['parental level of education'], axis=1)\n",
    "df2.head()"
   ]
  },
  {
   "cell_type": "code",
   "execution_count": 192,
   "metadata": {},
   "outputs": [],
   "source": [
    "# Split data into x and y\n",
    "X = df2.drop(['overall score'], axis=1)\n",
    "y = df2['overall score']\n",
    "# X.head()"
   ]
  },
  {
   "cell_type": "code",
   "execution_count": 194,
   "metadata": {},
   "outputs": [
    {
     "data": {
      "text/plain": [
       "0    72.666667\n",
       "1    82.333333\n",
       "2    92.666667\n",
       "3    49.333333\n",
       "4    76.333333\n",
       "Name: overall score, dtype: float64"
      ]
     },
     "execution_count": 194,
     "metadata": {},
     "output_type": "execute_result"
    }
   ],
   "source": [
    "y.head()"
   ]
  },
  {
   "cell_type": "markdown",
   "metadata": {},
   "source": [
    "### Train and Test Models|"
   ]
  },
  {
   "cell_type": "code",
   "execution_count": 195,
   "metadata": {},
   "outputs": [],
   "source": [
    "from sklearn.model_selection import train_test_split\n",
    "X_train, X_test, y_train, y_test = train_test_split(X, y, test_size=0.3, random_state=101)\n"
   ]
  },
  {
   "cell_type": "code",
   "execution_count": 196,
   "metadata": {},
   "outputs": [
    {
     "name": "stdout",
     "output_type": "stream",
     "text": [
      "                            OLS Regression Results                            \n",
      "==============================================================================\n",
      "Dep. Variable:          overall score   R-squared:                       0.926\n",
      "Model:                            OLS   Adj. R-squared:                  0.925\n",
      "Method:                 Least Squares   F-statistic:                     1085.\n",
      "Date:                Mon, 22 Apr 2019   Prob (F-statistic):               0.00\n",
      "Time:                        00:20:15   Log-Likelihood:                -3047.9\n",
      "No. Observations:                 700   AIC:                             6112.\n",
      "Df Residuals:                     692   BIC:                             6148.\n",
      "Df Model:                           8                                         \n",
      "Covariance Type:            nonrobust                                         \n",
      "================================================================================================\n",
      "                                   coef    std err          t      P>|t|      [0.025      0.975]\n",
      "------------------------------------------------------------------------------------------------\n",
      "gender_male                      5.0566      1.372      3.685      0.000       2.363       7.751\n",
      "race/ethnicity_group B          38.6396      2.132     18.121      0.000      34.453      42.826\n",
      "race/ethnicity_group C          39.2534      1.942     20.210      0.000      35.440      43.067\n",
      "race/ethnicity_group D          40.7629      2.044     19.942      0.000      36.750      44.776\n",
      "race/ethnicity_group E          42.8124      2.494     17.163      0.000      37.915      47.710\n",
      "lunch_standard                  20.0347      1.438     13.931      0.000      17.211      22.858\n",
      "test preparation course_none     1.9186      1.417      1.354      0.176      -0.863       4.700\n",
      "parental education               5.3604      0.464     11.551      0.000       4.449       6.272\n",
      "==============================================================================\n",
      "Omnibus:                       26.347   Durbin-Watson:                   1.851\n",
      "Prob(Omnibus):                  0.000   Jarque-Bera (JB):               30.288\n",
      "Skew:                           0.420   Prob(JB):                     2.65e-07\n",
      "Kurtosis:                       3.576   Cond. No.                         13.2\n",
      "==============================================================================\n",
      "\n",
      "Warnings:\n",
      "[1] Standard Errors assume that the covariance matrix of the errors is correctly specified.\n"
     ]
    }
   ],
   "source": [
    "import statsmodels.api as sm\n",
    "\n",
    "olsmod = sm.OLS(y_train, X_train)\n",
    "olsres = olsmod.fit()\n",
    "print(olsres.summary())\n"
   ]
  },
  {
   "cell_type": "code",
   "execution_count": 197,
   "metadata": {
    "scrolled": true
   },
   "outputs": [],
   "source": [
    "# Prediction\n",
    "ypred = olsres.predict(X_test)\n",
    "# print(ypred.head())\n",
    "# print(y_test.head())"
   ]
  },
  {
   "cell_type": "code",
   "execution_count": 198,
   "metadata": {},
   "outputs": [],
   "source": [
    "#Evaluate the ols from statsmodels.api\n",
    "def toFrame(ySeries, yname):\n",
    "    y = pd.DataFrame(ySeries, columns = ['{}'.format(yname)])\n",
    "    return y\n",
    "     \n",
    "\n",
    "\n",
    "#Convert Series to DataFrame for easier use\n",
    "y_pred0 = toFrame(ypred, 'predicted overall score')\n",
    "y_test0 = toFrame(y_test,'overall score')"
   ]
  },
  {
   "cell_type": "code",
   "execution_count": 199,
   "metadata": {},
   "outputs": [
    {
     "name": "stdout",
     "output_type": "stream",
     "text": [
      "RMSE: 20.3011\n"
     ]
    }
   ],
   "source": [
    "import math as m\n",
    "dfTrue_Pred0 = pd.concat([y_test0, y_pred0], axis=1, sort=False)\n",
    " \n",
    "def RMSE(true, predicted):\n",
    "    global MSE, RMSE\n",
    "    SE = (true - predicted).apply(lambda x: (m.pow((x),2)))\n",
    "    SSE = (SE.sum())\n",
    "    n = len(SE)\n",
    "    MSE = SSE/n;\n",
    "    RMSE = m.sqrt(MSE)\n",
    "    return RMSE\n",
    "\n",
    "\n",
    "print ('RMSE:',round(RMSE(dfTrue_Pred0['predicted overall score'],dfTrue_Pred0['overall score']),4))"
   ]
  },
  {
   "cell_type": "markdown",
   "metadata": {},
   "source": [
    "### The negative R-squared (as shown below) suggests issues with the model above\n"
   ]
  },
  {
   "cell_type": "code",
   "execution_count": 200,
   "metadata": {},
   "outputs": [
    {
     "name": "stdout",
     "output_type": "stream",
     "text": [
      "R-squared: -1.234\n"
     ]
    }
   ],
   "source": [
    "# from sklearn.metrics import explained_variance_score\n",
    "# explained_variance_score(dfTrue_Pred0['overall score'],dfTrue_Pred0['predicted overall score'], multioutput='uniform_average')\n",
    "\n",
    "\n",
    "from sklearn.metrics import r2_score\n",
    "print ('R-squared:',round(r2_score(dfTrue_Pred0['overall score'], dfTrue_Pred0['predicted overall score']), 4))"
   ]
  },
  {
   "cell_type": "markdown",
   "metadata": {},
   "source": []
  },
  {
   "cell_type": "code",
   "execution_count": 201,
   "metadata": {},
   "outputs": [
    {
     "data": {
      "image/png": "[encoded data removed]",
      "text/plain": [
       "<Figure size 432x288 with 1 Axes>"
      ]
     },
     "metadata": {
      "needs_background": "light"
     },
     "output_type": "display_data"
    }
   ],
   "source": [
    "from sklearn.linear_model import Lasso\n",
    "from yellowbrick.regressor import PredictionError\n",
    "\n",
    "lasso = Lasso()\n",
    "visualizer = PredictionError(lasso)\n",
    "\n",
    "visualizer.fit(X_train, y_train)  # Fit the training data to the visualizer\n",
    "visualizer.score(X_test, y_test)  # Evaluate the model on the test data\n",
    "g = visualizer.poof()             # Draw/show/poof the data"
   ]
  },
  {
   "cell_type": "code",
   "execution_count": 202,
   "metadata": {},
   "outputs": [
    {
     "data": {
      "image/png": "[encoded data removed]",
      "text/plain": [
       "<Figure size 432x288 with 2 Axes>"
      ]
     },
     "metadata": {
      "needs_background": "light"
     },
     "output_type": "display_data"
    }
   ],
   "source": [
    "from yellowbrick.regressor import ResidualsPlot\n",
    "from sklearn.linear_model import LinearRegression\n",
    "from sklearn.model_selection import train_test_split\n",
    "\n",
    "visualizer = ResidualsPlot(LinearRegression())\n",
    "visualizer.fit(X_train, y_train)\n",
    "visualizer.score(X_test, y_test)\n",
    "visualizer.poof()"
   ]
  },
  {
   "cell_type": "code",
   "execution_count": 203,
   "metadata": {},
   "outputs": [
    {
     "data": {
      "image/png": "[encoded data removed]",
      "text/plain": [
       "<Figure size 432x288 with 1 Axes>"
      ]
     },
     "metadata": {
      "needs_background": "light"
     },
     "output_type": "display_data"
    }
   ],
   "source": [
    "from sklearn.linear_model import RidgeCV\n",
    "from yellowbrick.regressor import AlphaSelection\n",
    "\n",
    "alphas = np.logspace(-10, 1, 200)\n",
    "visualizer = AlphaSelection(RidgeCV(alphas=alphas))\n",
    "visualizer.fit(X_train, y_train)\n",
    "visualizer.poof()"
   ]
  },
  {
   "cell_type": "code",
   "execution_count": 204,
   "metadata": {},
   "outputs": [
    {
     "data": {
      "image/png": "[encoded data removed]",
      "text/plain": [
       "<Figure size 432x288 with 1 Axes>"
      ]
     },
     "metadata": {
      "needs_background": "light"
     },
     "output_type": "display_data"
    }
   ],
   "source": [
    "from sklearn.linear_model import Ridge\n",
    "from yellowbrick.regressor import PredictionError\n",
    "\n",
    "visualizer = PredictionError(Ridge(alpha=4.66))\n",
    "visualizer.fit(X_train, y_train)\n",
    "visualizer.score(X_test, y_test)\n",
    "visualizer.poof()"
   ]
  },
  {
   "cell_type": "code",
   "execution_count": 205,
   "metadata": {},
   "outputs": [
    {
     "data": {
      "text/plain": [
       "array([13.53811955, 15.40653787, 14.24575864, 15.06034209, 15.29335404,\n",
       "       13.73541006, 15.73997627, 16.87609589, 14.81922613, 16.60508567])"
      ]
     },
     "execution_count": 205,
     "metadata": {},
     "output_type": "execute_result"
    }
   ],
   "source": [
    "#Use more complex model: Decision Tree\n",
    "from sklearn.tree import DecisionTreeRegressor\n",
    "from sklearn.model_selection import cross_val_score\n",
    "tree_reg = DecisionTreeRegressor()\n",
    "tree_reg.fit(X_train, y_train)\n",
    "pred = tree_reg.predict(X_test)\n",
    "\n",
    "\n",
    "scores = cross_val_score(tree_reg, X_train, y_train, scoring=\"neg_mean_squared_error\", cv=10)\n",
    "tree_rmse_scores = np.sqrt(-scores)\n",
    "tree_rmse_scores\n",
    "\n",
    "# def RMSE_mod(true, predicted):\n",
    "#     global MSE, RMSE\n",
    "#     SE = (true - predicted).apply(lambda x: (x*x))\n",
    "#     SSE = (SE.sum())\n",
    "#     n = len(SE)\n",
    "#     MSE = SSE/n;\n",
    "#     RMSE = m.sqrt(MSE)\n",
    "#     return RMSE\n",
    "\n",
    "# pred_df = pd.DataFrame(data=pred.flatten(), columns=['predicted overall score'])\n",
    "# # pred_df.head()\n",
    "# ytest_ = (pd.DataFrame(data=y_test, columns=['overall score'])).reset_index(drop=True)\n",
    "# # tree_mse = mean_squared_error(X_train, y_train)\n",
    "\n",
    "# dfTrue_Pred3 = pd.concat([ytest_, pred_df], axis=1, sort=False)\n",
    "# RMSE_mod(dfTrue_Pred3['overall score'], dfTrue_Pred3['predicted overall score'])\n",
    "# # dfTrue_Pred3.head()"
   ]
  },
  {
   "cell_type": "code",
   "execution_count": 206,
   "metadata": {},
   "outputs": [
    {
     "name": "stderr",
     "output_type": "stream",
     "text": [
      "C:\\Users\\dewum\\AppData\\Local\\Continuum\\anaconda3\\lib\\site-packages\\sklearn\\ensemble\\forest.py:246: FutureWarning: The default value of n_estimators will change from 10 in version 0.20 to 100 in 0.22.\n",
      "  \"10 in version 0.20 to 100 in 0.22.\", FutureWarning)\n"
     ]
    }
   ],
   "source": [
    "#Random forest\n",
    "from sklearn.ensemble import RandomForestRegressor\n",
    "forest_reg = RandomForestRegressor()\n",
    "forest_reg.fit(X_train, y_train)\n",
    "# forest_reg.score(X_train, y_train)\n",
    "frstypred=forest_reg.predict(X_test)"
   ]
  },
  {
   "cell_type": "code",
   "execution_count": 207,
   "metadata": {},
   "outputs": [],
   "source": [
    "def RMSE_mod(true, predicted):\n",
    "    global MSE, RMSE\n",
    "    SE = (true - predicted).apply(lambda x: (x*x))\n",
    "    SSE = (SE.sum())\n",
    "    n = len(SE)\n",
    "    MSE = SSE/n;\n",
    "    RMSE = m.sqrt(MSE)\n",
    "    return RMSE"
   ]
  },
  {
   "cell_type": "code",
   "execution_count": 208,
   "metadata": {},
   "outputs": [
    {
     "data": {
      "text/plain": [
       "14.363389764724072"
      ]
     },
     "execution_count": 208,
     "metadata": {},
     "output_type": "execute_result"
    }
   ],
   "source": [
    "pred_df = pd.DataFrame(data=frstypred.flatten(), columns=['predicted overall score'])\n",
    "# pred_df.head()\n",
    "ytest_ = (pd.DataFrame(data=y_test, columns=['overall score'])).reset_index(drop=True)\n",
    "# tree_mse = mean_squared_error(X_train, y_train)\n",
    "\n",
    "dfTrue_Pred4 = pd.concat([ytest_, pred_df], axis=1, sort=False)\n",
    "RMSE_mod(dfTrue_Pred4['overall score'], dfTrue_Pred4['predicted overall score'])\n",
    "# dfTrue_Pred3.head()\n",
    "\n"
   ]
  },
  {
   "cell_type": "code",
   "execution_count": 209,
   "metadata": {},
   "outputs": [
    {
     "name": "stdout",
     "output_type": "stream",
     "text": [
      "Explained variance score: -0.1182546296571545\n",
      "R2 Score: -0.11827267434073896\n"
     ]
    }
   ],
   "source": [
    "from sklearn.metrics import explained_variance_score\n",
    "print ('Explained variance score:',explained_variance_score(dfTrue_Pred4['overall score'],dfTrue_Pred4['predicted overall score']))\n",
    "\n",
    "from sklearn.metrics import r2_score\n",
    "print ('R2 Score:',r2_score(dfTrue_Pred4['overall score'], dfTrue_Pred4['predicted overall score']))"
   ]
  },
  {
   "cell_type": "code",
   "execution_count": null,
   "metadata": {},
   "outputs": [],
   "source": []
  },
  {
   "cell_type": "markdown",
   "metadata": {},
   "source": [
    "#### Using the  ols from statsmodels.api, the following model metrics were obtained:\n",
    "     R-squared: 0.92\n",
    "     AIC: 6158\n",
    "     BIC: 6213\n",
    "     RMSE: 19.65\n",
    "     \n",
    "     However, the Explained variance score (-0.065) and R2 Score (-0.070)\n",
    "     suggests that the above model may not be a good fit.\n",
    "\n",
    "\n",
    "### The above used dummied categorical variables. We now explore another ols approach (statsmodels.formula.api) leaving the categorical variables as is, without creating dummies"
   ]
  },
  {
   "cell_type": "code",
   "execution_count": 50,
   "metadata": {},
   "outputs": [
    {
     "data": {
      "text/html": [
       "<div>\n",
       "<style scoped>\n",
       "    .dataframe tbody tr th:only-of-type {\n",
       "        vertical-align: middle;\n",
       "    }\n",
       "\n",
       "    .dataframe tbody tr th {\n",
       "        vertical-align: top;\n",
       "    }\n",
       "\n",
       "    .dataframe thead th {\n",
       "        text-align: right;\n",
       "    }\n",
       "</style>\n",
       "<table border=\"1\" class=\"dataframe\">\n",
       "  <thead>\n",
       "    <tr style=\"text-align: right;\">\n",
       "      <th></th>\n",
       "      <th>gender</th>\n",
       "      <th>race/ethnicity</th>\n",
       "      <th>parental level of education</th>\n",
       "      <th>lunch</th>\n",
       "      <th>test preparation course</th>\n",
       "      <th>overall score</th>\n",
       "    </tr>\n",
       "  </thead>\n",
       "  <tbody>\n",
       "    <tr>\n",
       "      <th>0</th>\n",
       "      <td>female</td>\n",
       "      <td>group B</td>\n",
       "      <td>bachelor's degree</td>\n",
       "      <td>standard</td>\n",
       "      <td>none</td>\n",
       "      <td>72.666667</td>\n",
       "    </tr>\n",
       "    <tr>\n",
       "      <th>1</th>\n",
       "      <td>female</td>\n",
       "      <td>group C</td>\n",
       "      <td>some college</td>\n",
       "      <td>standard</td>\n",
       "      <td>completed</td>\n",
       "      <td>82.333333</td>\n",
       "    </tr>\n",
       "    <tr>\n",
       "      <th>2</th>\n",
       "      <td>female</td>\n",
       "      <td>group B</td>\n",
       "      <td>master's degree</td>\n",
       "      <td>standard</td>\n",
       "      <td>none</td>\n",
       "      <td>92.666667</td>\n",
       "    </tr>\n",
       "    <tr>\n",
       "      <th>3</th>\n",
       "      <td>male</td>\n",
       "      <td>group A</td>\n",
       "      <td>associate's degree</td>\n",
       "      <td>free/reduced</td>\n",
       "      <td>none</td>\n",
       "      <td>49.333333</td>\n",
       "    </tr>\n",
       "    <tr>\n",
       "      <th>4</th>\n",
       "      <td>male</td>\n",
       "      <td>group C</td>\n",
       "      <td>some college</td>\n",
       "      <td>standard</td>\n",
       "      <td>none</td>\n",
       "      <td>76.333333</td>\n",
       "    </tr>\n",
       "  </tbody>\n",
       "</table>\n",
       "</div>"
      ],
      "text/plain": [
       "   gender race/ethnicity parental level of education         lunch  \\\n",
       "0  female        group B           bachelor's degree      standard   \n",
       "1  female        group C                some college      standard   \n",
       "2  female        group B             master's degree      standard   \n",
       "3    male        group A          associate's degree  free/reduced   \n",
       "4    male        group C                some college      standard   \n",
       "\n",
       "  test preparation course  overall score  \n",
       "0                    none      72.666667  \n",
       "1               completed      82.333333  \n",
       "2                    none      92.666667  \n",
       "3                    none      49.333333  \n",
       "4                    none      76.333333  "
      ]
     },
     "execution_count": 50,
     "metadata": {},
     "output_type": "execute_result"
    }
   ],
   "source": [
    "# df_d = pd.get_dummies(df, columns=['gender', 'race/ethnicity', 'parental level of education', 'lunch', 'test preparation course'], drop_first=True)\n",
    "df3 = df.drop(['math score', 'writing score', 'reading score', 'overall_t'], axis=1)\n",
    "df3.head()"
   ]
  },
  {
   "cell_type": "code",
   "execution_count": 51,
   "metadata": {},
   "outputs": [
    {
     "data": {
      "text/html": [
       "<div>\n",
       "<style scoped>\n",
       "    .dataframe tbody tr th:only-of-type {\n",
       "        vertical-align: middle;\n",
       "    }\n",
       "\n",
       "    .dataframe tbody tr th {\n",
       "        vertical-align: top;\n",
       "    }\n",
       "\n",
       "    .dataframe thead th {\n",
       "        text-align: right;\n",
       "    }\n",
       "</style>\n",
       "<table border=\"1\" class=\"dataframe\">\n",
       "  <thead>\n",
       "    <tr style=\"text-align: right;\">\n",
       "      <th></th>\n",
       "      <th>overall score</th>\n",
       "      <th>gender</th>\n",
       "      <th>race/ethnicity</th>\n",
       "      <th>parental level of education</th>\n",
       "      <th>lunch</th>\n",
       "      <th>test preparation course</th>\n",
       "    </tr>\n",
       "  </thead>\n",
       "  <tbody>\n",
       "    <tr>\n",
       "      <th>545</th>\n",
       "      <td>80.333333</td>\n",
       "      <td>male</td>\n",
       "      <td>group E</td>\n",
       "      <td>some high school</td>\n",
       "      <td>free/reduced</td>\n",
       "      <td>completed</td>\n",
       "    </tr>\n",
       "    <tr>\n",
       "      <th>298</th>\n",
       "      <td>45.333333</td>\n",
       "      <td>male</td>\n",
       "      <td>group C</td>\n",
       "      <td>high school</td>\n",
       "      <td>free/reduced</td>\n",
       "      <td>completed</td>\n",
       "    </tr>\n",
       "    <tr>\n",
       "      <th>109</th>\n",
       "      <td>68.666667</td>\n",
       "      <td>female</td>\n",
       "      <td>group B</td>\n",
       "      <td>some high school</td>\n",
       "      <td>standard</td>\n",
       "      <td>none</td>\n",
       "    </tr>\n",
       "    <tr>\n",
       "      <th>837</th>\n",
       "      <td>78.666667</td>\n",
       "      <td>female</td>\n",
       "      <td>group A</td>\n",
       "      <td>high school</td>\n",
       "      <td>standard</td>\n",
       "      <td>completed</td>\n",
       "    </tr>\n",
       "    <tr>\n",
       "      <th>194</th>\n",
       "      <td>79.333333</td>\n",
       "      <td>female</td>\n",
       "      <td>group C</td>\n",
       "      <td>master's degree</td>\n",
       "      <td>standard</td>\n",
       "      <td>completed</td>\n",
       "    </tr>\n",
       "  </tbody>\n",
       "</table>\n",
       "</div>"
      ],
      "text/plain": [
       "     overall score  gender race/ethnicity parental level of education  \\\n",
       "545      80.333333    male        group E            some high school   \n",
       "298      45.333333    male        group C                 high school   \n",
       "109      68.666667  female        group B            some high school   \n",
       "837      78.666667  female        group A                 high school   \n",
       "194      79.333333  female        group C             master's degree   \n",
       "\n",
       "            lunch test preparation course  \n",
       "545  free/reduced               completed  \n",
       "298  free/reduced               completed  \n",
       "109      standard                    none  \n",
       "837      standard               completed  \n",
       "194      standard               completed  "
      ]
     },
     "execution_count": 51,
     "metadata": {},
     "output_type": "execute_result"
    }
   ],
   "source": [
    "from sklearn.model_selection import train_test_split\n",
    "\n",
    "X_ = df3.drop(['overall score'], axis=1)\n",
    "y_ = df3['overall score']\n",
    "\n",
    "\n",
    "X_train1, X_test1, y_train1, y_test1 = train_test_split(X_, y_, test_size=0.3, random_state=101)\n",
    "\n",
    "dfTrain = pd.concat([y_train1, X_train1], axis=1, sort=False)\n",
    "dfTest = pd.concat([y_test1, X_test1], axis=1, sort=False)\n",
    "\n",
    "dfTest.head()"
   ]
  },
  {
   "cell_type": "code",
   "execution_count": 52,
   "metadata": {},
   "outputs": [
    {
     "data": {
      "text/html": [
       "<table class=\"simpletable\">\n",
       "<caption>OLS Regression Results</caption>\n",
       "<tr>\n",
       "  <th>Dep. Variable:</th>    <td>Q('overall score')</td> <th>  R-squared:         </th> <td>   0.269</td>\n",
       "</tr>\n",
       "<tr>\n",
       "  <th>Model:</th>                    <td>OLS</td>        <th>  Adj. R-squared:    </th> <td>   0.256</td>\n",
       "</tr>\n",
       "<tr>\n",
       "  <th>Method:</th>              <td>Least Squares</td>   <th>  F-statistic:       </th> <td>   21.03</td>\n",
       "</tr>\n",
       "<tr>\n",
       "  <th>Date:</th>              <td>Sun, 21 Apr 2019</td>  <th>  Prob (F-statistic):</th> <td>1.28e-39</td>\n",
       "</tr>\n",
       "<tr>\n",
       "  <th>Time:</th>                  <td>00:42:58</td>      <th>  Log-Likelihood:    </th> <td> -2756.9</td>\n",
       "</tr>\n",
       "<tr>\n",
       "  <th>No. Observations:</th>       <td>   700</td>       <th>  AIC:               </th> <td>   5540.</td>\n",
       "</tr>\n",
       "<tr>\n",
       "  <th>Df Residuals:</th>           <td>   687</td>       <th>  BIC:               </th> <td>   5599.</td>\n",
       "</tr>\n",
       "<tr>\n",
       "  <th>Df Model:</th>               <td>    12</td>       <th>                     </th>     <td> </td>   \n",
       "</tr>\n",
       "<tr>\n",
       "  <th>Covariance Type:</th>       <td>nonrobust</td>     <th>                     </th>     <td> </td>   \n",
       "</tr>\n",
       "</table>\n",
       "<table class=\"simpletable\">\n",
       "<tr>\n",
       "                              <td></td>                                <th>coef</th>     <th>std err</th>      <th>t</th>      <th>P>|t|</th>  <th>[0.025</th>    <th>0.975]</th>  \n",
       "</tr>\n",
       "<tr>\n",
       "  <th>Intercept</th>                                                <td>   65.4665</td> <td>    2.091</td> <td>   31.307</td> <td> 0.000</td> <td>   61.361</td> <td>   69.572</td>\n",
       "</tr>\n",
       "<tr>\n",
       "  <th>C(gender)[T.male]</th>                                        <td>   -3.8992</td> <td>    0.960</td> <td>   -4.063</td> <td> 0.000</td> <td>   -5.784</td> <td>   -2.015</td>\n",
       "</tr>\n",
       "<tr>\n",
       "  <th>C(lunch)[T.standard]</th>                                     <td>   10.2183</td> <td>    1.009</td> <td>   10.127</td> <td> 0.000</td> <td>    8.237</td> <td>   12.199</td>\n",
       "</tr>\n",
       "<tr>\n",
       "  <th>C(Q('race/ethnicity'))[T.group B]</th>                        <td>    1.7636</td> <td>    1.886</td> <td>    0.935</td> <td> 0.350</td> <td>   -1.939</td> <td>    5.466</td>\n",
       "</tr>\n",
       "<tr>\n",
       "  <th>C(Q('race/ethnicity'))[T.group C]</th>                        <td>    3.4611</td> <td>    1.765</td> <td>    1.960</td> <td> 0.050</td> <td>   -0.005</td> <td>    6.927</td>\n",
       "</tr>\n",
       "<tr>\n",
       "  <th>C(Q('race/ethnicity'))[T.group D]</th>                        <td>    5.6066</td> <td>    1.798</td> <td>    3.118</td> <td> 0.002</td> <td>    2.077</td> <td>    9.137</td>\n",
       "</tr>\n",
       "<tr>\n",
       "  <th>C(Q('race/ethnicity'))[T.group E]</th>                        <td>    8.6538</td> <td>    2.015</td> <td>    4.294</td> <td> 0.000</td> <td>    4.697</td> <td>   12.611</td>\n",
       "</tr>\n",
       "<tr>\n",
       "  <th>C(Q('parental level of education'))[T.bachelor's degree]</th> <td>    2.1812</td> <td>    1.703</td> <td>    1.281</td> <td> 0.201</td> <td>   -1.162</td> <td>    5.524</td>\n",
       "</tr>\n",
       "<tr>\n",
       "  <th>C(Q('parental level of education'))[T.high school]</th>       <td>   -5.7150</td> <td>    1.497</td> <td>   -3.818</td> <td> 0.000</td> <td>   -8.654</td> <td>   -2.776</td>\n",
       "</tr>\n",
       "<tr>\n",
       "  <th>C(Q('parental level of education'))[T.master's degree]</th>   <td>    2.7139</td> <td>    2.211</td> <td>    1.227</td> <td> 0.220</td> <td>   -1.627</td> <td>    7.055</td>\n",
       "</tr>\n",
       "<tr>\n",
       "  <th>C(Q('parental level of education'))[T.some college]</th>      <td>   -1.0327</td> <td>    1.406</td> <td>   -0.735</td> <td> 0.463</td> <td>   -3.793</td> <td>    1.727</td>\n",
       "</tr>\n",
       "<tr>\n",
       "  <th>C(Q('parental level of education'))[T.some high school]</th>  <td>   -5.5509</td> <td>    1.497</td> <td>   -3.708</td> <td> 0.000</td> <td>   -8.490</td> <td>   -2.612</td>\n",
       "</tr>\n",
       "<tr>\n",
       "  <th>C(Q('test preparation course'))[T.none]</th>                  <td>   -7.4684</td> <td>    0.996</td> <td>   -7.502</td> <td> 0.000</td> <td>   -9.423</td> <td>   -5.514</td>\n",
       "</tr>\n",
       "</table>\n",
       "<table class=\"simpletable\">\n",
       "<tr>\n",
       "  <th>Omnibus:</th>       <td> 7.280</td> <th>  Durbin-Watson:     </th> <td>   1.951</td>\n",
       "</tr>\n",
       "<tr>\n",
       "  <th>Prob(Omnibus):</th> <td> 0.026</td> <th>  Jarque-Bera (JB):  </th> <td>   7.433</td>\n",
       "</tr>\n",
       "<tr>\n",
       "  <th>Skew:</th>          <td>-0.248</td> <th>  Prob(JB):          </th> <td>  0.0243</td>\n",
       "</tr>\n",
       "<tr>\n",
       "  <th>Kurtosis:</th>      <td> 2.903</td> <th>  Cond. No.          </th> <td>    12.5</td>\n",
       "</tr>\n",
       "</table><br/><br/>Warnings:<br/>[1] Standard Errors assume that the covariance matrix of the errors is correctly specified."
      ],
      "text/plain": [
       "<class 'statsmodels.iolib.summary.Summary'>\n",
       "\"\"\"\n",
       "                            OLS Regression Results                            \n",
       "==============================================================================\n",
       "Dep. Variable:     Q('overall score')   R-squared:                       0.269\n",
       "Model:                            OLS   Adj. R-squared:                  0.256\n",
       "Method:                 Least Squares   F-statistic:                     21.03\n",
       "Date:                Sun, 21 Apr 2019   Prob (F-statistic):           1.28e-39\n",
       "Time:                        00:42:58   Log-Likelihood:                -2756.9\n",
       "No. Observations:                 700   AIC:                             5540.\n",
       "Df Residuals:                     687   BIC:                             5599.\n",
       "Df Model:                          12                                         \n",
       "Covariance Type:            nonrobust                                         \n",
       "============================================================================================================================\n",
       "                                                               coef    std err          t      P>|t|      [0.025      0.975]\n",
       "----------------------------------------------------------------------------------------------------------------------------\n",
       "Intercept                                                   65.4665      2.091     31.307      0.000      61.361      69.572\n",
       "C(gender)[T.male]                                           -3.8992      0.960     -4.063      0.000      -5.784      -2.015\n",
       "C(lunch)[T.standard]                                        10.2183      1.009     10.127      0.000       8.237      12.199\n",
       "C(Q('race/ethnicity'))[T.group B]                            1.7636      1.886      0.935      0.350      -1.939       5.466\n",
       "C(Q('race/ethnicity'))[T.group C]                            3.4611      1.765      1.960      0.050      -0.005       6.927\n",
       "C(Q('race/ethnicity'))[T.group D]                            5.6066      1.798      3.118      0.002       2.077       9.137\n",
       "C(Q('race/ethnicity'))[T.group E]                            8.6538      2.015      4.294      0.000       4.697      12.611\n",
       "C(Q('parental level of education'))[T.bachelor's degree]     2.1812      1.703      1.281      0.201      -1.162       5.524\n",
       "C(Q('parental level of education'))[T.high school]          -5.7150      1.497     -3.818      0.000      -8.654      -2.776\n",
       "C(Q('parental level of education'))[T.master's degree]       2.7139      2.211      1.227      0.220      -1.627       7.055\n",
       "C(Q('parental level of education'))[T.some college]         -1.0327      1.406     -0.735      0.463      -3.793       1.727\n",
       "C(Q('parental level of education'))[T.some high school]     -5.5509      1.497     -3.708      0.000      -8.490      -2.612\n",
       "C(Q('test preparation course'))[T.none]                     -7.4684      0.996     -7.502      0.000      -9.423      -5.514\n",
       "==============================================================================\n",
       "Omnibus:                        7.280   Durbin-Watson:                   1.951\n",
       "Prob(Omnibus):                  0.026   Jarque-Bera (JB):                7.433\n",
       "Skew:                          -0.248   Prob(JB):                       0.0243\n",
       "Kurtosis:                       2.903   Cond. No.                         12.5\n",
       "==============================================================================\n",
       "\n",
       "Warnings:\n",
       "[1] Standard Errors assume that the covariance matrix of the errors is correctly specified.\n",
       "\"\"\""
      ]
     },
     "execution_count": 52,
     "metadata": {},
     "output_type": "execute_result"
    }
   ],
   "source": [
    "\n",
    "# Try regression model without dummy coding\n",
    "from statsmodels.formula.api import ols\n",
    "from patsy.builtins import *\n",
    "\n",
    "\n",
    "#Test models for overall scores for train data\n",
    "# fit1 = ols(\"Q('overall score') ~ C(gender) + C(lunch) + C(Q('race/ethnicity')) + C(Q('parental level of education')) + C(Q('test preparation course'))\", data=dfTrain).fit()\n",
    "fit1 = ols(\"Q('overall score') ~ C(gender) + C(lunch) + C(Q('race/ethnicity')) + C(Q('parental level of education')) + C(Q('test preparation course'))\", data=dfTrain).fit()\n",
    "fit1.summary()"
   ]
  },
  {
   "cell_type": "code",
   "execution_count": 53,
   "metadata": {},
   "outputs": [],
   "source": [
    "y_pred = fit1.predict(X_test1)\n",
    "def toFrame(ySeries, yname):\n",
    "    y = pd.DataFrame(ySeries, columns = ['{}'.format(yname)])\n",
    "    return y\n",
    "     \n",
    "\n",
    "\n",
    "#Convert Series to DataFrame for easier use\n",
    "y_pred1 = toFrame(y_pred, 'predicted overall score')\n",
    "y_test1 = toFrame(dfTest['overall score'],'overall score')\n",
    "\n"
   ]
  },
  {
   "cell_type": "code",
   "execution_count": 54,
   "metadata": {},
   "outputs": [
    {
     "data": {
      "text/plain": [
       "12.5058"
      ]
     },
     "execution_count": 54,
     "metadata": {},
     "output_type": "execute_result"
    }
   ],
   "source": [
    "import math as m\n",
    "dfTrue_Pred = pd.concat([y_test1, y_pred1], axis=1, sort=False)\n",
    " \n",
    "def RMSE(true, predicted):\n",
    "    global MSE, RMSE\n",
    "    SE = (true - predicted).apply(lambda x: (m.pow((x),2)))\n",
    "    SSE = (SE.sum())\n",
    "    n = len(SE)\n",
    "    MSE = SSE/n;\n",
    "    RMSE = m.sqrt(MSE)\n",
    "    return RMSE\n",
    "\n",
    "\n",
    "round(RMSE(dfTrue_Pred['overall score'], dfTrue_Pred['predicted overall score']),4)"
   ]
  },
  {
   "cell_type": "markdown",
   "metadata": {},
   "source": [
    "#### From the alternative ols package (statsmodels.formula.api) the model metrics are:\n",
    "    R-Squared: 0.256\n",
    "    AIC: 5540\n",
    "    BIC: 5599\n",
    "    RMSE: 12.51"
   ]
  },
  {
   "cell_type": "markdown",
   "metadata": {},
   "source": [
    "### The higher R-square in the previous model might be due to autocorrelations within dummy variables"
   ]
  },
  {
   "cell_type": "code",
   "execution_count": 55,
   "metadata": {},
   "outputs": [
    {
     "data": {
      "text/plain": [
       "0.15462452389989845"
      ]
     },
     "execution_count": 55,
     "metadata": {},
     "output_type": "execute_result"
    }
   ],
   "source": [
    "# from sklearn.metrics import r2_score\n",
    "# r2_score(dfTrue_Pred['overall score'], dfTrue_Pred['predicted overall score'])\n",
    "\n",
    "from sklearn.metrics import explained_variance_score\n",
    "explained_variance_score(dfTrue_Pred['overall score'], dfTrue_Pred['predicted overall score'])"
   ]
  },
  {
   "cell_type": "code",
   "execution_count": null,
   "metadata": {},
   "outputs": [],
   "source": []
  }
 ],
 "metadata": {
  "kernelspec": {
   "display_name": "Python 3",
   "language": "python",
   "name": "python3"
  },
  "language_info": {
   "codemirror_mode": {
    "name": "ipython",
    "version": 3
   },
   "file_extension": ".py",
   "mimetype": "text/x-python",
   "name": "python",
   "nbconvert_exporter": "python",
   "pygments_lexer": "ipython3",
   "version": "3.7.1"
  }
 },
 "nbformat": 4,
 "nbformat_minor": 2
}
